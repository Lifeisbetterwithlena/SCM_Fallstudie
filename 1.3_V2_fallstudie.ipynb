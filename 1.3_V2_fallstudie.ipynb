{
  "nbformat": 4,
  "nbformat_minor": 0,
  "metadata": {
    "colab": {
      "provenance": [],
      "collapsed_sections": [
        "FznCQVc5-wbh",
        "D87-db6w-wKF",
        "ZriT_5GT_wQL"
      ]
    },
    "kernelspec": {
      "name": "python3",
      "display_name": "Python 3"
    },
    "language_info": {
      "name": "python"
    }
  },
  "cells": [
    {
      "cell_type": "markdown",
      "metadata": {
        "id": "b2fc884d"
      },
      "source": [
        "# Fallstudie Flink\n",
        "## Standortentscheidung Erweiterung "
      ]
    },
    {
      "cell_type": "markdown",
      "source": [
        "## Modell"
      ],
      "metadata": {
        "id": "eV_cjbhd-c2I"
      }
    },
    {
      "cell_type": "markdown",
      "source": [
        "### Indexmengen\n",
        "$s \\in S$ : Menge der potenziellen DarkStores (Standorte)\n",
        "\n",
        "$i \\in I$ : Menge der (Nachfrage) i-Koordinaten \n",
        "\n",
        "$j \\in J$ : Menge der (Nachfrage) j-Koordinaten  \n",
        "\n"
      ],
      "metadata": {
        "id": "FznCQVc5-wbh"
      }
    },
    {
      "cell_type": "markdown",
      "source": [
        "### Parameter\n",
        "$n_{ij}$ : Nachfrage an $i$$j$\n",
        "\n",
        "$u_{s}$ : Lagerumschlagsleistung an Standort $s$\n",
        "\n",
        "$c_{s}$ : Errichtungskosten für Standort $s$\n",
        "\n",
        "$ki_{s}$ : $i$-Kooridnate von Standort $s$ \n",
        "\n",
        "$kj_{s}$ : $j$-Kooridnate von Standort $s$ \n",
        "\n"
      ],
      "metadata": {
        "id": "D87-db6w-wKF"
      }
    },
    {
      "cell_type": "markdown",
      "source": [
        "### Entscheidungsvariablen\n",
        "\n",
        "$V_{sij} \\in \\{0,1\\}$ : Binäre Standort-Versorgungsvariable\n",
        "\n",
        "$Y_{s} \\in \\{0,1\\}$ : Binäre Standortausbauvariable\n",
        "\n",
        "### ----------\n",
        "#### Erweiterung \n",
        "\n",
        "$NA_{sij} \\ge 0$ : Nachfrageabdeckung von Standort $S$ an Quadrant  $ij$ \n",
        "\n",
        "$Q_{ij} \\in \\{0,1\\}$ : Binäre Versorgungsvariable (Quadrant)"
      ],
      "metadata": {
        "id": "ZriT_5GT_wQL"
      }
    },
    {
      "cell_type": "markdown",
      "source": [
        "\n",
        "\n",
        "### Alte Zielfunktion\n",
        "\n",
        "Maximiere Nachfrageabdeckung:\n",
        "\n",
        "Max $NA = \\sum_{s,i,j} (V_{s,i,j} * n_{i,j})$   \n",
        "\n",
        "\n",
        "### Neue Zielfunktion\n",
        "\n",
        "Maximiere Nachfrageabdeckung erweiterung:\n",
        "\n",
        "Max $NA = \\sum_{s,i,j} (NA_{s,i,j})$  "
      ],
      "metadata": {
        "id": "lUZoqj8e-wBa"
      }
    },
    {
      "cell_type": "markdown",
      "source": [
        "### Nebenbedingungen"
      ],
      "metadata": {
        "id": "2x-xiFCP-v0l"
      }
    },
    {
      "cell_type": "markdown",
      "source": [
        "**(1) Budget einhalten**\n",
        "\n",
        "$\\sum_{s} (c_s*Y_s) \\le 1.000.000 $\n",
        "\n",
        "Summe über: \n",
        "\n",
        "Kosten  für Ausbau * Entscheidung Ausbau <= Budget"
      ],
      "metadata": {
        "id": "6u_OSabxCAyB"
      }
    },
    {
      "cell_type": "markdown",
      "source": [
        "**(2) Lieferzeit einhalten**\n",
        "\n",
        "$(|ki_s - i| + |kj_s - j|)* v_{s,i,j} \\le 5 $\n",
        "\n",
        "$∀ s,i,j$\n",
        "\n",
        "\n",
        "Prüfe für jedes $s, i , j$:\n",
        "\n",
        "Entfernung  <= 5, wenn $ij$ von $s$ beliefert wird"
      ],
      "metadata": {
        "id": "hK_iqilARrsU"
      }
    },
    {
      "cell_type": "markdown",
      "source": [
        "**(3) Höchstens Doppelbedienung der Quandranden**\n",
        "\n",
        "$\\sum_s v_{s,i,j} \\le 2$\n",
        "\n",
        "$∀ i, j$\n",
        "\n",
        "Prüfe für alle Koordinaten, ob Belieferung kleiner gleich 1."
      ],
      "metadata": {
        "id": "fUhgNqZVSLHd"
      }
    },
    {
      "cell_type": "markdown",
      "source": [
        "**(4) Kapazitäten einhalten**\n",
        "\n",
        "$\\sum_{i,j} (NA_{s,i,j}) \\le u_s *Y_s $ \n",
        "\n",
        "$∀ s$\n",
        "\n",
        "Prüfe für jeden Standort:\n",
        "\n",
        "Summe Versorgung (ja/nein) * Nachfrageabdeckung  ist kleiner (gleich) als Umschlagsleistung. "
      ],
      "metadata": {
        "id": "o0sdZl-54q-J"
      }
    },
    {
      "cell_type": "markdown",
      "source": [
        "**(5) Nachfragebedienung**\n",
        "\n",
        "$\\sum_s NA_{s,i,j} = n_{i,j} *Q_{i,j}$ \n",
        "\n",
        "$∀ i,j$\n",
        "\n",
        "Summe aus der Nachfrageabdeckung aller Standorte für jede i und j ergibt die Nachfrge in i j, wenn der Quadrant bedient wird"
      ],
      "metadata": {
        "id": "kFEvFweF5ncG"
      }
    },
    {
      "cell_type": "markdown",
      "source": [
        "**(6) Nur wenn Ausbau, darf NA über 0 sein**\n",
        "\n",
        "$ NA_{s,i,j} <= n_{i,j} * Y_s$ \n",
        "\n",
        "$∀ s,i,j$"
      ],
      "metadata": {
        "id": "oXo-G_VXVMjA"
      }
    },
    {
      "cell_type": "markdown",
      "source": [
        "**(7) Nachfrageabdeckung nur über 0 wenn Versorgungsvariable 1**\n",
        "\n",
        "$NA_{s,i,j} <= n_{i,j} * V_{s,i,j}$ \n",
        "\n",
        "$∀ s,i,j$\n",
        "\n"
      ],
      "metadata": {
        "id": "ysZi2o2_BC5V"
      }
    },
    {
      "cell_type": "markdown",
      "source": [
        "## Implementierung"
      ],
      "metadata": {
        "id": "8T1IHcjpUBoZ"
      }
    },
    {
      "cell_type": "markdown",
      "source": [
        "## Datenaufbereitung\n",
        "\n",
        "\n",
        "1.   Fallstudien-Daten in Google-Drive laden\n",
        "2.   Google-Drive mit Colab-Notebook verbinden\n",
        "3.   Daten mit `pandas` laden\n",
        "\n"
      ],
      "metadata": {
        "id": "muy4OW--8Dp5"
      }
    },
    {
      "cell_type": "code",
      "source": [
        "from google.colab import drive\n",
        "drive.mount('/content/drive')"
      ],
      "metadata": {
        "id": "DkkKC0dg82Cc",
        "colab": {
          "base_uri": "https://localhost:8080/"
        },
        "outputId": "a27ddfc9-94f8-446a-8fcb-6a0c8da37031"
      },
      "execution_count": 3,
      "outputs": [
        {
          "output_type": "stream",
          "name": "stdout",
          "text": [
            "Drive already mounted at /content/drive; to attempt to forcibly remount, call drive.mount(\"/content/drive\", force_remount=True).\n"
          ]
        }
      ]
    },
    {
      "cell_type": "code",
      "source": [
        "# Ordner finden\n",
        "! ls drive/MyDrive/Industrielles_Management/Daten/Fallstudie"
      ],
      "metadata": {
        "id": "7MzXHG4B86Qx",
        "colab": {
          "base_uri": "https://localhost:8080/"
        },
        "outputId": "e7ee921d-26c0-4357-dc42-29a462007eef"
      },
      "execution_count": 4,
      "outputs": [
        {
          "output_type": "stream",
          "name": "stdout",
          "text": [
            "Nachfrage.csv  Standorte.csv\n"
          ]
        }
      ]
    },
    {
      "cell_type": "code",
      "source": [
        "# Pfad zurückgeben\n",
        "! cd drive/MyDrive/Industrielles_Management/Daten/Fallstudie && pwd"
      ],
      "metadata": {
        "id": "kkXWmM2i-OB3",
        "colab": {
          "base_uri": "https://localhost:8080/"
        },
        "outputId": "8f2f8e2f-a17f-4cf1-c927-b2f9b5085ef1"
      },
      "execution_count": 5,
      "outputs": [
        {
          "output_type": "stream",
          "name": "stdout",
          "text": [
            "/content/drive/MyDrive/Industrielles_Management/Daten/Fallstudie\n"
          ]
        }
      ]
    },
    {
      "cell_type": "code",
      "source": [
        "# Daten laden\n",
        "import pandas as pd"
      ],
      "metadata": {
        "id": "2-oi6YL28FEt"
      },
      "execution_count": 6,
      "outputs": []
    },
    {
      "cell_type": "code",
      "source": [
        "path = \"/content/drive/MyDrive/Industrielles_Management/Daten/Fallstudie\""
      ],
      "metadata": {
        "id": "m_knWvLgTtYP"
      },
      "execution_count": 7,
      "outputs": []
    },
    {
      "cell_type": "code",
      "source": [
        "# Nachfragedaten lesen & speichern\n",
        "nachfrage_df = pd.read_csv(f\"{path}/Nachfrage.csv\", sep=\";\")"
      ],
      "metadata": {
        "id": "uF0YYNBI8ILm"
      },
      "execution_count": 8,
      "outputs": []
    },
    {
      "cell_type": "code",
      "source": [
        "# Nachfragedaten ausgeben\n",
        "nachfrage_df"
      ],
      "metadata": {
        "id": "EkihB5ZxIavj",
        "colab": {
          "base_uri": "https://localhost:8080/",
          "height": 452
        },
        "outputId": "0a01e50c-e97d-42ff-f51d-4519d712e4ce"
      },
      "execution_count": 9,
      "outputs": [
        {
          "output_type": "execute_result",
          "data": {
            "text/plain": [
              "    Unnamed: 0   0   1   2   3   4   5   6   7   8   9  10  11  12\n",
              "0            0   7  91  34  77  33  47  43  51  81  28  88  74  81\n",
              "1            1  73  82  76  51  80  42  83  19  37  37  85  18  67\n",
              "2            2  85  57  67  14   1  92  41  32  16  83  65  39  18\n",
              "3            3  42  87  23  56  15  99  60  85  90  68   9  63  88\n",
              "4            4  23  93  36  65  96  31   8  54  27  74  59  70  36\n",
              "5            5   2  71  34  38  62  45  86  95  93  12  83  59  17\n",
              "6            6  31  41  54   1  97  73   5  73  44  93  94   2  56\n",
              "7            7  61  44  86   1  69  65  32  95  61  39   7  61  31\n",
              "8            8  59  49   1  70  86  26  62  40  96  82   3  20  83\n",
              "9            9  10  38  37  77  16  94  34  67  96  64  32  30  63\n",
              "10          10  56  35  21  89  28  60  90  21  65  25  68  73  43\n",
              "11          11  35  91   9  32  25  86  41  41  52   4  28  65  24\n",
              "12          12  13  10  17  42  61  37  52  66  10  13  15  72  83"
            ],
            "text/html": [
              "\n",
              "  <div id=\"df-7067847a-4a68-4290-af8b-1623720f63a1\">\n",
              "    <div class=\"colab-df-container\">\n",
              "      <div>\n",
              "<style scoped>\n",
              "    .dataframe tbody tr th:only-of-type {\n",
              "        vertical-align: middle;\n",
              "    }\n",
              "\n",
              "    .dataframe tbody tr th {\n",
              "        vertical-align: top;\n",
              "    }\n",
              "\n",
              "    .dataframe thead th {\n",
              "        text-align: right;\n",
              "    }\n",
              "</style>\n",
              "<table border=\"1\" class=\"dataframe\">\n",
              "  <thead>\n",
              "    <tr style=\"text-align: right;\">\n",
              "      <th></th>\n",
              "      <th>Unnamed: 0</th>\n",
              "      <th>0</th>\n",
              "      <th>1</th>\n",
              "      <th>2</th>\n",
              "      <th>3</th>\n",
              "      <th>4</th>\n",
              "      <th>5</th>\n",
              "      <th>6</th>\n",
              "      <th>7</th>\n",
              "      <th>8</th>\n",
              "      <th>9</th>\n",
              "      <th>10</th>\n",
              "      <th>11</th>\n",
              "      <th>12</th>\n",
              "    </tr>\n",
              "  </thead>\n",
              "  <tbody>\n",
              "    <tr>\n",
              "      <th>0</th>\n",
              "      <td>0</td>\n",
              "      <td>7</td>\n",
              "      <td>91</td>\n",
              "      <td>34</td>\n",
              "      <td>77</td>\n",
              "      <td>33</td>\n",
              "      <td>47</td>\n",
              "      <td>43</td>\n",
              "      <td>51</td>\n",
              "      <td>81</td>\n",
              "      <td>28</td>\n",
              "      <td>88</td>\n",
              "      <td>74</td>\n",
              "      <td>81</td>\n",
              "    </tr>\n",
              "    <tr>\n",
              "      <th>1</th>\n",
              "      <td>1</td>\n",
              "      <td>73</td>\n",
              "      <td>82</td>\n",
              "      <td>76</td>\n",
              "      <td>51</td>\n",
              "      <td>80</td>\n",
              "      <td>42</td>\n",
              "      <td>83</td>\n",
              "      <td>19</td>\n",
              "      <td>37</td>\n",
              "      <td>37</td>\n",
              "      <td>85</td>\n",
              "      <td>18</td>\n",
              "      <td>67</td>\n",
              "    </tr>\n",
              "    <tr>\n",
              "      <th>2</th>\n",
              "      <td>2</td>\n",
              "      <td>85</td>\n",
              "      <td>57</td>\n",
              "      <td>67</td>\n",
              "      <td>14</td>\n",
              "      <td>1</td>\n",
              "      <td>92</td>\n",
              "      <td>41</td>\n",
              "      <td>32</td>\n",
              "      <td>16</td>\n",
              "      <td>83</td>\n",
              "      <td>65</td>\n",
              "      <td>39</td>\n",
              "      <td>18</td>\n",
              "    </tr>\n",
              "    <tr>\n",
              "      <th>3</th>\n",
              "      <td>3</td>\n",
              "      <td>42</td>\n",
              "      <td>87</td>\n",
              "      <td>23</td>\n",
              "      <td>56</td>\n",
              "      <td>15</td>\n",
              "      <td>99</td>\n",
              "      <td>60</td>\n",
              "      <td>85</td>\n",
              "      <td>90</td>\n",
              "      <td>68</td>\n",
              "      <td>9</td>\n",
              "      <td>63</td>\n",
              "      <td>88</td>\n",
              "    </tr>\n",
              "    <tr>\n",
              "      <th>4</th>\n",
              "      <td>4</td>\n",
              "      <td>23</td>\n",
              "      <td>93</td>\n",
              "      <td>36</td>\n",
              "      <td>65</td>\n",
              "      <td>96</td>\n",
              "      <td>31</td>\n",
              "      <td>8</td>\n",
              "      <td>54</td>\n",
              "      <td>27</td>\n",
              "      <td>74</td>\n",
              "      <td>59</td>\n",
              "      <td>70</td>\n",
              "      <td>36</td>\n",
              "    </tr>\n",
              "    <tr>\n",
              "      <th>5</th>\n",
              "      <td>5</td>\n",
              "      <td>2</td>\n",
              "      <td>71</td>\n",
              "      <td>34</td>\n",
              "      <td>38</td>\n",
              "      <td>62</td>\n",
              "      <td>45</td>\n",
              "      <td>86</td>\n",
              "      <td>95</td>\n",
              "      <td>93</td>\n",
              "      <td>12</td>\n",
              "      <td>83</td>\n",
              "      <td>59</td>\n",
              "      <td>17</td>\n",
              "    </tr>\n",
              "    <tr>\n",
              "      <th>6</th>\n",
              "      <td>6</td>\n",
              "      <td>31</td>\n",
              "      <td>41</td>\n",
              "      <td>54</td>\n",
              "      <td>1</td>\n",
              "      <td>97</td>\n",
              "      <td>73</td>\n",
              "      <td>5</td>\n",
              "      <td>73</td>\n",
              "      <td>44</td>\n",
              "      <td>93</td>\n",
              "      <td>94</td>\n",
              "      <td>2</td>\n",
              "      <td>56</td>\n",
              "    </tr>\n",
              "    <tr>\n",
              "      <th>7</th>\n",
              "      <td>7</td>\n",
              "      <td>61</td>\n",
              "      <td>44</td>\n",
              "      <td>86</td>\n",
              "      <td>1</td>\n",
              "      <td>69</td>\n",
              "      <td>65</td>\n",
              "      <td>32</td>\n",
              "      <td>95</td>\n",
              "      <td>61</td>\n",
              "      <td>39</td>\n",
              "      <td>7</td>\n",
              "      <td>61</td>\n",
              "      <td>31</td>\n",
              "    </tr>\n",
              "    <tr>\n",
              "      <th>8</th>\n",
              "      <td>8</td>\n",
              "      <td>59</td>\n",
              "      <td>49</td>\n",
              "      <td>1</td>\n",
              "      <td>70</td>\n",
              "      <td>86</td>\n",
              "      <td>26</td>\n",
              "      <td>62</td>\n",
              "      <td>40</td>\n",
              "      <td>96</td>\n",
              "      <td>82</td>\n",
              "      <td>3</td>\n",
              "      <td>20</td>\n",
              "      <td>83</td>\n",
              "    </tr>\n",
              "    <tr>\n",
              "      <th>9</th>\n",
              "      <td>9</td>\n",
              "      <td>10</td>\n",
              "      <td>38</td>\n",
              "      <td>37</td>\n",
              "      <td>77</td>\n",
              "      <td>16</td>\n",
              "      <td>94</td>\n",
              "      <td>34</td>\n",
              "      <td>67</td>\n",
              "      <td>96</td>\n",
              "      <td>64</td>\n",
              "      <td>32</td>\n",
              "      <td>30</td>\n",
              "      <td>63</td>\n",
              "    </tr>\n",
              "    <tr>\n",
              "      <th>10</th>\n",
              "      <td>10</td>\n",
              "      <td>56</td>\n",
              "      <td>35</td>\n",
              "      <td>21</td>\n",
              "      <td>89</td>\n",
              "      <td>28</td>\n",
              "      <td>60</td>\n",
              "      <td>90</td>\n",
              "      <td>21</td>\n",
              "      <td>65</td>\n",
              "      <td>25</td>\n",
              "      <td>68</td>\n",
              "      <td>73</td>\n",
              "      <td>43</td>\n",
              "    </tr>\n",
              "    <tr>\n",
              "      <th>11</th>\n",
              "      <td>11</td>\n",
              "      <td>35</td>\n",
              "      <td>91</td>\n",
              "      <td>9</td>\n",
              "      <td>32</td>\n",
              "      <td>25</td>\n",
              "      <td>86</td>\n",
              "      <td>41</td>\n",
              "      <td>41</td>\n",
              "      <td>52</td>\n",
              "      <td>4</td>\n",
              "      <td>28</td>\n",
              "      <td>65</td>\n",
              "      <td>24</td>\n",
              "    </tr>\n",
              "    <tr>\n",
              "      <th>12</th>\n",
              "      <td>12</td>\n",
              "      <td>13</td>\n",
              "      <td>10</td>\n",
              "      <td>17</td>\n",
              "      <td>42</td>\n",
              "      <td>61</td>\n",
              "      <td>37</td>\n",
              "      <td>52</td>\n",
              "      <td>66</td>\n",
              "      <td>10</td>\n",
              "      <td>13</td>\n",
              "      <td>15</td>\n",
              "      <td>72</td>\n",
              "      <td>83</td>\n",
              "    </tr>\n",
              "  </tbody>\n",
              "</table>\n",
              "</div>\n",
              "      <button class=\"colab-df-convert\" onclick=\"convertToInteractive('df-7067847a-4a68-4290-af8b-1623720f63a1')\"\n",
              "              title=\"Convert this dataframe to an interactive table.\"\n",
              "              style=\"display:none;\">\n",
              "        \n",
              "  <svg xmlns=\"http://www.w3.org/2000/svg\" height=\"24px\"viewBox=\"0 0 24 24\"\n",
              "       width=\"24px\">\n",
              "    <path d=\"M0 0h24v24H0V0z\" fill=\"none\"/>\n",
              "    <path d=\"M18.56 5.44l.94 2.06.94-2.06 2.06-.94-2.06-.94-.94-2.06-.94 2.06-2.06.94zm-11 1L8.5 8.5l.94-2.06 2.06-.94-2.06-.94L8.5 2.5l-.94 2.06-2.06.94zm10 10l.94 2.06.94-2.06 2.06-.94-2.06-.94-.94-2.06-.94 2.06-2.06.94z\"/><path d=\"M17.41 7.96l-1.37-1.37c-.4-.4-.92-.59-1.43-.59-.52 0-1.04.2-1.43.59L10.3 9.45l-7.72 7.72c-.78.78-.78 2.05 0 2.83L4 21.41c.39.39.9.59 1.41.59.51 0 1.02-.2 1.41-.59l7.78-7.78 2.81-2.81c.8-.78.8-2.07 0-2.86zM5.41 20L4 18.59l7.72-7.72 1.47 1.35L5.41 20z\"/>\n",
              "  </svg>\n",
              "      </button>\n",
              "      \n",
              "  <style>\n",
              "    .colab-df-container {\n",
              "      display:flex;\n",
              "      flex-wrap:wrap;\n",
              "      gap: 12px;\n",
              "    }\n",
              "\n",
              "    .colab-df-convert {\n",
              "      background-color: #E8F0FE;\n",
              "      border: none;\n",
              "      border-radius: 50%;\n",
              "      cursor: pointer;\n",
              "      display: none;\n",
              "      fill: #1967D2;\n",
              "      height: 32px;\n",
              "      padding: 0 0 0 0;\n",
              "      width: 32px;\n",
              "    }\n",
              "\n",
              "    .colab-df-convert:hover {\n",
              "      background-color: #E2EBFA;\n",
              "      box-shadow: 0px 1px 2px rgba(60, 64, 67, 0.3), 0px 1px 3px 1px rgba(60, 64, 67, 0.15);\n",
              "      fill: #174EA6;\n",
              "    }\n",
              "\n",
              "    [theme=dark] .colab-df-convert {\n",
              "      background-color: #3B4455;\n",
              "      fill: #D2E3FC;\n",
              "    }\n",
              "\n",
              "    [theme=dark] .colab-df-convert:hover {\n",
              "      background-color: #434B5C;\n",
              "      box-shadow: 0px 1px 3px 1px rgba(0, 0, 0, 0.15);\n",
              "      filter: drop-shadow(0px 1px 2px rgba(0, 0, 0, 0.3));\n",
              "      fill: #FFFFFF;\n",
              "    }\n",
              "  </style>\n",
              "\n",
              "      <script>\n",
              "        const buttonEl =\n",
              "          document.querySelector('#df-7067847a-4a68-4290-af8b-1623720f63a1 button.colab-df-convert');\n",
              "        buttonEl.style.display =\n",
              "          google.colab.kernel.accessAllowed ? 'block' : 'none';\n",
              "\n",
              "        async function convertToInteractive(key) {\n",
              "          const element = document.querySelector('#df-7067847a-4a68-4290-af8b-1623720f63a1');\n",
              "          const dataTable =\n",
              "            await google.colab.kernel.invokeFunction('convertToInteractive',\n",
              "                                                     [key], {});\n",
              "          if (!dataTable) return;\n",
              "\n",
              "          const docLinkHtml = 'Like what you see? Visit the ' +\n",
              "            '<a target=\"_blank\" href=https://colab.research.google.com/notebooks/data_table.ipynb>data table notebook</a>'\n",
              "            + ' to learn more about interactive tables.';\n",
              "          element.innerHTML = '';\n",
              "          dataTable['output_type'] = 'display_data';\n",
              "          await google.colab.output.renderOutput(dataTable, element);\n",
              "          const docLink = document.createElement('div');\n",
              "          docLink.innerHTML = docLinkHtml;\n",
              "          element.appendChild(docLink);\n",
              "        }\n",
              "      </script>\n",
              "    </div>\n",
              "  </div>\n",
              "  "
            ]
          },
          "metadata": {},
          "execution_count": 9
        }
      ]
    },
    {
      "cell_type": "code",
      "source": [
        "\n",
        "# nachfrage is a dictionary of nachfrage_df. The first key are the values of column 1 (i coordinate) \n",
        "# the second key are the values of the columns (j coordinate)\n",
        "# skip the first column for the second key since it's not an j cooridnate\n",
        "\n",
        "nachfrage = {int(row[0]): {int(col): value for col, value in row.items() if col != 'Unnamed: 0'} for _, row in nachfrage_df.iterrows()}\n",
        "\n",
        "# test if it worked\n",
        "\n",
        "# nachfrage i=0 & j=7\n",
        "print(nachfrage[0][7])\n",
        "\n",
        "#nachfrage i=10 & j=12\n",
        "print(nachfrage[10][12])\n",
        "\n",
        "print(nachfrage[12][12])\n"
      ],
      "metadata": {
        "colab": {
          "base_uri": "https://localhost:8080/"
        },
        "id": "QxjS-MJ4NiAY",
        "outputId": "0047a1e0-fd5e-48de-d1f4-16b88845c453"
      },
      "execution_count": 10,
      "outputs": [
        {
          "output_type": "stream",
          "name": "stdout",
          "text": [
            "51\n",
            "43\n",
            "83\n"
          ]
        }
      ]
    },
    {
      "cell_type": "code",
      "source": [
        "# Standortdaten lesen & speichern\n",
        "standorte = pd.read_csv(f\"{path}/Standorte.csv\", sep=\";\", decimal=\",\")"
      ],
      "metadata": {
        "id": "NTSilRdI-_B5"
      },
      "execution_count": 11,
      "outputs": []
    },
    {
      "cell_type": "code",
      "source": [
        "# Standortdaten ausgeben\n",
        "standorte"
      ],
      "metadata": {
        "id": "SOEzklioIbzb",
        "colab": {
          "base_uri": "https://localhost:8080/",
          "height": 359
        },
        "outputId": "17667758-d970-47f8-feb4-40f4d18303a6"
      },
      "execution_count": 12,
      "outputs": [
        {
          "output_type": "execute_result",
          "data": {
            "text/plain": [
              "   Potenzielle_Standorte  i_Koordinate  j_Koordinate  Lagerumschlagleistung  \\\n",
              "0                      0             1             0                    500   \n",
              "1                      1             8            11                    600   \n",
              "2                      2            10             4                    500   \n",
              "3                      3            10            10                    750   \n",
              "4                      4            13             6                    725   \n",
              "5                      5             4             8                    750   \n",
              "6                      6            13             7                    455   \n",
              "7                      7             4             6                   3000   \n",
              "8                      8            12             6                   1400   \n",
              "9                      9             4             4                   2250   \n",
              "\n",
              "   Errichtungskosten  \n",
              "0             100000  \n",
              "1              90000  \n",
              "2              95000  \n",
              "3             101000  \n",
              "4              98500  \n",
              "5              97500  \n",
              "6             105000  \n",
              "7             225000  \n",
              "8             300000  \n",
              "9             200000  "
            ],
            "text/html": [
              "\n",
              "  <div id=\"df-4faf5e47-1def-460d-b9cb-275a8f43ec74\">\n",
              "    <div class=\"colab-df-container\">\n",
              "      <div>\n",
              "<style scoped>\n",
              "    .dataframe tbody tr th:only-of-type {\n",
              "        vertical-align: middle;\n",
              "    }\n",
              "\n",
              "    .dataframe tbody tr th {\n",
              "        vertical-align: top;\n",
              "    }\n",
              "\n",
              "    .dataframe thead th {\n",
              "        text-align: right;\n",
              "    }\n",
              "</style>\n",
              "<table border=\"1\" class=\"dataframe\">\n",
              "  <thead>\n",
              "    <tr style=\"text-align: right;\">\n",
              "      <th></th>\n",
              "      <th>Potenzielle_Standorte</th>\n",
              "      <th>i_Koordinate</th>\n",
              "      <th>j_Koordinate</th>\n",
              "      <th>Lagerumschlagleistung</th>\n",
              "      <th>Errichtungskosten</th>\n",
              "    </tr>\n",
              "  </thead>\n",
              "  <tbody>\n",
              "    <tr>\n",
              "      <th>0</th>\n",
              "      <td>0</td>\n",
              "      <td>1</td>\n",
              "      <td>0</td>\n",
              "      <td>500</td>\n",
              "      <td>100000</td>\n",
              "    </tr>\n",
              "    <tr>\n",
              "      <th>1</th>\n",
              "      <td>1</td>\n",
              "      <td>8</td>\n",
              "      <td>11</td>\n",
              "      <td>600</td>\n",
              "      <td>90000</td>\n",
              "    </tr>\n",
              "    <tr>\n",
              "      <th>2</th>\n",
              "      <td>2</td>\n",
              "      <td>10</td>\n",
              "      <td>4</td>\n",
              "      <td>500</td>\n",
              "      <td>95000</td>\n",
              "    </tr>\n",
              "    <tr>\n",
              "      <th>3</th>\n",
              "      <td>3</td>\n",
              "      <td>10</td>\n",
              "      <td>10</td>\n",
              "      <td>750</td>\n",
              "      <td>101000</td>\n",
              "    </tr>\n",
              "    <tr>\n",
              "      <th>4</th>\n",
              "      <td>4</td>\n",
              "      <td>13</td>\n",
              "      <td>6</td>\n",
              "      <td>725</td>\n",
              "      <td>98500</td>\n",
              "    </tr>\n",
              "    <tr>\n",
              "      <th>5</th>\n",
              "      <td>5</td>\n",
              "      <td>4</td>\n",
              "      <td>8</td>\n",
              "      <td>750</td>\n",
              "      <td>97500</td>\n",
              "    </tr>\n",
              "    <tr>\n",
              "      <th>6</th>\n",
              "      <td>6</td>\n",
              "      <td>13</td>\n",
              "      <td>7</td>\n",
              "      <td>455</td>\n",
              "      <td>105000</td>\n",
              "    </tr>\n",
              "    <tr>\n",
              "      <th>7</th>\n",
              "      <td>7</td>\n",
              "      <td>4</td>\n",
              "      <td>6</td>\n",
              "      <td>3000</td>\n",
              "      <td>225000</td>\n",
              "    </tr>\n",
              "    <tr>\n",
              "      <th>8</th>\n",
              "      <td>8</td>\n",
              "      <td>12</td>\n",
              "      <td>6</td>\n",
              "      <td>1400</td>\n",
              "      <td>300000</td>\n",
              "    </tr>\n",
              "    <tr>\n",
              "      <th>9</th>\n",
              "      <td>9</td>\n",
              "      <td>4</td>\n",
              "      <td>4</td>\n",
              "      <td>2250</td>\n",
              "      <td>200000</td>\n",
              "    </tr>\n",
              "  </tbody>\n",
              "</table>\n",
              "</div>\n",
              "      <button class=\"colab-df-convert\" onclick=\"convertToInteractive('df-4faf5e47-1def-460d-b9cb-275a8f43ec74')\"\n",
              "              title=\"Convert this dataframe to an interactive table.\"\n",
              "              style=\"display:none;\">\n",
              "        \n",
              "  <svg xmlns=\"http://www.w3.org/2000/svg\" height=\"24px\"viewBox=\"0 0 24 24\"\n",
              "       width=\"24px\">\n",
              "    <path d=\"M0 0h24v24H0V0z\" fill=\"none\"/>\n",
              "    <path d=\"M18.56 5.44l.94 2.06.94-2.06 2.06-.94-2.06-.94-.94-2.06-.94 2.06-2.06.94zm-11 1L8.5 8.5l.94-2.06 2.06-.94-2.06-.94L8.5 2.5l-.94 2.06-2.06.94zm10 10l.94 2.06.94-2.06 2.06-.94-2.06-.94-.94-2.06-.94 2.06-2.06.94z\"/><path d=\"M17.41 7.96l-1.37-1.37c-.4-.4-.92-.59-1.43-.59-.52 0-1.04.2-1.43.59L10.3 9.45l-7.72 7.72c-.78.78-.78 2.05 0 2.83L4 21.41c.39.39.9.59 1.41.59.51 0 1.02-.2 1.41-.59l7.78-7.78 2.81-2.81c.8-.78.8-2.07 0-2.86zM5.41 20L4 18.59l7.72-7.72 1.47 1.35L5.41 20z\"/>\n",
              "  </svg>\n",
              "      </button>\n",
              "      \n",
              "  <style>\n",
              "    .colab-df-container {\n",
              "      display:flex;\n",
              "      flex-wrap:wrap;\n",
              "      gap: 12px;\n",
              "    }\n",
              "\n",
              "    .colab-df-convert {\n",
              "      background-color: #E8F0FE;\n",
              "      border: none;\n",
              "      border-radius: 50%;\n",
              "      cursor: pointer;\n",
              "      display: none;\n",
              "      fill: #1967D2;\n",
              "      height: 32px;\n",
              "      padding: 0 0 0 0;\n",
              "      width: 32px;\n",
              "    }\n",
              "\n",
              "    .colab-df-convert:hover {\n",
              "      background-color: #E2EBFA;\n",
              "      box-shadow: 0px 1px 2px rgba(60, 64, 67, 0.3), 0px 1px 3px 1px rgba(60, 64, 67, 0.15);\n",
              "      fill: #174EA6;\n",
              "    }\n",
              "\n",
              "    [theme=dark] .colab-df-convert {\n",
              "      background-color: #3B4455;\n",
              "      fill: #D2E3FC;\n",
              "    }\n",
              "\n",
              "    [theme=dark] .colab-df-convert:hover {\n",
              "      background-color: #434B5C;\n",
              "      box-shadow: 0px 1px 3px 1px rgba(0, 0, 0, 0.15);\n",
              "      filter: drop-shadow(0px 1px 2px rgba(0, 0, 0, 0.3));\n",
              "      fill: #FFFFFF;\n",
              "    }\n",
              "  </style>\n",
              "\n",
              "      <script>\n",
              "        const buttonEl =\n",
              "          document.querySelector('#df-4faf5e47-1def-460d-b9cb-275a8f43ec74 button.colab-df-convert');\n",
              "        buttonEl.style.display =\n",
              "          google.colab.kernel.accessAllowed ? 'block' : 'none';\n",
              "\n",
              "        async function convertToInteractive(key) {\n",
              "          const element = document.querySelector('#df-4faf5e47-1def-460d-b9cb-275a8f43ec74');\n",
              "          const dataTable =\n",
              "            await google.colab.kernel.invokeFunction('convertToInteractive',\n",
              "                                                     [key], {});\n",
              "          if (!dataTable) return;\n",
              "\n",
              "          const docLinkHtml = 'Like what you see? Visit the ' +\n",
              "            '<a target=\"_blank\" href=https://colab.research.google.com/notebooks/data_table.ipynb>data table notebook</a>'\n",
              "            + ' to learn more about interactive tables.';\n",
              "          element.innerHTML = '';\n",
              "          dataTable['output_type'] = 'display_data';\n",
              "          await google.colab.output.renderOutput(dataTable, element);\n",
              "          const docLink = document.createElement('div');\n",
              "          docLink.innerHTML = docLinkHtml;\n",
              "          element.appendChild(docLink);\n",
              "        }\n",
              "      </script>\n",
              "    </div>\n",
              "  </div>\n",
              "  "
            ]
          },
          "metadata": {},
          "execution_count": 12
        }
      ]
    },
    {
      "cell_type": "markdown",
      "metadata": {
        "id": "798a67ee"
      },
      "source": [
        "## Indexmengen"
      ]
    },
    {
      "cell_type": "code",
      "source": [
        "# Standorte\n",
        "S = standorte[\"Potenzielle_Standorte\"].unique().tolist() # Menge der Standorte\n"
      ],
      "metadata": {
        "id": "ep4tx586Ze_f"
      },
      "execution_count": 13,
      "outputs": []
    },
    {
      "cell_type": "code",
      "source": [
        "# Ausgabe Standorte\n",
        "S"
      ],
      "metadata": {
        "colab": {
          "base_uri": "https://localhost:8080/"
        },
        "id": "pDxFDY0PElOz",
        "outputId": "48609868-46bd-4761-ec03-695bdc3e0c6a"
      },
      "execution_count": 14,
      "outputs": [
        {
          "output_type": "execute_result",
          "data": {
            "text/plain": [
              "[0, 1, 2, 3, 4, 5, 6, 7, 8, 9]"
            ]
          },
          "metadata": {},
          "execution_count": 14
        }
      ]
    },
    {
      "cell_type": "code",
      "source": [
        "# I Kooritnaten\n",
        "I = [key for key, value in nachfrage.items()]\n",
        "\n",
        "print('I-Koordinaten: ' + str(I))"
      ],
      "metadata": {
        "id": "IxhGizoPNrPB",
        "colab": {
          "base_uri": "https://localhost:8080/"
        },
        "outputId": "d655f4c2-dede-446c-a55b-a1c643291ad6"
      },
      "execution_count": 15,
      "outputs": [
        {
          "output_type": "stream",
          "name": "stdout",
          "text": [
            "I-Koordinaten: [0, 1, 2, 3, 4, 5, 6, 7, 8, 9, 10, 11, 12]\n"
          ]
        }
      ]
    },
    {
      "cell_type": "code",
      "source": [
        "# J Koordinaten\n",
        "J = [list(value.keys()) for value in nachfrage.values()][0]\n",
        "\n",
        "print('J-Koordinaten: ' + str(J))\n"
      ],
      "metadata": {
        "colab": {
          "base_uri": "https://localhost:8080/"
        },
        "id": "O-IqlIEgkS49",
        "outputId": "c52c18b2-8a3f-4a03-b5aa-af4c7519fd7e"
      },
      "execution_count": 16,
      "outputs": [
        {
          "output_type": "stream",
          "name": "stdout",
          "text": [
            "J-Koordinaten: [0, 1, 2, 3, 4, 5, 6, 7, 8, 9, 10, 11, 12]\n"
          ]
        }
      ]
    },
    {
      "cell_type": "markdown",
      "metadata": {
        "id": "b99b4ca0"
      },
      "source": [
        "## Parameter"
      ]
    },
    {
      "cell_type": "code",
      "source": [
        "# Standortkoordinaten\n",
        "\n",
        "# I-Koordinate von Standort S\n",
        "ki = standorte.set_index([\"Potenzielle_Standorte\"]).to_dict(\"dict\")[\"i_Koordinate\"]\n",
        "\n",
        "# J-Koordinate von Standort S\n",
        "kj = standorte.set_index([\"Potenzielle_Standorte\"]).to_dict(\"dict\")[\"j_Koordinate\"]\n",
        "\n",
        "# check\n",
        "print(ki)\n",
        "\n",
        "print(kj)"
      ],
      "metadata": {
        "id": "LnaXtWEACWoU",
        "colab": {
          "base_uri": "https://localhost:8080/"
        },
        "outputId": "6c08a7f1-0c3f-4494-ed22-e1f077a5b5be"
      },
      "execution_count": 17,
      "outputs": [
        {
          "output_type": "stream",
          "name": "stdout",
          "text": [
            "{0: 1, 1: 8, 2: 10, 3: 10, 4: 13, 5: 4, 6: 13, 7: 4, 8: 12, 9: 4}\n",
            "{0: 0, 1: 11, 2: 4, 3: 10, 4: 6, 5: 8, 6: 7, 7: 6, 8: 6, 9: 4}\n"
          ]
        }
      ]
    },
    {
      "cell_type": "code",
      "source": [
        "# Umschlagsleistung\n",
        "u = standorte.set_index([\"Potenzielle_Standorte\"]).to_dict(\"dict\")[\"Lagerumschlagleistung\"]\n",
        "#check\n",
        "u\n"
      ],
      "metadata": {
        "id": "-k__H4DlP84P",
        "colab": {
          "base_uri": "https://localhost:8080/"
        },
        "outputId": "f04f116f-69ae-42ee-bb99-5138747bb61e"
      },
      "execution_count": 18,
      "outputs": [
        {
          "output_type": "execute_result",
          "data": {
            "text/plain": [
              "{0: 500,\n",
              " 1: 600,\n",
              " 2: 500,\n",
              " 3: 750,\n",
              " 4: 725,\n",
              " 5: 750,\n",
              " 6: 455,\n",
              " 7: 3000,\n",
              " 8: 1400,\n",
              " 9: 2250}"
            ]
          },
          "metadata": {},
          "execution_count": 18
        }
      ]
    },
    {
      "cell_type": "code",
      "source": [
        "# Errichtungskosten\n",
        "c = standorte.set_index([\"Potenzielle_Standorte\"]).to_dict(\"dict\")[\"Errichtungskosten\"]\n",
        "#check\n",
        "c"
      ],
      "metadata": {
        "colab": {
          "base_uri": "https://localhost:8080/"
        },
        "id": "Wqn1TBOqx2y1",
        "outputId": "d2e77884-7855-467c-e004-d3655404bcef"
      },
      "execution_count": 19,
      "outputs": [
        {
          "output_type": "execute_result",
          "data": {
            "text/plain": [
              "{0: 100000,\n",
              " 1: 90000,\n",
              " 2: 95000,\n",
              " 3: 101000,\n",
              " 4: 98500,\n",
              " 5: 97500,\n",
              " 6: 105000,\n",
              " 7: 225000,\n",
              " 8: 300000,\n",
              " 9: 200000}"
            ]
          },
          "metadata": {},
          "execution_count": 19
        }
      ]
    },
    {
      "cell_type": "code",
      "source": [
        "# Nachfrage\n",
        "n = nachfrage\n",
        "#check\n",
        "n[0][0]"
      ],
      "metadata": {
        "id": "QvTVt7VaD1fC",
        "colab": {
          "base_uri": "https://localhost:8080/"
        },
        "outputId": "9524500f-72d8-4a40-b64f-03280219c1c6"
      },
      "execution_count": 20,
      "outputs": [
        {
          "output_type": "execute_result",
          "data": {
            "text/plain": [
              "7"
            ]
          },
          "metadata": {},
          "execution_count": 20
        }
      ]
    },
    {
      "cell_type": "markdown",
      "source": [
        "## Solver"
      ],
      "metadata": {
        "id": "kTBThlJdauwD"
      }
    },
    {
      "cell_type": "code",
      "source": [
        "# Notwendigen Programminstallationen\n",
        "# pip als Paketmanager\n",
        "!pip install -U -q pip\n",
        "!pip install -q ortools\n",
        "# Laden des Programms\n",
        "from ortools.linear_solver import pywraplp"
      ],
      "metadata": {
        "colab": {
          "base_uri": "https://localhost:8080/"
        },
        "id": "MFqMkwE1a0Fk",
        "outputId": "373f87d3-c057-4d97-93d4-61b5fc51ffd1"
      },
      "execution_count": 21,
      "outputs": [
        {
          "output_type": "stream",
          "name": "stdout",
          "text": [
            "\u001b[2K     \u001b[90m━━━━━━━━━━━━━━━━━━━━━━━━━━━━━━━━━━━━━━━━\u001b[0m \u001b[32m2.1/2.1 MB\u001b[0m \u001b[31m32.1 MB/s\u001b[0m eta \u001b[36m0:00:00\u001b[0m\n",
            "\u001b[2K     \u001b[90m━━━━━━━━━━━━━━━━━━━━━━━━━━━━━━━━━━━━━━━━\u001b[0m \u001b[32m16.3/16.3 MB\u001b[0m \u001b[31m51.4 MB/s\u001b[0m eta \u001b[36m0:00:00\u001b[0m\n",
            "\u001b[2K     \u001b[90m━━━━━━━━━━━━━━━━━━━━━━━━━━━━━━━━━━━━━━\u001b[0m \u001b[32m409.8/409.8 kB\u001b[0m \u001b[31m19.6 MB/s\u001b[0m eta \u001b[36m0:00:00\u001b[0m\n",
            "\u001b[?25h\u001b[31mERROR: pip's dependency resolver does not currently take into account all the packages that are installed. This behaviour is the source of the following dependency conflicts.\n",
            "tensorflow 2.9.2 requires protobuf<3.20,>=3.9.2, but you have protobuf 4.21.12 which is incompatible.\n",
            "tensorflow-metadata 1.12.0 requires protobuf<4,>=3.13, but you have protobuf 4.21.12 which is incompatible.\n",
            "tensorboard 2.9.1 requires protobuf<3.20,>=3.9.2, but you have protobuf 4.21.12 which is incompatible.\u001b[0m\u001b[31m\n",
            "\u001b[0m\u001b[33mWARNING: Running pip as the 'root' user can result in broken permissions and conflicting behaviour with the system package manager. It is recommended to use a virtual environment instead: https://pip.pypa.io/warnings/venv\u001b[0m\u001b[33m\n",
            "\u001b[0m"
          ]
        }
      ]
    },
    {
      "cell_type": "code",
      "source": [
        "# Solver mit SCIP als Backend.\n",
        "# SCIP implementiert Simplex, Branch-and-Bound, etc\n",
        "solver = pywraplp.Solver.CreateSolver('SCIP')\n",
        "# Erstelle einen Solver\n",
        "#solver = pywraplp.Solver('solver_fallstudie', pywraplp.Solver.GLPK_MIXED_INTEGER_PROGRAMMING)\n"
      ],
      "metadata": {
        "id": "vCOeFts2a5Wc"
      },
      "execution_count": 22,
      "outputs": []
    },
    {
      "cell_type": "markdown",
      "metadata": {
        "id": "d1f9cf18"
      },
      "source": [
        "## Entscheidungsvariablen"
      ]
    },
    {
      "cell_type": "code",
      "source": [
        "# Entscheidung über Versorgung von Quandrand ij\n",
        "\n",
        "Q={}\n",
        "for i in I:\n",
        "  for j in J:\n",
        "        Q[i,j] = solver.BoolVar(f\"{i},{j}\")\n",
        "\n",
        "#check\n",
        "Q[1,0]\n"
      ],
      "metadata": {
        "id": "iikHZiRE8481",
        "colab": {
          "base_uri": "https://localhost:8080/"
        },
        "outputId": "f736d602-9142-4ec0-90e9-db8e3a2baabf"
      },
      "execution_count": 24,
      "outputs": [
        {
          "output_type": "execute_result",
          "data": {
            "text/plain": [
              "1,0"
            ]
          },
          "metadata": {},
          "execution_count": 24
        }
      ]
    },
    {
      "cell_type": "code",
      "source": [
        "# Binäre Versorgungsvariable\n",
        "V={}\n",
        "for s in S: \n",
        "  for i in I:\n",
        "    for j in J:\n",
        "        V[s,i,j] = solver.BoolVar(f\"{s},{i},{j}\")\n",
        "\n",
        "#check\n",
        "V[1,3,7]"
      ],
      "metadata": {
        "colab": {
          "base_uri": "https://localhost:8080/"
        },
        "id": "nxCunJ1Tv47J",
        "outputId": "b7197db7-04d0-4252-9e5b-40f1644263d8"
      },
      "execution_count": 25,
      "outputs": [
        {
          "output_type": "execute_result",
          "data": {
            "text/plain": [
              "1,3,7"
            ]
          },
          "metadata": {},
          "execution_count": 25
        }
      ]
    },
    {
      "cell_type": "code",
      "source": [
        "# Binäre Standortausbauvariable\n",
        "Y={}\n",
        "for s in S:\n",
        "  Y[s] = solver.BoolVar(f\"{s}\")\n",
        "\n",
        "\n",
        "#check\n",
        "Y[1]"
      ],
      "metadata": {
        "colab": {
          "base_uri": "https://localhost:8080/"
        },
        "id": "6IkKpEdN1FrJ",
        "outputId": "ebdd1b21-95f3-4d4a-c573-a20350cb4709"
      },
      "execution_count": 26,
      "outputs": [
        {
          "output_type": "execute_result",
          "data": {
            "text/plain": [
              "1"
            ]
          },
          "metadata": {},
          "execution_count": 26
        }
      ]
    },
    {
      "cell_type": "code",
      "source": [
        "# Nachfrageabdeckung \n",
        "\n",
        "#Obergrenze unendlich (float)\n",
        "infinity = solver.infinity()\n",
        "\n",
        "NA={}\n",
        "for s in S:\n",
        "  for i in I:\n",
        "      for j in J:\n",
        "        NA[s,i,j] = solver.NumVar(0.0, infinity, f\"{s},{i},{j}\")\n"
      ],
      "metadata": {
        "id": "CLLPTrOd4btN"
      },
      "execution_count": 27,
      "outputs": []
    },
    {
      "cell_type": "code",
      "source": [
        "print('Anzahl Entscheidungsvariablen =', solver.NumVariables())"
      ],
      "metadata": {
        "id": "hN6GY-5YBA9Y",
        "colab": {
          "base_uri": "https://localhost:8080/"
        },
        "outputId": "0700bb93-14d9-45c0-a555-8a21dc8e504d"
      },
      "execution_count": 28,
      "outputs": [
        {
          "output_type": "stream",
          "name": "stdout",
          "text": [
            "Anzahl Entscheidungsvariablen = 3728\n"
          ]
        }
      ]
    },
    {
      "cell_type": "markdown",
      "metadata": {
        "id": "c9eede10"
      },
      "source": [
        "## Zielfunktion"
      ]
    },
    {
      "cell_type": "markdown",
      "source": [
        "\n",
        "\n",
        "### Alte Zielfunktion\n",
        "\n",
        "Maximiere Nachfrageabdeckung:\n",
        "\n",
        "Max $NA = \\sum_{s,i,j} (V_{s,i,j} * n_{i,j})$   \n",
        "\n",
        "\n",
        "### Neue Zielfunktion\n",
        "\n",
        "Maximiere Nachfrageabdeckung erweiterung:\n",
        "\n",
        "Max $NA = \\sum_{s,i,j} (NA_{s,i,j})$  \n"
      ],
      "metadata": {
        "id": "Wyzj6VKG2Btf"
      }
    },
    {
      "cell_type": "code",
      "source": [
        "solver.Maximize(sum(NA[s,i,j] for s in S for i in I for j in J))"
      ],
      "metadata": {
        "id": "uGdGI2sr2Dyh"
      },
      "execution_count": 29,
      "outputs": []
    },
    {
      "cell_type": "markdown",
      "metadata": {
        "id": "a8534816"
      },
      "source": [
        "## Nebenbedingungen"
      ]
    },
    {
      "cell_type": "markdown",
      "source": [
        "**(1) Budget einhalten**\n",
        "\n",
        "$\\sum_{s} (c_s*Y_s) \\le 1.000.000 $\n",
        "\n",
        "Summe über: \n",
        "\n",
        "Kosten  für Ausbau * Entscheidung Ausbau <= Budget"
      ],
      "metadata": {
        "id": "0408vUQT7v3r"
      }
    },
    {
      "cell_type": "code",
      "source": [
        "\n",
        "solver.Add(sum(c[s]*Y[s] for s in S)<= 1000000)\n",
        " "
      ],
      "metadata": {
        "id": "0q4H4wEGh3zw",
        "outputId": "ff0552ab-b453-4ea6-8079-07deb326d6bf",
        "colab": {
          "base_uri": "https://localhost:8080/"
        }
      },
      "execution_count": 30,
      "outputs": [
        {
          "output_type": "execute_result",
          "data": {
            "text/plain": [
              "<ortools.linear_solver.pywraplp.Constraint; proxy of <Swig Object of type 'operations_research::MPConstraint *' at 0x7f6bd01eb7e0> >"
            ]
          },
          "metadata": {},
          "execution_count": 30
        }
      ]
    },
    {
      "cell_type": "markdown",
      "source": [
        "**(2) Lieferzeit einhalten**\n",
        "\n",
        "$(|ki_s - i| + |kj_s - j|)* v_{s,i,j} \\le 5 $\n",
        "\n",
        "$∀ s,i,j$\n",
        "\n",
        "\n",
        "Prüfe für jedes $s, i , j$:\n",
        "\n",
        "Entfernung  <= 5, wenn $ij$ von $s$ beliefert wird"
      ],
      "metadata": {
        "id": "fuLDgmy67v3s"
      }
    },
    {
      "cell_type": "code",
      "source": [
        "for s in S:\n",
        " for i in I:\n",
        "    for j in J:\n",
        "      solver.Add(((abs(ki[s]-i) +abs(kj[s]- j))*V[s,i,j])<=5)\n"
      ],
      "metadata": {
        "id": "Fjwkcnd484bd"
      },
      "execution_count": 31,
      "outputs": []
    },
    {
      "cell_type": "markdown",
      "source": [
        "**(3) Höchstens Doppelbedienung der Quandranden**\n",
        "\n",
        "$\\sum_s v_{s,i,j} \\le 2$\n",
        "\n",
        "$∀ i, j$\n",
        "\n",
        "Prüfe für alle Koordinaten, ob Belieferung kleiner gleich 1."
      ],
      "metadata": {
        "id": "Fv9tpzwZ7v3s"
      }
    },
    {
      "cell_type": "code",
      "source": [
        "for i in I:\n",
        "  for j in J:\n",
        "    solver.Add(sum(V[s,i,j] for s in S)<=2)"
      ],
      "metadata": {
        "id": "zPGlBe1UCEsj"
      },
      "execution_count": 32,
      "outputs": []
    },
    {
      "cell_type": "markdown",
      "source": [
        "**(4) Kapazitäten einhalten**\n",
        "\n",
        "$\\sum_{i,j} (V_{s,i,j}* NA_{s,i,j}) \\le u_s *Y_s $\n",
        "\n",
        "$∀ s$\n",
        "\n",
        "Prüfe für jeden Standort:\n",
        "\n",
        "Summe Versorgung (ja/nein) * Nachfrage  ist kleiner (gleich) als Umschlagsleistung. "
      ],
      "metadata": {
        "id": "BjAQOOOU7v3s"
      }
    },
    {
      "cell_type": "code",
      "source": [
        "for s in S:\n",
        "  solver.Add(sum(NA[s,i,j] for i in I for j in J)<= (u[s]* Y[s]))\n",
        "\n"
      ],
      "metadata": {
        "id": "mRoL1ZRDHIee"
      },
      "execution_count": 34,
      "outputs": []
    },
    {
      "cell_type": "markdown",
      "source": [
        "**(5) Nachfragebedienung**\n",
        "\n",
        "$\\sum_s NA_{s,i,j} = n_{i,j} *Q_{i,j}$ \n",
        "\n",
        "$∀ i,j$\n",
        "\n",
        "Summe aus der Nachfrageabdeckung aller Standorte für jede i und j ergibt die Nachfrge in i j, wenn der Quadrant bedient wird"
      ],
      "metadata": {
        "id": "uGf01aZl6G-V"
      }
    },
    {
      "cell_type": "code",
      "source": [
        "for i in I:\n",
        "  for j in J:\n",
        "    solver.Add(sum(NA[s,i,j] for s in S) == (n[i][j]*Q[i,j]))"
      ],
      "metadata": {
        "id": "hmpsA5JY6FcS"
      },
      "execution_count": 35,
      "outputs": []
    },
    {
      "cell_type": "markdown",
      "source": [
        "**(6) Nur wenn Ausbau, darf NA über 0 sein**\n",
        "\n",
        "$ NA_{s,i,j} <= n_{i,j} * Y_s$ \n",
        "\n",
        "$∀ s,i,j$"
      ],
      "metadata": {
        "id": "PAC2ImbZ_C84"
      }
    },
    {
      "cell_type": "code",
      "source": [
        "\n",
        "for s in S:\n",
        "    for i in I:\n",
        "        for j in J:\n",
        "            solver.Add(NA[s,i,j] <= n[i][j] * Y[s])\n",
        "      "
      ],
      "metadata": {
        "id": "E4aNQPKk_CMJ"
      },
      "execution_count": 36,
      "outputs": []
    },
    {
      "cell_type": "markdown",
      "source": [
        "**(7) Nachfrageabdeckung nur über 0 wenn Versorgungsvariable 1**\n",
        "\n",
        "$NA_{s,i,j} <= n_{i,j} * V_{s,i,j}$ \n",
        "\n",
        "$∀ s,i,j$\n",
        "\n"
      ],
      "metadata": {
        "id": "ekjjTpbpdlCl"
      }
    },
    {
      "cell_type": "code",
      "source": [
        "for s in S:\n",
        "  for i in I:\n",
        "    for j in J:\n",
        "      solver.Add(NA[s,i,j] <= (n[i][j]* V[s,i,j]))"
      ],
      "metadata": {
        "id": "Txj8tajQd_jX"
      },
      "execution_count": 39,
      "outputs": []
    },
    {
      "cell_type": "markdown",
      "metadata": {
        "id": "9a459618"
      },
      "source": [
        "## Berechnung Lösung"
      ]
    },
    {
      "cell_type": "code",
      "execution_count": 40,
      "metadata": {
        "id": "b9005832",
        "colab": {
          "base_uri": "https://localhost:8080/"
        },
        "outputId": "f9c5793d-35b0-4484-d9bb-bc7a709daedd"
      },
      "outputs": [
        {
          "output_type": "stream",
          "name": "stdout",
          "text": [
            "LÖSUNG:\n",
            "Zielfunktionswert (Nachfrageabdeckung) = 7481.999999999999\n"
          ]
        }
      ],
      "source": [
        "status = solver.Solve()\n",
        "\n",
        "if status == pywraplp.Solver.OPTIMAL:\n",
        "  print('LÖSUNG:')\n",
        "  print('Zielfunktionswert (Nachfrageabdeckung) =', solver.Objective().Value())\n",
        "else:\n",
        "  print('Problem hat keine Lösung')"
      ]
    },
    {
      "cell_type": "code",
      "source": [
        "cost = 0\n",
        "na = 0\n",
        "\n",
        "for s in S:\n",
        "  na_s =0\n",
        "  if Y[s].solution_value() ==1:\n",
        "    print(\"Wir bauen \" + f\"Standort: {s}\" + \" aus\")\n",
        "    cost += c[s]\n",
        "    for i in I:\n",
        "      for j in J:\n",
        "        na_s += NA[s,i,j].solution_value()\n",
        "    print(\"Nachfrageabdeckung Standort: \" +str(na_s))\n",
        "    na += na_s\n",
        "\n",
        "\n",
        "\n",
        "print(\"Nachfrageabdeckung gesamt: \" + str(na))\n",
        "    \n",
        "print(\"Gesamtkosten: \" +str(cost))\n",
        "\n",
        "\n"
      ],
      "metadata": {
        "id": "VTBSqfQPiK7H",
        "colab": {
          "base_uri": "https://localhost:8080/"
        },
        "outputId": "27eab26c-20ee-4509-896b-32e5337511b4"
      },
      "execution_count": 50,
      "outputs": [
        {
          "output_type": "stream",
          "name": "stdout",
          "text": [
            "Wir bauen Standort: 1 aus\n",
            "Nachfrageabdeckung Standort: 600.0\n",
            "Wir bauen Standort: 2 aus\n",
            "Nachfrageabdeckung Standort: 499.99999999999994\n",
            "Wir bauen Standort: 3 aus\n",
            "Nachfrageabdeckung Standort: 750.0\n",
            "Wir bauen Standort: 4 aus\n",
            "Nachfrageabdeckung Standort: 724.9999999999999\n",
            "Wir bauen Standort: 5 aus\n",
            "Nachfrageabdeckung Standort: 750.0\n",
            "Wir bauen Standort: 7 aus\n",
            "Nachfrageabdeckung Standort: 1941.9999999999875\n",
            "Wir bauen Standort: 9 aus\n",
            "Nachfrageabdeckung Standort: 2215.0000000000214\n",
            "Nachfrageabdeckung gesamt: 7482.000000000009\n",
            "Gesamtkosten: 907000\n"
          ]
        }
      ]
    },
    {
      "cell_type": "code",
      "source": [
        "# welche Quadranten beliefern wir von welchen Standorten?\n",
        "\n",
        "# NAchfrageabdeckung Standort\n",
        "na= 0 \n",
        "\n",
        "for i in I:\n",
        "  for j in J:\n",
        "    if Q[i,j].solution_value()== 1:\n",
        "      print(\"Wir beliefern: \" + str(i) + str(j))\n",
        "      for s in S:\n",
        "        if NA[s,i,j].solution_value()> 0:\n",
        "        #  if i ==3 :\n",
        "         #   if j==10:\n",
        "             print(\"Wird beliefert von: \" + str(s))\n",
        "             # print(\"NAchfrageabdeckung: \" + str(NA[s,i,j].solution_value()))\n"
      ],
      "metadata": {
        "colab": {
          "base_uri": "https://localhost:8080/"
        },
        "id": "5rFmgPrZe4dI",
        "outputId": "e46cf7ee-e6fe-48f0-e736-277685d79346"
      },
      "execution_count": 59,
      "outputs": [
        {
          "output_type": "stream",
          "name": "stdout",
          "text": [
            "Wir beliefern: 03\n",
            "Wird beliefert von: 9\n",
            "Wir beliefern: 04\n",
            "Wird beliefert von: 9\n",
            "Wir beliefern: 05\n",
            "Wird beliefert von: 7\n",
            "Wir beliefern: 06\n",
            "Wird beliefert von: 7\n",
            "Wir beliefern: 07\n",
            "Wird beliefert von: 7\n",
            "Wir beliefern: 08\n",
            "Wird beliefert von: 5\n",
            "Wir beliefern: 09\n",
            "Wird beliefert von: 5\n",
            "Wir beliefern: 12\n",
            "Wird beliefert von: 9\n",
            "Wir beliefern: 13\n",
            "Wird beliefert von: 9\n",
            "Wir beliefern: 14\n",
            "Wird beliefert von: 9\n",
            "Wir beliefern: 15\n",
            "Wird beliefert von: 7\n",
            "Wir beliefern: 16\n",
            "Wird beliefert von: 9\n",
            "Wir beliefern: 17\n",
            "Wird beliefert von: 7\n",
            "Wir beliefern: 18\n",
            "Wird beliefert von: 7\n",
            "Wir beliefern: 19\n",
            "Wird beliefert von: 5\n",
            "Wir beliefern: 110\n",
            "Wird beliefert von: 5\n",
            "Wir beliefern: 21\n",
            "Wird beliefert von: 9\n",
            "Wir beliefern: 22\n",
            "Wird beliefert von: 9\n",
            "Wir beliefern: 23\n",
            "Wird beliefert von: 7\n",
            "Wir beliefern: 24\n",
            "Wird beliefert von: 9\n",
            "Wir beliefern: 25\n",
            "Wird beliefert von: 9\n",
            "Wir beliefern: 26\n",
            "Wird beliefert von: 7\n",
            "Wir beliefern: 27\n",
            "Wird beliefert von: 7\n",
            "Wir beliefern: 28\n",
            "Wird beliefert von: 7\n",
            "Wir beliefern: 29\n",
            "Wird beliefert von: 7\n",
            "Wir beliefern: 210\n",
            "Wird beliefert von: 5\n",
            "Wir beliefern: 211\n",
            "Wird beliefert von: 5\n",
            "Wir beliefern: 30\n",
            "Wird beliefert von: 9\n",
            "Wir beliefern: 31\n",
            "Wird beliefert von: 9\n",
            "Wir beliefern: 32\n",
            "Wird beliefert von: 7\n",
            "Wir beliefern: 33\n",
            "Wird beliefert von: 9\n",
            "Wir beliefern: 34\n",
            "Wird beliefert von: 7\n",
            "Wir beliefern: 35\n",
            "Wird beliefert von: 7\n",
            "Wir beliefern: 36\n",
            "Wird beliefert von: 9\n",
            "Wir beliefern: 37\n",
            "Wird beliefert von: 9\n",
            "Wir beliefern: 38\n",
            "Wird beliefert von: 9\n",
            "Wir beliefern: 39\n",
            "Wird beliefert von: 5\n",
            "Wird beliefert von: 7\n",
            "Wir beliefern: 310\n",
            "Wird beliefert von: 5\n",
            "Wird beliefert von: 7\n",
            "Wir beliefern: 311\n",
            "Wird beliefert von: 5\n",
            "Wir beliefern: 312\n",
            "Wird beliefert von: 5\n",
            "Wir beliefern: 40\n",
            "Wird beliefert von: 9\n",
            "Wir beliefern: 41\n",
            "Wird beliefert von: 9\n",
            "Wir beliefern: 42\n",
            "Wird beliefert von: 7\n",
            "Wir beliefern: 43\n",
            "Wird beliefert von: 9\n",
            "Wir beliefern: 44\n",
            "Wird beliefert von: 7\n",
            "Wir beliefern: 45\n",
            "Wird beliefert von: 7\n",
            "Wir beliefern: 46\n",
            "Wird beliefert von: 9\n",
            "Wir beliefern: 47\n",
            "Wird beliefert von: 9\n",
            "Wir beliefern: 48\n",
            "Wird beliefert von: 7\n",
            "Wir beliefern: 49\n",
            "Wird beliefert von: 9\n",
            "Wir beliefern: 410\n",
            "Wird beliefert von: 7\n",
            "Wir beliefern: 411\n",
            "Wird beliefert von: 7\n",
            "Wir beliefern: 50\n",
            "Wird beliefert von: 9\n",
            "Wir beliefern: 51\n",
            "Wird beliefert von: 9\n",
            "Wir beliefern: 52\n",
            "Wird beliefert von: 7\n",
            "Wir beliefern: 53\n",
            "Wird beliefert von: 7\n",
            "Wir beliefern: 54\n",
            "Wird beliefert von: 9\n",
            "Wir beliefern: 55\n",
            "Wird beliefert von: 7\n",
            "Wir beliefern: 56\n",
            "Wird beliefert von: 9\n",
            "Wir beliefern: 57\n",
            "Wird beliefert von: 7\n",
            "Wir beliefern: 58\n",
            "Wird beliefert von: 7\n",
            "Wir beliefern: 59\n",
            "Wird beliefert von: 7\n",
            "Wir beliefern: 510\n",
            "Wird beliefert von: 7\n",
            "Wir beliefern: 511\n",
            "Wird beliefert von: 5\n",
            "Wir beliefern: 512\n",
            "Wird beliefert von: 5\n",
            "Wir beliefern: 61\n",
            "Wird beliefert von: 9\n",
            "Wir beliefern: 62\n",
            "Wird beliefert von: 9\n",
            "Wir beliefern: 63\n",
            "Wird beliefert von: 9\n",
            "Wir beliefern: 64\n",
            "Wird beliefert von: 7\n",
            "Wir beliefern: 65\n",
            "Wird beliefert von: 9\n",
            "Wir beliefern: 66\n",
            "Wird beliefert von: 9\n",
            "Wir beliefern: 67\n",
            "Wird beliefert von: 9\n",
            "Wir beliefern: 68\n",
            "Wird beliefert von: 7\n",
            "Wir beliefern: 69\n",
            "Wird beliefert von: 7\n",
            "Wir beliefern: 610\n",
            "Wird beliefert von: 5\n",
            "Wir beliefern: 611\n",
            "Wird beliefert von: 3\n",
            "Wir beliefern: 612\n",
            "Wird beliefert von: 1\n",
            "Wir beliefern: 72\n",
            "Wird beliefert von: 9\n",
            "Wir beliefern: 73\n",
            "Wird beliefert von: 9\n",
            "Wir beliefern: 74\n",
            "Wird beliefert von: 9\n",
            "Wir beliefern: 75\n",
            "Wird beliefert von: 9\n",
            "Wir beliefern: 76\n",
            "Wird beliefert von: 7\n",
            "Wird beliefert von: 9\n",
            "Wir beliefern: 77\n",
            "Wird beliefert von: 7\n",
            "Wir beliefern: 78\n",
            "Wird beliefert von: 7\n",
            "Wir beliefern: 79\n",
            "Wird beliefert von: 3\n",
            "Wird beliefert von: 5\n",
            "Wir beliefern: 710\n",
            "Wird beliefert von: 5\n",
            "Wir beliefern: 711\n",
            "Wird beliefert von: 1\n",
            "Wir beliefern: 712\n",
            "Wird beliefert von: 1\n",
            "Wir beliefern: 82\n",
            "Wird beliefert von: 2\n",
            "Wir beliefern: 83\n",
            "Wird beliefert von: 9\n",
            "Wir beliefern: 84\n",
            "Wird beliefert von: 9\n",
            "Wir beliefern: 85\n",
            "Wird beliefert von: 7\n",
            "Wir beliefern: 86\n",
            "Wird beliefert von: 7\n",
            "Wir beliefern: 87\n",
            "Wird beliefert von: 7\n",
            "Wir beliefern: 88\n",
            "Wird beliefert von: 1\n",
            "Wir beliefern: 89\n",
            "Wird beliefert von: 3\n",
            "Wir beliefern: 810\n",
            "Wird beliefert von: 3\n",
            "Wir beliefern: 811\n",
            "Wird beliefert von: 1\n",
            "Wird beliefert von: 3\n",
            "Wir beliefern: 812\n",
            "Wird beliefert von: 3\n",
            "Wir beliefern: 90\n",
            "Wird beliefert von: 2\n",
            "Wir beliefern: 91\n",
            "Wird beliefert von: 2\n",
            "Wir beliefern: 92\n",
            "Wird beliefert von: 2\n",
            "Wir beliefern: 93\n",
            "Wird beliefert von: 2\n",
            "Wir beliefern: 94\n",
            "Wird beliefert von: 9\n",
            "Wir beliefern: 95\n",
            "Wird beliefert von: 2\n",
            "Wird beliefert von: 4\n",
            "Wir beliefern: 96\n",
            "Wird beliefert von: 7\n",
            "Wir beliefern: 97\n",
            "Wird beliefert von: 4\n",
            "Wir beliefern: 98\n",
            "Wird beliefert von: 1\n",
            "Wird beliefert von: 5\n",
            "Wir beliefern: 99\n",
            "Wird beliefert von: 1\n",
            "Wir beliefern: 910\n",
            "Wird beliefert von: 1\n",
            "Wird beliefert von: 3\n",
            "Wir beliefern: 911\n",
            "Wird beliefert von: 1\n",
            "Wir beliefern: 912\n",
            "Wird beliefert von: 1\n",
            "Wird beliefert von: 3\n",
            "Wir beliefern: 100\n",
            "Wird beliefert von: 2\n",
            "Wir beliefern: 101\n",
            "Wird beliefert von: 2\n",
            "Wir beliefern: 102\n",
            "Wird beliefert von: 2\n",
            "Wir beliefern: 103\n",
            "Wird beliefert von: 2\n",
            "Wir beliefern: 104\n",
            "Wird beliefert von: 4\n",
            "Wir beliefern: 105\n",
            "Wird beliefert von: 2\n",
            "Wird beliefert von: 3\n",
            "Wir beliefern: 106\n",
            "Wird beliefert von: 3\n",
            "Wir beliefern: 107\n",
            "Wird beliefert von: 3\n",
            "Wird beliefert von: 4\n",
            "Wir beliefern: 108\n",
            "Wird beliefert von: 2\n",
            "Wird beliefert von: 4\n",
            "Wir beliefern: 109\n",
            "Wird beliefert von: 1\n",
            "Wir beliefern: 1010\n",
            "Wird beliefert von: 3\n",
            "Wir beliefern: 1011\n",
            "Wird beliefert von: 3\n",
            "Wir beliefern: 1012\n",
            "Wird beliefert von: 1\n",
            "Wird beliefert von: 3\n",
            "Wir beliefern: 110\n",
            "Wird beliefert von: 2\n",
            "Wir beliefern: 111\n",
            "Wird beliefert von: 2\n",
            "Wir beliefern: 113\n",
            "Wird beliefert von: 4\n",
            "Wir beliefern: 114\n",
            "Wird beliefert von: 4\n",
            "Wir beliefern: 116\n",
            "Wird beliefert von: 4\n",
            "Wir beliefern: 117\n",
            "Wird beliefert von: 3\n",
            "Wir beliefern: 118\n",
            "Wird beliefert von: 2\n",
            "Wird beliefert von: 4\n",
            "Wir beliefern: 119\n",
            "Wird beliefert von: 3\n",
            "Wir beliefern: 1110\n",
            "Wird beliefert von: 1\n",
            "Wird beliefert von: 3\n",
            "Wir beliefern: 1111\n",
            "Wird beliefert von: 1\n",
            "Wird beliefert von: 3\n",
            "Wir beliefern: 1112\n",
            "Wird beliefert von: 1\n",
            "Wir beliefern: 121\n",
            "Wird beliefert von: 2\n",
            "Wir beliefern: 122\n",
            "Wird beliefert von: 4\n",
            "Wir beliefern: 123\n",
            "Wird beliefert von: 4\n",
            "Wir beliefern: 124\n",
            "Wird beliefert von: 4\n",
            "Wir beliefern: 125\n",
            "Wird beliefert von: 2\n",
            "Wird beliefert von: 4\n",
            "Wir beliefern: 126\n",
            "Wird beliefert von: 2\n",
            "Wird beliefert von: 4\n",
            "Wir beliefern: 127\n",
            "Wird beliefert von: 4\n",
            "Wir beliefern: 129\n",
            "Wird beliefert von: 4\n",
            "Wir beliefern: 1210\n",
            "Wird beliefert von: 4\n",
            "Wir beliefern: 1211\n",
            "Wird beliefert von: 1\n",
            "Wir beliefern: 1212\n",
            "Wird beliefert von: 1\n"
          ]
        }
      ]
    },
    {
      "cell_type": "code",
      "source": [
        "# welche Quadranten beliefern wir?\n",
        "\n",
        "# NAchfrageabdeckung Standort\n",
        "na= 0 \n",
        "\n",
        "for i in I:\n",
        "  for j in J:\n",
        "    if Q[i,j].solution_value()== 1:\n",
        "     # print(\"Wir beliefern: \" + str(i) + str(j))\n",
        "      for s in S:\n",
        "        if NA[s,i,j].solution_value()> 0:\n",
        "          if i ==10 :\n",
        "            if j==12:\n",
        "              print(\"Nachfrage in Quadrand: \" +str(i)+ str(j) + \" beträgt: \" +str(n[i][j]))\n",
        "              print(\"Wird beliefert von: \" + str(s))\n",
        "              print(\"NAchfrageabdeckung: \" + str(NA[s,i,j].solution_value()))"
      ],
      "metadata": {
        "colab": {
          "base_uri": "https://localhost:8080/"
        },
        "id": "kMewI8tLiy3S",
        "outputId": "0fbca9ef-94be-4395-ed00-8bcced29def2"
      },
      "execution_count": 64,
      "outputs": [
        {
          "output_type": "stream",
          "name": "stdout",
          "text": [
            "Nachfrage in Quadrand: 1012 beträgt: 43\n",
            "Wird beliefert von: 1\n",
            "NAchfrageabdeckung: 28.999999999999993\n",
            "Nachfrage in Quadrand: 1012 beträgt: 43\n",
            "Wird beliefert von: 3\n",
            "NAchfrageabdeckung: 14.000000000000014\n"
          ]
        }
      ]
    }
  ]
}