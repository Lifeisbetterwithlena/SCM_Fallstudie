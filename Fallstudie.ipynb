{
  "nbformat": 4,
  "nbformat_minor": 0,
  "metadata": {
    "colab": {
      "provenance": [],
      "collapsed_sections": [
        "FznCQVc5-wbh",
        "D87-db6w-wKF",
        "ZriT_5GT_wQL",
        "lUZoqj8e-wBa",
        "8T1IHcjpUBoZ"
      ]
    },
    "kernelspec": {
      "name": "python3",
      "display_name": "Python 3"
    },
    "language_info": {
      "name": "python"
    }
  },
  "cells": [
    {
      "cell_type": "markdown",
      "metadata": {
        "id": "b2fc884d"
      },
      "source": [
        "# Fallstudie Flink\n",
        "## Standortentscheidung"
      ]
    },
    {
      "cell_type": "markdown",
      "source": [
        "## Modell"
      ],
      "metadata": {
        "id": "eV_cjbhd-c2I"
      }
    },
    {
      "cell_type": "markdown",
      "source": [
        "### Indexmengen\n",
        "$s \\in S$ : Menge der potenziellen DarkStores (Standorte)\n",
        "\n",
        "$i \\in I$ : Menge der i-Koordinaten \n",
        "\n",
        "$j \\in J$ : Menge der j-Koordinaten  \n",
        "\n"
      ],
      "metadata": {
        "id": "FznCQVc5-wbh"
      }
    },
    {
      "cell_type": "markdown",
      "source": [
        "### Parameter\n",
        "$n_{ij}$ : Nachfrage an $i$$j$\n",
        "\n",
        "$u_{s}$ : Lagerumschlagsleistung an Standort $s$\n",
        "\n",
        "$c_{s}$ : Errichtungskosten für Standort $s$\n",
        "\n",
        "$ki_{s}$ : $i$-Kooridnate von Standort $s$ \n",
        "\n",
        "$kj_{s}$ : $j$-Kooridnate von Standort $s$ "
      ],
      "metadata": {
        "id": "D87-db6w-wKF"
      }
    },
    {
      "cell_type": "markdown",
      "source": [
        "### Entscheidungsvariablen\n",
        "\n",
        "$V_{sij} \\in \\{0,1\\}$ : Binäre Versorgungsvariable\n",
        "\n",
        "$Y_{s} \\in \\{0,1\\}$ : Binäre Standortausbauvariable"
      ],
      "metadata": {
        "id": "ZriT_5GT_wQL"
      }
    },
    {
      "cell_type": "markdown",
      "source": [
        "### Zielfunktion\n",
        "Max $NA =  Y_s* v_s -  \\sum_{i,j} (V_{s,i,j} * n_{i,j})$   \n",
        "$∀ s$"
      ],
      "metadata": {
        "id": "lUZoqj8e-wBa"
      }
    },
    {
      "cell_type": "markdown",
      "source": [
        "### Nebenbedingungen"
      ],
      "metadata": {
        "id": "2x-xiFCP-v0l"
      }
    },
    {
      "cell_type": "markdown",
      "source": [
        "**(1) Budget einhalten**\n",
        "\n",
        "$\\sum_{s} (c_s*Y_s) \\le 1.000.000 $\n",
        "\n",
        "Summe über: \n",
        "\n",
        "Kosten  für Ausbau * Entscheidung Ausbau <= Budget"
      ],
      "metadata": {
        "id": "6u_OSabxCAyB"
      }
    },
    {
      "cell_type": "markdown",
      "source": [
        "**(2) Lieferzeit einhalten**\n",
        "\n",
        "$(|ki_s - i| + |kj_s - j|)* v_{s,i,j} \\le 5 $\n",
        "\n",
        "$∀ s,i,j$\n",
        "\n",
        "\n",
        "Prüfe für jedes $s, i , j$:\n",
        "\n",
        "Entfernung  <= 5, wenn $ij$ von $s$ beliefert wird"
      ],
      "metadata": {
        "id": "hK_iqilARrsU"
      }
    },
    {
      "cell_type": "markdown",
      "source": [
        "**(3) Keine Doppelbedienung der Quandranden**\n",
        "\n",
        "$\\sum_s v_{s,i,j} \\le 1$\n",
        "\n",
        "$∀ i, j$\n",
        "\n",
        "Prüfe für alle Koordinaten, ob Belieferung kleiner gleich 1."
      ],
      "metadata": {
        "id": "fUhgNqZVSLHd"
      }
    },
    {
      "cell_type": "markdown",
      "source": [
        "**(4) Kapazitäten einhalten**\n",
        "\n",
        "$\\sum (V_{s,i,j}* n_{i,j}) \\le u_s$\n",
        "\n",
        "$∀ s$\n",
        "\n",
        "Prüfe für jeden Standort:\n",
        "\n",
        "Summe Versorgung (ja/nein) * Nachfrage  ist kleiner (gleich) als Umschlagsleistung. "
      ],
      "metadata": {
        "id": "o0sdZl-54q-J"
      }
    },
    {
      "cell_type": "markdown",
      "source": [
        "## Implementierung"
      ],
      "metadata": {
        "id": "8T1IHcjpUBoZ"
      }
    },
    {
      "cell_type": "code",
      "execution_count": 231,
      "metadata": {
        "id": "cdb29647",
        "colab": {
          "base_uri": "https://localhost:8080/"
        },
        "outputId": "cba3dd84-eb79-40cd-f1cf-0dba00e88eca"
      },
      "outputs": [
        {
          "output_type": "stream",
          "name": "stdout",
          "text": [
            "\u001b[33mWARNING: Running pip as the 'root' user can result in broken permissions and conflicting behaviour with the system package manager. It is recommended to use a virtual environment instead: https://pip.pypa.io/warnings/venv\u001b[0m\u001b[33m\n",
            "\u001b[0m\u001b[33mWARNING: Running pip as the 'root' user can result in broken permissions and conflicting behaviour with the system package manager. It is recommended to use a virtual environment instead: https://pip.pypa.io/warnings/venv\u001b[0m\u001b[33m\n",
            "\u001b[0m"
          ]
        }
      ],
      "source": [
        "# Notwendigen Programminstallationen\n",
        "# pip als Paketmanager\n",
        "!pip install -U -q pip\n",
        "!pip install -q ortools\n",
        "# Laden des Programms\n",
        "from ortools.linear_solver import pywraplp"
      ]
    },
    {
      "cell_type": "code",
      "execution_count": 232,
      "metadata": {
        "id": "d8c0c7cc"
      },
      "outputs": [],
      "source": [
        "# Solver mit SCIP als Backend.\n",
        "# SCIP implementiert Simplex, Branch-and-Bound, etc\n",
        "solver = pywraplp.Solver.CreateSolver('SCIP')"
      ]
    },
    {
      "cell_type": "markdown",
      "source": [
        "## Datenaufbereitung\n",
        "\n",
        "\n",
        "1.   Fallstudien-Daten in Google-Drive laden\n",
        "2.   Google-Drive mit Colab-Notebook verbinden\n",
        "3.   Daten mit `pandas` laden\n",
        "\n"
      ],
      "metadata": {
        "id": "muy4OW--8Dp5"
      }
    },
    {
      "cell_type": "code",
      "source": [
        "from google.colab import drive\n",
        "drive.mount('/content/drive')"
      ],
      "metadata": {
        "id": "DkkKC0dg82Cc",
        "colab": {
          "base_uri": "https://localhost:8080/"
        },
        "outputId": "375b4a1b-30b0-480b-cec6-c200e3e36e50"
      },
      "execution_count": 233,
      "outputs": [
        {
          "output_type": "stream",
          "name": "stdout",
          "text": [
            "Drive already mounted at /content/drive; to attempt to forcibly remount, call drive.mount(\"/content/drive\", force_remount=True).\n"
          ]
        }
      ]
    },
    {
      "cell_type": "code",
      "source": [
        "# Ordner finden\n",
        "! ls drive/MyDrive/Industrielles_Management/Daten/Fallstudie"
      ],
      "metadata": {
        "id": "7MzXHG4B86Qx",
        "colab": {
          "base_uri": "https://localhost:8080/"
        },
        "outputId": "65e9af8b-d90d-4b97-ccf2-e298e789d059"
      },
      "execution_count": 234,
      "outputs": [
        {
          "output_type": "stream",
          "name": "stdout",
          "text": [
            "Nachfrage.csv  Standorte.csv\n"
          ]
        }
      ]
    },
    {
      "cell_type": "code",
      "source": [
        "# Pfad zurückgeben\n",
        "! cd drive/MyDrive/Industrielles_Management/Daten/Fallstudie && pwd"
      ],
      "metadata": {
        "id": "kkXWmM2i-OB3",
        "colab": {
          "base_uri": "https://localhost:8080/"
        },
        "outputId": "75dfcbb0-9b46-4cd3-e600-aad24a9f1ac8"
      },
      "execution_count": 235,
      "outputs": [
        {
          "output_type": "stream",
          "name": "stdout",
          "text": [
            "/content/drive/MyDrive/Industrielles_Management/Daten/Fallstudie\n"
          ]
        }
      ]
    },
    {
      "cell_type": "code",
      "source": [
        "# Daten laden\n",
        "import pandas as pd"
      ],
      "metadata": {
        "id": "2-oi6YL28FEt"
      },
      "execution_count": 236,
      "outputs": []
    },
    {
      "cell_type": "code",
      "source": [
        "path = \"/content/drive/MyDrive/Industrielles_Management/Daten/Fallstudie\""
      ],
      "metadata": {
        "id": "m_knWvLgTtYP"
      },
      "execution_count": 237,
      "outputs": []
    },
    {
      "cell_type": "code",
      "source": [
        "# Nachfragedaten lesen & speichern\n",
        "nachfrage_df = pd.read_csv(f\"{path}/Nachfrage.csv\", sep=\";\")"
      ],
      "metadata": {
        "id": "uF0YYNBI8ILm"
      },
      "execution_count": 238,
      "outputs": []
    },
    {
      "cell_type": "code",
      "source": [
        "# Nachfragedaten ausgeben\n",
        "nachfrage_df"
      ],
      "metadata": {
        "id": "EkihB5ZxIavj",
        "colab": {
          "base_uri": "https://localhost:8080/",
          "height": 457
        },
        "outputId": "e672e28e-2f0b-42d9-c567-512d8be84c66"
      },
      "execution_count": 239,
      "outputs": [
        {
          "output_type": "execute_result",
          "data": {
            "text/plain": [
              "    Unnamed: 0   0   1   2   3   4   5   6   7   8   9  10  11  12\n",
              "0            0   7  91  34  77  33  47  43  51  81  28  88  74  81\n",
              "1            1  73  82  76  51  80  42  83  19  37  37  85  18  67\n",
              "2            2  85  57  67  14   1  92  41  32  16  83  65  39  18\n",
              "3            3  42  87  23  56  15  99  60  85  90  68   9  63  88\n",
              "4            4  23  93  36  65  96  31   8  54  27  74  59  70  36\n",
              "5            5   2  71  34  38  62  45  86  95  93  12  83  59  17\n",
              "6            6  31  41  54   1  97  73   5  73  44  93  94   2  56\n",
              "7            7  61  44  86   1  69  65  32  95  61  39   7  61  31\n",
              "8            8  59  49   1  70  86  26  62  40  96  82   3  20  83\n",
              "9            9  10  38  37  77  16  94  34  67  96  64  32  30  63\n",
              "10          10  56  35  21  89  28  60  90  21  65  25  68  73  43\n",
              "11          11  35  91   9  32  25  86  41  41  52   4  28  65  24\n",
              "12          12  13  10  17  42  61  37  52  66  10  13  15  72  83"
            ],
            "text/html": [
              "\n",
              "  <div id=\"df-5fd4dd2c-b86f-4a67-adc8-79a660ab75f0\">\n",
              "    <div class=\"colab-df-container\">\n",
              "      <div>\n",
              "<style scoped>\n",
              "    .dataframe tbody tr th:only-of-type {\n",
              "        vertical-align: middle;\n",
              "    }\n",
              "\n",
              "    .dataframe tbody tr th {\n",
              "        vertical-align: top;\n",
              "    }\n",
              "\n",
              "    .dataframe thead th {\n",
              "        text-align: right;\n",
              "    }\n",
              "</style>\n",
              "<table border=\"1\" class=\"dataframe\">\n",
              "  <thead>\n",
              "    <tr style=\"text-align: right;\">\n",
              "      <th></th>\n",
              "      <th>Unnamed: 0</th>\n",
              "      <th>0</th>\n",
              "      <th>1</th>\n",
              "      <th>2</th>\n",
              "      <th>3</th>\n",
              "      <th>4</th>\n",
              "      <th>5</th>\n",
              "      <th>6</th>\n",
              "      <th>7</th>\n",
              "      <th>8</th>\n",
              "      <th>9</th>\n",
              "      <th>10</th>\n",
              "      <th>11</th>\n",
              "      <th>12</th>\n",
              "    </tr>\n",
              "  </thead>\n",
              "  <tbody>\n",
              "    <tr>\n",
              "      <th>0</th>\n",
              "      <td>0</td>\n",
              "      <td>7</td>\n",
              "      <td>91</td>\n",
              "      <td>34</td>\n",
              "      <td>77</td>\n",
              "      <td>33</td>\n",
              "      <td>47</td>\n",
              "      <td>43</td>\n",
              "      <td>51</td>\n",
              "      <td>81</td>\n",
              "      <td>28</td>\n",
              "      <td>88</td>\n",
              "      <td>74</td>\n",
              "      <td>81</td>\n",
              "    </tr>\n",
              "    <tr>\n",
              "      <th>1</th>\n",
              "      <td>1</td>\n",
              "      <td>73</td>\n",
              "      <td>82</td>\n",
              "      <td>76</td>\n",
              "      <td>51</td>\n",
              "      <td>80</td>\n",
              "      <td>42</td>\n",
              "      <td>83</td>\n",
              "      <td>19</td>\n",
              "      <td>37</td>\n",
              "      <td>37</td>\n",
              "      <td>85</td>\n",
              "      <td>18</td>\n",
              "      <td>67</td>\n",
              "    </tr>\n",
              "    <tr>\n",
              "      <th>2</th>\n",
              "      <td>2</td>\n",
              "      <td>85</td>\n",
              "      <td>57</td>\n",
              "      <td>67</td>\n",
              "      <td>14</td>\n",
              "      <td>1</td>\n",
              "      <td>92</td>\n",
              "      <td>41</td>\n",
              "      <td>32</td>\n",
              "      <td>16</td>\n",
              "      <td>83</td>\n",
              "      <td>65</td>\n",
              "      <td>39</td>\n",
              "      <td>18</td>\n",
              "    </tr>\n",
              "    <tr>\n",
              "      <th>3</th>\n",
              "      <td>3</td>\n",
              "      <td>42</td>\n",
              "      <td>87</td>\n",
              "      <td>23</td>\n",
              "      <td>56</td>\n",
              "      <td>15</td>\n",
              "      <td>99</td>\n",
              "      <td>60</td>\n",
              "      <td>85</td>\n",
              "      <td>90</td>\n",
              "      <td>68</td>\n",
              "      <td>9</td>\n",
              "      <td>63</td>\n",
              "      <td>88</td>\n",
              "    </tr>\n",
              "    <tr>\n",
              "      <th>4</th>\n",
              "      <td>4</td>\n",
              "      <td>23</td>\n",
              "      <td>93</td>\n",
              "      <td>36</td>\n",
              "      <td>65</td>\n",
              "      <td>96</td>\n",
              "      <td>31</td>\n",
              "      <td>8</td>\n",
              "      <td>54</td>\n",
              "      <td>27</td>\n",
              "      <td>74</td>\n",
              "      <td>59</td>\n",
              "      <td>70</td>\n",
              "      <td>36</td>\n",
              "    </tr>\n",
              "    <tr>\n",
              "      <th>5</th>\n",
              "      <td>5</td>\n",
              "      <td>2</td>\n",
              "      <td>71</td>\n",
              "      <td>34</td>\n",
              "      <td>38</td>\n",
              "      <td>62</td>\n",
              "      <td>45</td>\n",
              "      <td>86</td>\n",
              "      <td>95</td>\n",
              "      <td>93</td>\n",
              "      <td>12</td>\n",
              "      <td>83</td>\n",
              "      <td>59</td>\n",
              "      <td>17</td>\n",
              "    </tr>\n",
              "    <tr>\n",
              "      <th>6</th>\n",
              "      <td>6</td>\n",
              "      <td>31</td>\n",
              "      <td>41</td>\n",
              "      <td>54</td>\n",
              "      <td>1</td>\n",
              "      <td>97</td>\n",
              "      <td>73</td>\n",
              "      <td>5</td>\n",
              "      <td>73</td>\n",
              "      <td>44</td>\n",
              "      <td>93</td>\n",
              "      <td>94</td>\n",
              "      <td>2</td>\n",
              "      <td>56</td>\n",
              "    </tr>\n",
              "    <tr>\n",
              "      <th>7</th>\n",
              "      <td>7</td>\n",
              "      <td>61</td>\n",
              "      <td>44</td>\n",
              "      <td>86</td>\n",
              "      <td>1</td>\n",
              "      <td>69</td>\n",
              "      <td>65</td>\n",
              "      <td>32</td>\n",
              "      <td>95</td>\n",
              "      <td>61</td>\n",
              "      <td>39</td>\n",
              "      <td>7</td>\n",
              "      <td>61</td>\n",
              "      <td>31</td>\n",
              "    </tr>\n",
              "    <tr>\n",
              "      <th>8</th>\n",
              "      <td>8</td>\n",
              "      <td>59</td>\n",
              "      <td>49</td>\n",
              "      <td>1</td>\n",
              "      <td>70</td>\n",
              "      <td>86</td>\n",
              "      <td>26</td>\n",
              "      <td>62</td>\n",
              "      <td>40</td>\n",
              "      <td>96</td>\n",
              "      <td>82</td>\n",
              "      <td>3</td>\n",
              "      <td>20</td>\n",
              "      <td>83</td>\n",
              "    </tr>\n",
              "    <tr>\n",
              "      <th>9</th>\n",
              "      <td>9</td>\n",
              "      <td>10</td>\n",
              "      <td>38</td>\n",
              "      <td>37</td>\n",
              "      <td>77</td>\n",
              "      <td>16</td>\n",
              "      <td>94</td>\n",
              "      <td>34</td>\n",
              "      <td>67</td>\n",
              "      <td>96</td>\n",
              "      <td>64</td>\n",
              "      <td>32</td>\n",
              "      <td>30</td>\n",
              "      <td>63</td>\n",
              "    </tr>\n",
              "    <tr>\n",
              "      <th>10</th>\n",
              "      <td>10</td>\n",
              "      <td>56</td>\n",
              "      <td>35</td>\n",
              "      <td>21</td>\n",
              "      <td>89</td>\n",
              "      <td>28</td>\n",
              "      <td>60</td>\n",
              "      <td>90</td>\n",
              "      <td>21</td>\n",
              "      <td>65</td>\n",
              "      <td>25</td>\n",
              "      <td>68</td>\n",
              "      <td>73</td>\n",
              "      <td>43</td>\n",
              "    </tr>\n",
              "    <tr>\n",
              "      <th>11</th>\n",
              "      <td>11</td>\n",
              "      <td>35</td>\n",
              "      <td>91</td>\n",
              "      <td>9</td>\n",
              "      <td>32</td>\n",
              "      <td>25</td>\n",
              "      <td>86</td>\n",
              "      <td>41</td>\n",
              "      <td>41</td>\n",
              "      <td>52</td>\n",
              "      <td>4</td>\n",
              "      <td>28</td>\n",
              "      <td>65</td>\n",
              "      <td>24</td>\n",
              "    </tr>\n",
              "    <tr>\n",
              "      <th>12</th>\n",
              "      <td>12</td>\n",
              "      <td>13</td>\n",
              "      <td>10</td>\n",
              "      <td>17</td>\n",
              "      <td>42</td>\n",
              "      <td>61</td>\n",
              "      <td>37</td>\n",
              "      <td>52</td>\n",
              "      <td>66</td>\n",
              "      <td>10</td>\n",
              "      <td>13</td>\n",
              "      <td>15</td>\n",
              "      <td>72</td>\n",
              "      <td>83</td>\n",
              "    </tr>\n",
              "  </tbody>\n",
              "</table>\n",
              "</div>\n",
              "      <button class=\"colab-df-convert\" onclick=\"convertToInteractive('df-5fd4dd2c-b86f-4a67-adc8-79a660ab75f0')\"\n",
              "              title=\"Convert this dataframe to an interactive table.\"\n",
              "              style=\"display:none;\">\n",
              "        \n",
              "  <svg xmlns=\"http://www.w3.org/2000/svg\" height=\"24px\"viewBox=\"0 0 24 24\"\n",
              "       width=\"24px\">\n",
              "    <path d=\"M0 0h24v24H0V0z\" fill=\"none\"/>\n",
              "    <path d=\"M18.56 5.44l.94 2.06.94-2.06 2.06-.94-2.06-.94-.94-2.06-.94 2.06-2.06.94zm-11 1L8.5 8.5l.94-2.06 2.06-.94-2.06-.94L8.5 2.5l-.94 2.06-2.06.94zm10 10l.94 2.06.94-2.06 2.06-.94-2.06-.94-.94-2.06-.94 2.06-2.06.94z\"/><path d=\"M17.41 7.96l-1.37-1.37c-.4-.4-.92-.59-1.43-.59-.52 0-1.04.2-1.43.59L10.3 9.45l-7.72 7.72c-.78.78-.78 2.05 0 2.83L4 21.41c.39.39.9.59 1.41.59.51 0 1.02-.2 1.41-.59l7.78-7.78 2.81-2.81c.8-.78.8-2.07 0-2.86zM5.41 20L4 18.59l7.72-7.72 1.47 1.35L5.41 20z\"/>\n",
              "  </svg>\n",
              "      </button>\n",
              "      \n",
              "  <style>\n",
              "    .colab-df-container {\n",
              "      display:flex;\n",
              "      flex-wrap:wrap;\n",
              "      gap: 12px;\n",
              "    }\n",
              "\n",
              "    .colab-df-convert {\n",
              "      background-color: #E8F0FE;\n",
              "      border: none;\n",
              "      border-radius: 50%;\n",
              "      cursor: pointer;\n",
              "      display: none;\n",
              "      fill: #1967D2;\n",
              "      height: 32px;\n",
              "      padding: 0 0 0 0;\n",
              "      width: 32px;\n",
              "    }\n",
              "\n",
              "    .colab-df-convert:hover {\n",
              "      background-color: #E2EBFA;\n",
              "      box-shadow: 0px 1px 2px rgba(60, 64, 67, 0.3), 0px 1px 3px 1px rgba(60, 64, 67, 0.15);\n",
              "      fill: #174EA6;\n",
              "    }\n",
              "\n",
              "    [theme=dark] .colab-df-convert {\n",
              "      background-color: #3B4455;\n",
              "      fill: #D2E3FC;\n",
              "    }\n",
              "\n",
              "    [theme=dark] .colab-df-convert:hover {\n",
              "      background-color: #434B5C;\n",
              "      box-shadow: 0px 1px 3px 1px rgba(0, 0, 0, 0.15);\n",
              "      filter: drop-shadow(0px 1px 2px rgba(0, 0, 0, 0.3));\n",
              "      fill: #FFFFFF;\n",
              "    }\n",
              "  </style>\n",
              "\n",
              "      <script>\n",
              "        const buttonEl =\n",
              "          document.querySelector('#df-5fd4dd2c-b86f-4a67-adc8-79a660ab75f0 button.colab-df-convert');\n",
              "        buttonEl.style.display =\n",
              "          google.colab.kernel.accessAllowed ? 'block' : 'none';\n",
              "\n",
              "        async function convertToInteractive(key) {\n",
              "          const element = document.querySelector('#df-5fd4dd2c-b86f-4a67-adc8-79a660ab75f0');\n",
              "          const dataTable =\n",
              "            await google.colab.kernel.invokeFunction('convertToInteractive',\n",
              "                                                     [key], {});\n",
              "          if (!dataTable) return;\n",
              "\n",
              "          const docLinkHtml = 'Like what you see? Visit the ' +\n",
              "            '<a target=\"_blank\" href=https://colab.research.google.com/notebooks/data_table.ipynb>data table notebook</a>'\n",
              "            + ' to learn more about interactive tables.';\n",
              "          element.innerHTML = '';\n",
              "          dataTable['output_type'] = 'display_data';\n",
              "          await google.colab.output.renderOutput(dataTable, element);\n",
              "          const docLink = document.createElement('div');\n",
              "          docLink.innerHTML = docLinkHtml;\n",
              "          element.appendChild(docLink);\n",
              "        }\n",
              "      </script>\n",
              "    </div>\n",
              "  </div>\n",
              "  "
            ]
          },
          "metadata": {},
          "execution_count": 239
        }
      ]
    },
    {
      "cell_type": "code",
      "source": [
        "\n",
        "# nachfrage is a dictionary of nachfrage_df. The first key are the values of column 1 (i coordinate) \n",
        "# the second key are the values of the columns (j coordinate)\n",
        "# skip the first column for the second key since it's not an j cooridnate\n",
        "\n",
        "nachfrage = {int(row[0]): {int(col): value for col, value in row.items() if col != 'Unnamed: 0'} for _, row in nachfrage_df.iterrows()}\n",
        "\n",
        "# test if it worked\n",
        "\n",
        "# nachfrage i=0 & j=7\n",
        "print(nachfrage[0][7])\n",
        "\n",
        "#nachfrage i=10 & j=12\n",
        "print(nachfrage[10][12])\n",
        "\n"
      ],
      "metadata": {
        "colab": {
          "base_uri": "https://localhost:8080/"
        },
        "id": "QxjS-MJ4NiAY",
        "outputId": "dd584aca-a684-48dd-8140-9ca1e04af895"
      },
      "execution_count": 240,
      "outputs": [
        {
          "output_type": "stream",
          "name": "stdout",
          "text": [
            "51\n",
            "43\n"
          ]
        }
      ]
    },
    {
      "cell_type": "code",
      "source": [
        "# Standortdaten lesen & speichern\n",
        "standorte = pd.read_csv(f\"{path}/Standorte.csv\", sep=\";\", decimal=\",\")"
      ],
      "metadata": {
        "id": "NTSilRdI-_B5"
      },
      "execution_count": 241,
      "outputs": []
    },
    {
      "cell_type": "code",
      "source": [
        "# Standortdaten ausgeben\n",
        "standorte"
      ],
      "metadata": {
        "id": "SOEzklioIbzb",
        "colab": {
          "base_uri": "https://localhost:8080/",
          "height": 363
        },
        "outputId": "b316b49f-3a64-4ff6-de4b-15965de3bada"
      },
      "execution_count": 242,
      "outputs": [
        {
          "output_type": "execute_result",
          "data": {
            "text/plain": [
              "   Potenzielle_Standorte  i_Koordinate  j_Koordinate  Lagerumschlagleistung  \\\n",
              "0                      0             1             0                    500   \n",
              "1                      1             8            11                    600   \n",
              "2                      2            10             4                    500   \n",
              "3                      3            10            10                    750   \n",
              "4                      4            13             6                    725   \n",
              "5                      5             4             8                    750   \n",
              "6                      6            13             7                    455   \n",
              "7                      7             4             6                   3000   \n",
              "8                      8            12             6                   1400   \n",
              "9                      9             4             4                   2250   \n",
              "\n",
              "   Errichtungskosten  \n",
              "0             100000  \n",
              "1              90000  \n",
              "2              95000  \n",
              "3             101000  \n",
              "4              98500  \n",
              "5              97500  \n",
              "6             105000  \n",
              "7             225000  \n",
              "8             300000  \n",
              "9             200000  "
            ],
            "text/html": [
              "\n",
              "  <div id=\"df-e76718d9-6170-4df9-b6e3-ab9edd4af3cc\">\n",
              "    <div class=\"colab-df-container\">\n",
              "      <div>\n",
              "<style scoped>\n",
              "    .dataframe tbody tr th:only-of-type {\n",
              "        vertical-align: middle;\n",
              "    }\n",
              "\n",
              "    .dataframe tbody tr th {\n",
              "        vertical-align: top;\n",
              "    }\n",
              "\n",
              "    .dataframe thead th {\n",
              "        text-align: right;\n",
              "    }\n",
              "</style>\n",
              "<table border=\"1\" class=\"dataframe\">\n",
              "  <thead>\n",
              "    <tr style=\"text-align: right;\">\n",
              "      <th></th>\n",
              "      <th>Potenzielle_Standorte</th>\n",
              "      <th>i_Koordinate</th>\n",
              "      <th>j_Koordinate</th>\n",
              "      <th>Lagerumschlagleistung</th>\n",
              "      <th>Errichtungskosten</th>\n",
              "    </tr>\n",
              "  </thead>\n",
              "  <tbody>\n",
              "    <tr>\n",
              "      <th>0</th>\n",
              "      <td>0</td>\n",
              "      <td>1</td>\n",
              "      <td>0</td>\n",
              "      <td>500</td>\n",
              "      <td>100000</td>\n",
              "    </tr>\n",
              "    <tr>\n",
              "      <th>1</th>\n",
              "      <td>1</td>\n",
              "      <td>8</td>\n",
              "      <td>11</td>\n",
              "      <td>600</td>\n",
              "      <td>90000</td>\n",
              "    </tr>\n",
              "    <tr>\n",
              "      <th>2</th>\n",
              "      <td>2</td>\n",
              "      <td>10</td>\n",
              "      <td>4</td>\n",
              "      <td>500</td>\n",
              "      <td>95000</td>\n",
              "    </tr>\n",
              "    <tr>\n",
              "      <th>3</th>\n",
              "      <td>3</td>\n",
              "      <td>10</td>\n",
              "      <td>10</td>\n",
              "      <td>750</td>\n",
              "      <td>101000</td>\n",
              "    </tr>\n",
              "    <tr>\n",
              "      <th>4</th>\n",
              "      <td>4</td>\n",
              "      <td>13</td>\n",
              "      <td>6</td>\n",
              "      <td>725</td>\n",
              "      <td>98500</td>\n",
              "    </tr>\n",
              "    <tr>\n",
              "      <th>5</th>\n",
              "      <td>5</td>\n",
              "      <td>4</td>\n",
              "      <td>8</td>\n",
              "      <td>750</td>\n",
              "      <td>97500</td>\n",
              "    </tr>\n",
              "    <tr>\n",
              "      <th>6</th>\n",
              "      <td>6</td>\n",
              "      <td>13</td>\n",
              "      <td>7</td>\n",
              "      <td>455</td>\n",
              "      <td>105000</td>\n",
              "    </tr>\n",
              "    <tr>\n",
              "      <th>7</th>\n",
              "      <td>7</td>\n",
              "      <td>4</td>\n",
              "      <td>6</td>\n",
              "      <td>3000</td>\n",
              "      <td>225000</td>\n",
              "    </tr>\n",
              "    <tr>\n",
              "      <th>8</th>\n",
              "      <td>8</td>\n",
              "      <td>12</td>\n",
              "      <td>6</td>\n",
              "      <td>1400</td>\n",
              "      <td>300000</td>\n",
              "    </tr>\n",
              "    <tr>\n",
              "      <th>9</th>\n",
              "      <td>9</td>\n",
              "      <td>4</td>\n",
              "      <td>4</td>\n",
              "      <td>2250</td>\n",
              "      <td>200000</td>\n",
              "    </tr>\n",
              "  </tbody>\n",
              "</table>\n",
              "</div>\n",
              "      <button class=\"colab-df-convert\" onclick=\"convertToInteractive('df-e76718d9-6170-4df9-b6e3-ab9edd4af3cc')\"\n",
              "              title=\"Convert this dataframe to an interactive table.\"\n",
              "              style=\"display:none;\">\n",
              "        \n",
              "  <svg xmlns=\"http://www.w3.org/2000/svg\" height=\"24px\"viewBox=\"0 0 24 24\"\n",
              "       width=\"24px\">\n",
              "    <path d=\"M0 0h24v24H0V0z\" fill=\"none\"/>\n",
              "    <path d=\"M18.56 5.44l.94 2.06.94-2.06 2.06-.94-2.06-.94-.94-2.06-.94 2.06-2.06.94zm-11 1L8.5 8.5l.94-2.06 2.06-.94-2.06-.94L8.5 2.5l-.94 2.06-2.06.94zm10 10l.94 2.06.94-2.06 2.06-.94-2.06-.94-.94-2.06-.94 2.06-2.06.94z\"/><path d=\"M17.41 7.96l-1.37-1.37c-.4-.4-.92-.59-1.43-.59-.52 0-1.04.2-1.43.59L10.3 9.45l-7.72 7.72c-.78.78-.78 2.05 0 2.83L4 21.41c.39.39.9.59 1.41.59.51 0 1.02-.2 1.41-.59l7.78-7.78 2.81-2.81c.8-.78.8-2.07 0-2.86zM5.41 20L4 18.59l7.72-7.72 1.47 1.35L5.41 20z\"/>\n",
              "  </svg>\n",
              "      </button>\n",
              "      \n",
              "  <style>\n",
              "    .colab-df-container {\n",
              "      display:flex;\n",
              "      flex-wrap:wrap;\n",
              "      gap: 12px;\n",
              "    }\n",
              "\n",
              "    .colab-df-convert {\n",
              "      background-color: #E8F0FE;\n",
              "      border: none;\n",
              "      border-radius: 50%;\n",
              "      cursor: pointer;\n",
              "      display: none;\n",
              "      fill: #1967D2;\n",
              "      height: 32px;\n",
              "      padding: 0 0 0 0;\n",
              "      width: 32px;\n",
              "    }\n",
              "\n",
              "    .colab-df-convert:hover {\n",
              "      background-color: #E2EBFA;\n",
              "      box-shadow: 0px 1px 2px rgba(60, 64, 67, 0.3), 0px 1px 3px 1px rgba(60, 64, 67, 0.15);\n",
              "      fill: #174EA6;\n",
              "    }\n",
              "\n",
              "    [theme=dark] .colab-df-convert {\n",
              "      background-color: #3B4455;\n",
              "      fill: #D2E3FC;\n",
              "    }\n",
              "\n",
              "    [theme=dark] .colab-df-convert:hover {\n",
              "      background-color: #434B5C;\n",
              "      box-shadow: 0px 1px 3px 1px rgba(0, 0, 0, 0.15);\n",
              "      filter: drop-shadow(0px 1px 2px rgba(0, 0, 0, 0.3));\n",
              "      fill: #FFFFFF;\n",
              "    }\n",
              "  </style>\n",
              "\n",
              "      <script>\n",
              "        const buttonEl =\n",
              "          document.querySelector('#df-e76718d9-6170-4df9-b6e3-ab9edd4af3cc button.colab-df-convert');\n",
              "        buttonEl.style.display =\n",
              "          google.colab.kernel.accessAllowed ? 'block' : 'none';\n",
              "\n",
              "        async function convertToInteractive(key) {\n",
              "          const element = document.querySelector('#df-e76718d9-6170-4df9-b6e3-ab9edd4af3cc');\n",
              "          const dataTable =\n",
              "            await google.colab.kernel.invokeFunction('convertToInteractive',\n",
              "                                                     [key], {});\n",
              "          if (!dataTable) return;\n",
              "\n",
              "          const docLinkHtml = 'Like what you see? Visit the ' +\n",
              "            '<a target=\"_blank\" href=https://colab.research.google.com/notebooks/data_table.ipynb>data table notebook</a>'\n",
              "            + ' to learn more about interactive tables.';\n",
              "          element.innerHTML = '';\n",
              "          dataTable['output_type'] = 'display_data';\n",
              "          await google.colab.output.renderOutput(dataTable, element);\n",
              "          const docLink = document.createElement('div');\n",
              "          docLink.innerHTML = docLinkHtml;\n",
              "          element.appendChild(docLink);\n",
              "        }\n",
              "      </script>\n",
              "    </div>\n",
              "  </div>\n",
              "  "
            ]
          },
          "metadata": {},
          "execution_count": 242
        }
      ]
    },
    {
      "cell_type": "markdown",
      "metadata": {
        "id": "798a67ee"
      },
      "source": [
        "## Indexmengen"
      ]
    },
    {
      "cell_type": "code",
      "source": [
        "# Standorte\n",
        "S = standorte[\"Potenzielle_Standorte\"].unique().tolist() # Menge der Standorte\n"
      ],
      "metadata": {
        "id": "ep4tx586Ze_f"
      },
      "execution_count": 243,
      "outputs": []
    },
    {
      "cell_type": "code",
      "source": [
        "# Ausgabe Standorte\n",
        "S"
      ],
      "metadata": {
        "colab": {
          "base_uri": "https://localhost:8080/"
        },
        "id": "pDxFDY0PElOz",
        "outputId": "70e8dbf2-b2b0-4347-f240-c24c6eee330f"
      },
      "execution_count": 244,
      "outputs": [
        {
          "output_type": "execute_result",
          "data": {
            "text/plain": [
              "[0, 1, 2, 3, 4, 5, 6, 7, 8, 9]"
            ]
          },
          "metadata": {},
          "execution_count": 244
        }
      ]
    },
    {
      "cell_type": "code",
      "source": [
        "# I Kooritnaten\n",
        "I = [key for key, value in nachfrage.items()]\n",
        "\n",
        "print('I-Koordinaten: ' + str(I))"
      ],
      "metadata": {
        "id": "IxhGizoPNrPB",
        "colab": {
          "base_uri": "https://localhost:8080/"
        },
        "outputId": "a92c3d6d-5fb7-4637-b7e8-f1e1d6b80074"
      },
      "execution_count": 245,
      "outputs": [
        {
          "output_type": "stream",
          "name": "stdout",
          "text": [
            "I-Koordinaten: [0, 1, 2, 3, 4, 5, 6, 7, 8, 9, 10, 11, 12]\n"
          ]
        }
      ]
    },
    {
      "cell_type": "code",
      "source": [
        "# J Koordinaten\n",
        "J = [list(value.keys()) for value in nachfrage.values()][0]\n",
        "\n",
        "print('J-Koordinaten: ' + str(J))\n"
      ],
      "metadata": {
        "colab": {
          "base_uri": "https://localhost:8080/"
        },
        "id": "O-IqlIEgkS49",
        "outputId": "8ec48c27-f4b2-4428-f8d9-8976889bdd32"
      },
      "execution_count": 246,
      "outputs": [
        {
          "output_type": "stream",
          "name": "stdout",
          "text": [
            "J-Koordinaten: [0, 1, 2, 3, 4, 5, 6, 7, 8, 9, 10, 11, 12]\n"
          ]
        }
      ]
    },
    {
      "cell_type": "markdown",
      "metadata": {
        "id": "b99b4ca0"
      },
      "source": [
        "## Parameter"
      ]
    },
    {
      "cell_type": "code",
      "source": [
        "# Standortkoordinaten\n",
        "\n",
        "# I-Koordinate von Standort S\n",
        "ki_s = standorte.set_index([\"Potenzielle_Standorte\"]).to_dict(\"dict\")[\"i_Koordinate\"]\n",
        "\n",
        "# J-Koordinate von Standort S\n",
        "kj_s = standorte.set_index([\"Potenzielle_Standorte\"]).to_dict(\"dict\")[\"j_Koordinate\"]\n",
        "\n",
        "# check\n",
        "print(ki_s)\n",
        "print(kj_s)"
      ],
      "metadata": {
        "id": "LnaXtWEACWoU",
        "colab": {
          "base_uri": "https://localhost:8080/"
        },
        "outputId": "84030809-1123-41ff-dd43-9c36a5aa632c"
      },
      "execution_count": 247,
      "outputs": [
        {
          "output_type": "stream",
          "name": "stdout",
          "text": [
            "{0: 1, 1: 8, 2: 10, 3: 10, 4: 13, 5: 4, 6: 13, 7: 4, 8: 12, 9: 4}\n",
            "{0: 0, 1: 11, 2: 4, 3: 10, 4: 6, 5: 8, 6: 7, 7: 6, 8: 6, 9: 4}\n"
          ]
        }
      ]
    },
    {
      "cell_type": "code",
      "source": [
        "# Umschlagsleistung\n",
        "u = standorte.set_index([\"Potenzielle_Standorte\"]).to_dict(\"dict\")[\"Lagerumschlagleistung\"]\n",
        "#check\n",
        "u\n"
      ],
      "metadata": {
        "id": "-k__H4DlP84P",
        "colab": {
          "base_uri": "https://localhost:8080/"
        },
        "outputId": "fd0c23ae-19a7-4386-c601-5f64b911f823"
      },
      "execution_count": 248,
      "outputs": [
        {
          "output_type": "execute_result",
          "data": {
            "text/plain": [
              "{0: 500,\n",
              " 1: 600,\n",
              " 2: 500,\n",
              " 3: 750,\n",
              " 4: 725,\n",
              " 5: 750,\n",
              " 6: 455,\n",
              " 7: 3000,\n",
              " 8: 1400,\n",
              " 9: 2250}"
            ]
          },
          "metadata": {},
          "execution_count": 248
        }
      ]
    },
    {
      "cell_type": "code",
      "source": [
        "# Errichtungskosten\n",
        "c = standorte.set_index([\"Potenzielle_Standorte\"]).to_dict(\"dict\")[\"Errichtungskosten\"]\n",
        "#check\n",
        "c"
      ],
      "metadata": {
        "colab": {
          "base_uri": "https://localhost:8080/"
        },
        "id": "Wqn1TBOqx2y1",
        "outputId": "9e0ba504-9617-44be-9c24-c1d24a15fabe"
      },
      "execution_count": 249,
      "outputs": [
        {
          "output_type": "execute_result",
          "data": {
            "text/plain": [
              "{0: 100000,\n",
              " 1: 90000,\n",
              " 2: 95000,\n",
              " 3: 101000,\n",
              " 4: 98500,\n",
              " 5: 97500,\n",
              " 6: 105000,\n",
              " 7: 225000,\n",
              " 8: 300000,\n",
              " 9: 200000}"
            ]
          },
          "metadata": {},
          "execution_count": 249
        }
      ]
    },
    {
      "cell_type": "code",
      "source": [
        "# Nachfrage\n",
        "n = nachfrage\n",
        "#check\n",
        "n[0][0]"
      ],
      "metadata": {
        "id": "QvTVt7VaD1fC",
        "colab": {
          "base_uri": "https://localhost:8080/"
        },
        "outputId": "c0f80171-1a69-465d-8788-aaa32c56ac5f"
      },
      "execution_count": 250,
      "outputs": [
        {
          "output_type": "execute_result",
          "data": {
            "text/plain": [
              "7"
            ]
          },
          "metadata": {},
          "execution_count": 250
        }
      ]
    },
    {
      "cell_type": "markdown",
      "metadata": {
        "id": "d1f9cf18"
      },
      "source": [
        "## Entscheidungsvariablen"
      ]
    },
    {
      "cell_type": "code",
      "source": [
        "# Binäre Versorgungsvariable\n",
        "V={}\n",
        "for s in S: \n",
        "  for i in I:\n",
        "    for j in J:\n",
        "        V[s,i,j] = solver.BoolVar(f\"{s},{i},{j}\")\n",
        "\n",
        "#check\n",
        "V[1,3,7]"
      ],
      "metadata": {
        "colab": {
          "base_uri": "https://localhost:8080/"
        },
        "id": "nxCunJ1Tv47J",
        "outputId": "c27e8717-052f-4dac-bc8b-0e64abb3b692"
      },
      "execution_count": 251,
      "outputs": [
        {
          "output_type": "execute_result",
          "data": {
            "text/plain": [
              "1,3,7"
            ]
          },
          "metadata": {},
          "execution_count": 251
        }
      ]
    },
    {
      "cell_type": "code",
      "source": [
        "# Binäre Standortausbauvariable\n",
        "Y={}\n",
        "for s in S:\n",
        "  Y[s] = solver.BoolVar(f\"{s}\")\n",
        "\n",
        "\n",
        "#check\n",
        "Y[1]"
      ],
      "metadata": {
        "colab": {
          "base_uri": "https://localhost:8080/"
        },
        "id": "6IkKpEdN1FrJ",
        "outputId": "1fdf1e5c-0d68-4031-ac3e-4ff91a13208a"
      },
      "execution_count": 252,
      "outputs": [
        {
          "output_type": "execute_result",
          "data": {
            "text/plain": [
              "1"
            ]
          },
          "metadata": {},
          "execution_count": 252
        }
      ]
    },
    {
      "cell_type": "code",
      "source": [
        "#infinity = solver.infinity()"
      ],
      "metadata": {
        "id": "KgIvlK2iAT_a"
      },
      "execution_count": 253,
      "outputs": []
    },
    {
      "cell_type": "code",
      "source": [
        "print('Anzahl Entscheidungsvariablen =', solver.NumVariables())"
      ],
      "metadata": {
        "id": "hN6GY-5YBA9Y",
        "colab": {
          "base_uri": "https://localhost:8080/"
        },
        "outputId": "2c7e4cfd-786f-414c-de0f-d3a13e6551e4"
      },
      "execution_count": 254,
      "outputs": [
        {
          "output_type": "stream",
          "name": "stdout",
          "text": [
            "Anzahl Entscheidungsvariablen = 1700\n"
          ]
        }
      ]
    },
    {
      "cell_type": "markdown",
      "metadata": {
        "id": "c9eede10"
      },
      "source": [
        "## Zielfunktion"
      ]
    },
    {
      "cell_type": "markdown",
      "source": [
        "### Zielfunktion\n",
        "Max $NA =  Y_s* v_s -  \\sum_{i,j} (V_{s,i,j} * n_{i,j})$   \n",
        "$∀ s$\n",
        "\n",
        "# neue Zielfunktion\n",
        "\n",
        "Maximiere Nachfrageabdeckung:\n",
        "\n",
        "Max $NA = \\sum_{i,j} (V_{s,i,j} * n_{i,j}*Y_s)$   "
      ],
      "metadata": {
        "id": "Wyzj6VKG2Btf"
      }
    },
    {
      "cell_type": "code",
      "source": [
        "\n",
        "for s in S:\n",
        "  solver.Maximize(\n",
        "\n",
        "      #sum(V[s,i,j]* n.get((i,j),0) for i in I for j in J)     \n",
        "  )\n",
        "\n",
        "  # * Y[s]????\n"
      ],
      "metadata": {
        "colab": {
          "base_uri": "https://localhost:8080/",
          "height": 381
        },
        "id": "uGdGI2sr2Dyh",
        "outputId": "f362731f-0f66-4465-e519-0780adc30c3f"
      },
      "execution_count": 264,
      "outputs": [
        {
          "output_type": "error",
          "ename": "TypeError",
          "evalue": "ignored",
          "traceback": [
            "\u001b[0;31m---------------------------------------------------------------------------\u001b[0m",
            "\u001b[0;31mTypeError\u001b[0m                                 Traceback (most recent call last)",
            "\u001b[0;32m<ipython-input-264-0bb708f70113>\u001b[0m in \u001b[0;36m<module>\u001b[0;34m\u001b[0m\n\u001b[1;32m      1\u001b[0m \u001b[0;32mfor\u001b[0m \u001b[0ms\u001b[0m \u001b[0;32min\u001b[0m \u001b[0mS\u001b[0m\u001b[0;34m:\u001b[0m\u001b[0;34m\u001b[0m\u001b[0;34m\u001b[0m\u001b[0m\n\u001b[1;32m      2\u001b[0m   solver.Maximize(\n\u001b[0;32m----> 3\u001b[0;31m       \u001b[0msum\u001b[0m\u001b[0;34m(\u001b[0m\u001b[0;34m(\u001b[0m\u001b[0mV\u001b[0m\u001b[0;34m[\u001b[0m\u001b[0ms\u001b[0m\u001b[0;34m,\u001b[0m\u001b[0mi\u001b[0m\u001b[0;34m,\u001b[0m\u001b[0mj\u001b[0m\u001b[0;34m]\u001b[0m\u001b[0;34m*\u001b[0m\u001b[0mn\u001b[0m\u001b[0;34m.\u001b[0m\u001b[0mget\u001b[0m\u001b[0;34m(\u001b[0m\u001b[0;34m(\u001b[0m\u001b[0mi\u001b[0m\u001b[0;34m,\u001b[0m\u001b[0mj\u001b[0m\u001b[0;34m)\u001b[0m\u001b[0;34m,\u001b[0m\u001b[0;36m0\u001b[0m\u001b[0;34m)\u001b[0m \u001b[0;32mfor\u001b[0m \u001b[0mi\u001b[0m \u001b[0;32min\u001b[0m \u001b[0mI\u001b[0m \u001b[0;32mfor\u001b[0m \u001b[0mj\u001b[0m \u001b[0;32min\u001b[0m \u001b[0mJ\u001b[0m\u001b[0;34m)\u001b[0m\u001b[0;34m*\u001b[0m\u001b[0mY\u001b[0m\u001b[0;34m[\u001b[0m\u001b[0ms\u001b[0m\u001b[0;34m]\u001b[0m\u001b[0;34m)\u001b[0m\u001b[0;34m\u001b[0m\u001b[0;34m\u001b[0m\u001b[0m\n\u001b[0m\u001b[1;32m      4\u001b[0m       \u001b[0;31m#sum(V[s,i,j]* n.get((i,j),0) for i in I for j in J)\u001b[0m\u001b[0;34m\u001b[0m\u001b[0;34m\u001b[0m\u001b[0;34m\u001b[0m\u001b[0m\n\u001b[1;32m      5\u001b[0m \u001b[0;34m\u001b[0m\u001b[0m\n",
            "\u001b[0;32m/usr/local/lib/python3.8/dist-packages/ortools/linear_solver/pywraplp.py\u001b[0m in \u001b[0;36m<lambda>\u001b[0;34m(self, *args)\u001b[0m\n\u001b[1;32m   1046\u001b[0m \u001b[0;32mdef\u001b[0m \u001b[0msetup_variable_operator\u001b[0m\u001b[0;34m(\u001b[0m\u001b[0mopname\u001b[0m\u001b[0;34m)\u001b[0m\u001b[0;34m:\u001b[0m\u001b[0;34m\u001b[0m\u001b[0;34m\u001b[0m\u001b[0m\n\u001b[1;32m   1047\u001b[0m   setattr(Variable, opname,\n\u001b[0;32m-> 1048\u001b[0;31m           lambda self, *args: getattr(VariableExpr(self), opname)(*args))\n\u001b[0m\u001b[1;32m   1049\u001b[0m \u001b[0;32mfor\u001b[0m \u001b[0mopname\u001b[0m \u001b[0;32min\u001b[0m \u001b[0mLinearExpr\u001b[0m\u001b[0;34m.\u001b[0m\u001b[0mOVERRIDDEN_OPERATOR_METHODS\u001b[0m\u001b[0;34m:\u001b[0m\u001b[0;34m\u001b[0m\u001b[0;34m\u001b[0m\u001b[0m\n\u001b[1;32m   1050\u001b[0m   \u001b[0msetup_variable_operator\u001b[0m\u001b[0;34m(\u001b[0m\u001b[0mopname\u001b[0m\u001b[0;34m)\u001b[0m\u001b[0;34m\u001b[0m\u001b[0;34m\u001b[0m\u001b[0m\n",
            "\u001b[0;32m/usr/local/lib/python3.8/dist-packages/ortools/linear_solver/linear_solver_natural_api.py\u001b[0m in \u001b[0;36m__rmul__\u001b[0;34m(self, cst)\u001b[0m\n\u001b[1;32m    118\u001b[0m \u001b[0;34m\u001b[0m\u001b[0m\n\u001b[1;32m    119\u001b[0m   \u001b[0;32mdef\u001b[0m \u001b[0m__rmul__\u001b[0m\u001b[0;34m(\u001b[0m\u001b[0mself\u001b[0m\u001b[0;34m,\u001b[0m \u001b[0mcst\u001b[0m\u001b[0;34m)\u001b[0m\u001b[0;34m:\u001b[0m\u001b[0;34m\u001b[0m\u001b[0;34m\u001b[0m\u001b[0m\n\u001b[0;32m--> 120\u001b[0;31m     \u001b[0;32mreturn\u001b[0m \u001b[0mProductCst\u001b[0m\u001b[0;34m(\u001b[0m\u001b[0mself\u001b[0m\u001b[0;34m,\u001b[0m \u001b[0mcst\u001b[0m\u001b[0;34m)\u001b[0m\u001b[0;34m\u001b[0m\u001b[0;34m\u001b[0m\u001b[0m\n\u001b[0m\u001b[1;32m    121\u001b[0m \u001b[0;34m\u001b[0m\u001b[0m\n\u001b[1;32m    122\u001b[0m   \u001b[0;32mdef\u001b[0m \u001b[0m__div__\u001b[0m\u001b[0;34m(\u001b[0m\u001b[0mself\u001b[0m\u001b[0;34m,\u001b[0m \u001b[0mcst\u001b[0m\u001b[0;34m)\u001b[0m\u001b[0;34m:\u001b[0m\u001b[0;34m\u001b[0m\u001b[0;34m\u001b[0m\u001b[0m\n",
            "\u001b[0;32m/usr/local/lib/python3.8/dist-packages/ortools/linear_solver/linear_solver_natural_api.py\u001b[0m in \u001b[0;36m__init__\u001b[0;34m(self, expr, coef)\u001b[0m\n\u001b[1;32m    177\u001b[0m       \u001b[0mself\u001b[0m\u001b[0;34m.\u001b[0m\u001b[0m__coef\u001b[0m \u001b[0;34m=\u001b[0m \u001b[0mcoef\u001b[0m\u001b[0;34m\u001b[0m\u001b[0;34m\u001b[0m\u001b[0m\n\u001b[1;32m    178\u001b[0m     \u001b[0;32melse\u001b[0m\u001b[0;34m:\u001b[0m\u001b[0;34m\u001b[0m\u001b[0;34m\u001b[0m\u001b[0m\n\u001b[0;32m--> 179\u001b[0;31m       \u001b[0;32mraise\u001b[0m \u001b[0mTypeError\u001b[0m\u001b[0;34m\u001b[0m\u001b[0;34m\u001b[0m\u001b[0m\n\u001b[0m\u001b[1;32m    180\u001b[0m \u001b[0;34m\u001b[0m\u001b[0m\n\u001b[1;32m    181\u001b[0m   \u001b[0;32mdef\u001b[0m \u001b[0m__str__\u001b[0m\u001b[0;34m(\u001b[0m\u001b[0mself\u001b[0m\u001b[0;34m)\u001b[0m\u001b[0;34m:\u001b[0m\u001b[0;34m\u001b[0m\u001b[0;34m\u001b[0m\u001b[0m\n",
            "\u001b[0;31mTypeError\u001b[0m: "
          ]
        }
      ]
    },
    {
      "cell_type": "markdown",
      "metadata": {
        "id": "a8534816"
      },
      "source": [
        "## Nebenbedingungen"
      ]
    },
    {
      "cell_type": "markdown",
      "source": [
        "**(1) Budget einhalten**\n",
        "\n",
        "$\\sum_{s} (c_s*Y_s) \\le 1.000.000 $\n",
        "\n",
        "Summe über: \n",
        "\n",
        "Kosten  für Ausbau * Entscheidung Ausbau <= Budget"
      ],
      "metadata": {
        "id": "0408vUQT7v3r"
      }
    },
    {
      "cell_type": "code",
      "source": [
        "for s in S:\n",
        "  solver.Add(sum(c[s]*Y[s] for s in S)<= 1000000)\n",
        " "
      ],
      "metadata": {
        "id": "0q4H4wEGh3zw"
      },
      "execution_count": 256,
      "outputs": []
    },
    {
      "cell_type": "markdown",
      "source": [
        "**(2) Lieferzeit einhalten**\n",
        "\n",
        "$(|ki_s - i| + |kj_s - j|)* v_{s,i,j} \\le 5 $\n",
        "\n",
        "$∀ s,i,j$\n",
        "\n",
        "\n",
        "Prüfe für jedes $s, i , j$:\n",
        "\n",
        "Entfernung  <= 5, wenn $ij$ von $s$ beliefert wird"
      ],
      "metadata": {
        "id": "fuLDgmy67v3s"
      }
    },
    {
      "cell_type": "code",
      "source": [
        "for s in S:\n",
        " for i in I:\n",
        "    for j in J:\n",
        "      solver.Add((abs(ki_s[s]-i) +abs(kj_s[s]- j)*V[s,i,j])<=5)\n"
      ],
      "metadata": {
        "id": "Fjwkcnd484bd"
      },
      "execution_count": 257,
      "outputs": []
    },
    {
      "cell_type": "markdown",
      "source": [
        "**(3) Keine Doppelbedienung der Quandranden**\n",
        "\n",
        "$\\sum_s v_{s,i,j} \\le 1$\n",
        "\n",
        "$∀ i, j$\n",
        "\n",
        "Prüfe für alle Koordinaten, ob Belieferung kleiner gleich 1."
      ],
      "metadata": {
        "id": "Fv9tpzwZ7v3s"
      }
    },
    {
      "cell_type": "code",
      "source": [
        "for i in I:\n",
        "  for j in J:\n",
        "    solver.Add(sum(V[s,i,j] for s in S)<=1)"
      ],
      "metadata": {
        "id": "zPGlBe1UCEsj"
      },
      "execution_count": 258,
      "outputs": []
    },
    {
      "cell_type": "markdown",
      "source": [
        "**(4) Kapazitäten einhalten**\n",
        "\n",
        "$\\sum (V_{s,i,j}* n_{i,j}) \\le u_s$\n",
        "\n",
        "$∀ s$\n",
        "\n",
        "Prüfe für jeden Standort:\n",
        "\n",
        "Summe Versorgung (ja/nein) * Nachfrage  ist kleiner (gleich) als Umschlagsleistung. "
      ],
      "metadata": {
        "id": "BjAQOOOU7v3s"
      }
    },
    {
      "cell_type": "code",
      "source": [
        "for s in S:\n",
        "  solver.Add(sum(V[s,i,j]*n.get((i,j),0) for i in I for j in J)<= u[s])\n",
        "\n",
        "  # klären, wieso key error bei n. Eigentlich sollte die Nachfrage für jeden Quadranden vorhanden sein???"
      ],
      "metadata": {
        "id": "mRoL1ZRDHIee"
      },
      "execution_count": 259,
      "outputs": []
    },
    {
      "cell_type": "markdown",
      "metadata": {
        "id": "9a459618"
      },
      "source": [
        "## Berechnung Lösung"
      ]
    },
    {
      "cell_type": "code",
      "execution_count": 260,
      "metadata": {
        "id": "b9005832",
        "colab": {
          "base_uri": "https://localhost:8080/"
        },
        "outputId": "d59db2e8-3ff2-42c8-d0f2-d694e96aa010"
      },
      "outputs": [
        {
          "output_type": "stream",
          "name": "stdout",
          "text": [
            "Problem hat keine Lösung\n"
          ]
        }
      ],
      "source": [
        "status = solver.Solve()\n",
        "\n",
        "if status == pywraplp.Solver.OPTIMAL:\n",
        "    print('LÖSUNG:')\n",
        "    print('Zielfunktionswert (Nachfrageabdeckung) =', solver.Objective().Value())\n",
        "else:\n",
        "    print('Problem hat keine Lösung')"
      ]
    },
    {
      "cell_type": "code",
      "source": [
        "for s in S:\n",
        "  print(f\"Standort: {s}\")\n",
        "  print(\"Wir bauen aus: 0/1: \")\n",
        "  Y[s]"
      ],
      "metadata": {
        "id": "VTBSqfQPiK7H",
        "colab": {
          "base_uri": "https://localhost:8080/"
        },
        "outputId": "87b4946e-4159-4bcd-a204-4af8bcf738a6"
      },
      "execution_count": 261,
      "outputs": [
        {
          "output_type": "stream",
          "name": "stdout",
          "text": [
            "Standort: 0\n",
            "Wir bauen aus: 0/1: \n",
            "Standort: 1\n",
            "Wir bauen aus: 0/1: \n",
            "Standort: 2\n",
            "Wir bauen aus: 0/1: \n",
            "Standort: 3\n",
            "Wir bauen aus: 0/1: \n",
            "Standort: 4\n",
            "Wir bauen aus: 0/1: \n",
            "Standort: 5\n",
            "Wir bauen aus: 0/1: \n",
            "Standort: 6\n",
            "Wir bauen aus: 0/1: \n",
            "Standort: 7\n",
            "Wir bauen aus: 0/1: \n",
            "Standort: 8\n",
            "Wir bauen aus: 0/1: \n",
            "Standort: 9\n",
            "Wir bauen aus: 0/1: \n"
          ]
        }
      ]
    },
    {
      "cell_type": "code",
      "source": [],
      "metadata": {
        "id": "v_9uZ2olwyJX"
      },
      "execution_count": 261,
      "outputs": []
    }
  ]
}