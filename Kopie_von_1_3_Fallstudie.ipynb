{
  "nbformat": 4,
  "nbformat_minor": 0,
  "metadata": {
    "colab": {
      "provenance": [],
      "collapsed_sections": [
        "FznCQVc5-wbh",
        "D87-db6w-wKF",
        "ZriT_5GT_wQL"
      ],
      "include_colab_link": true
    },
    "kernelspec": {
      "name": "python3",
      "display_name": "Python 3"
    },
    "language_info": {
      "name": "python"
    }
  },
  "cells": [
    {
      "cell_type": "markdown",
      "metadata": {
        "id": "view-in-github",
        "colab_type": "text"
      },
      "source": [
        "<a href=\"https://colab.research.google.com/github/Lifeisbetterwithlena/SCM_Fallstudie/blob/main/Kopie_von_1_3_Fallstudie.ipynb\" target=\"_parent\"><img src=\"https://colab.research.google.com/assets/colab-badge.svg\" alt=\"Open In Colab\"/></a>"
      ]
    },
    {
      "cell_type": "markdown",
      "metadata": {
        "id": "b2fc884d"
      },
      "source": [
        "# Fallstudie Flink\n",
        "## Standortentscheidung Erweiterung "
      ]
    },
    {
      "cell_type": "markdown",
      "source": [
        "## Modell"
      ],
      "metadata": {
        "id": "eV_cjbhd-c2I"
      }
    },
    {
      "cell_type": "markdown",
      "source": [
        "### Indexmengen\n",
        "$s \\in S$ : Menge der potenziellen DarkStores (Standorte)\n",
        "\n",
        "$i \\in I$ : Menge der (Nachfrage) i-Koordinaten \n",
        "\n",
        "$j \\in J$ : Menge der (Nachfrage) j-Koordinaten  \n",
        "\n"
      ],
      "metadata": {
        "id": "FznCQVc5-wbh"
      }
    },
    {
      "cell_type": "markdown",
      "source": [
        "### Parameter\n",
        "$n_{ij}$ : Nachfrage an $i$$j$\n",
        "\n",
        "$u_{s}$ : Lagerumschlagsleistung an Standort $s$\n",
        "\n",
        "$c_{s}$ : Errichtungskosten für Standort $s$\n",
        "\n",
        "$ki_{s}$ : $i$-Kooridnate von Standort $s$ \n",
        "\n",
        "$kj_{s}$ : $j$-Kooridnate von Standort $s$ \n",
        "\n"
      ],
      "metadata": {
        "id": "D87-db6w-wKF"
      }
    },
    {
      "cell_type": "markdown",
      "source": [
        "### Entscheidungsvariablen\n",
        "\n",
        "$V_{sij} \\in \\{0,1\\}$ : Binäre Standort-Versorgungsvariable\n",
        "\n",
        "$Y_{s} \\in \\{0,1\\}$ : Binäre Standortausbauvariable\n",
        "\n",
        "### ----------\n",
        "#### Erweiterung \n",
        "\n",
        "$NA_{sij} \\ge 0$ : Nachfrageabdeckung von Standort $S$ an Quadrant  $ij$ \n",
        "\n",
        "$Q_{ij} \\in \\{0,1\\}$ : Binäre Versorgungsvariable (Quadrant)"
      ],
      "metadata": {
        "id": "ZriT_5GT_wQL"
      }
    },
    {
      "cell_type": "markdown",
      "source": [
        "\n",
        "### Neue Zielfunktion\n",
        "\n",
        "Maximiere Nachfrageabdeckung erweiterung:\n",
        "\n",
        "Max $NA = \\sum_{s,i,j} (NA_{s,i,j})$  "
      ],
      "metadata": {
        "id": "lUZoqj8e-wBa"
      }
    },
    {
      "cell_type": "markdown",
      "source": [
        "### Nebenbedingungen"
      ],
      "metadata": {
        "id": "2x-xiFCP-v0l"
      }
    },
    {
      "cell_type": "markdown",
      "source": [
        "**(1) Budget einhalten**\n",
        "\n",
        "$\\sum_{s} (c_s*Y_s) \\le 1.000.000 $\n",
        "\n",
        "Summe über: \n",
        "\n",
        "Kosten  für Ausbau * Entscheidung Ausbau <= Budget"
      ],
      "metadata": {
        "id": "6u_OSabxCAyB"
      }
    },
    {
      "cell_type": "markdown",
      "source": [
        "**(2) Lieferzeit einhalten**\n",
        "\n",
        "$(|ki_s - i| + |kj_s - j|)* V_{s,i,j} \\le 5 $\n",
        "\n",
        "$∀ s,i,j$\n",
        "\n",
        "\n",
        "Prüfe für jedes $s, i , j$:\n",
        "\n",
        "Entfernung  <= 5, wenn $ij$ von $s$ beliefert wird"
      ],
      "metadata": {
        "id": "hK_iqilARrsU"
      }
    },
    {
      "cell_type": "markdown",
      "source": [
        "**(3) Höchstens Doppelbedienung der Quandranden**\n",
        "\n",
        "$\\sum_s V_{s,i,j} \\le 2$\n",
        "\n",
        "$∀ i, j$\n",
        "\n",
        "Prüfe für alle Koordinaten, ob Belieferung kleiner gleich 1."
      ],
      "metadata": {
        "id": "fUhgNqZVSLHd"
      }
    },
    {
      "cell_type": "markdown",
      "source": [
        "**(4) Kapazitäten einhalten**\n",
        "\n",
        "$\\sum_{i,j} (NA_{s,i,j}) \\le u_s *Y_s $ \n",
        "\n",
        "$∀ s$\n",
        "\n",
        "Prüfe für jeden Standort:\n",
        "\n",
        "Summe Versorgung (ja/nein) * Nachfrageabdeckung  ist kleiner (gleich) als Umschlagsleistung. "
      ],
      "metadata": {
        "id": "o0sdZl-54q-J"
      }
    },
    {
      "cell_type": "markdown",
      "source": [
        "**(5) Nachfragebedienung**\n",
        "\n",
        "$\\sum_s NA_{s,i,j} = n_{i,j} *Q_{i,j}$ \n",
        "\n",
        "$∀ i,j$\n",
        "\n",
        "Summe aus der Nachfrageabdeckung aller Standorte für jede i und j ergibt die Nachfrge in i j, wenn der Quadrant bedient wird"
      ],
      "metadata": {
        "id": "kFEvFweF5ncG"
      }
    },
    {
      "cell_type": "markdown",
      "source": [
        "**(6) Nachfrageabdeckung nur über 0 wenn Versorgungsvariable 1**\n",
        "\n",
        "$NA_{s,i,j} <= n_{i,j} * V_{s,i,j}$ \n",
        "\n",
        "$∀ s,i,j$\n",
        "\n"
      ],
      "metadata": {
        "id": "ysZi2o2_BC5V"
      }
    },
    {
      "cell_type": "markdown",
      "source": [
        "**(7) Nachfrageabdeckung von Standort kleiner gleich Quadantversorgung**\n",
        "\n",
        "$Y_{s,i,j} <= Q_{i,j} $ \n",
        "\n",
        "$∀ s,i,j$\n",
        "\n"
      ],
      "metadata": {
        "id": "_smSKCsSkwYB"
      }
    },
    {
      "cell_type": "markdown",
      "source": [
        "## Implementierung"
      ],
      "metadata": {
        "id": "8T1IHcjpUBoZ"
      }
    },
    {
      "cell_type": "markdown",
      "source": [
        "## Datenaufbereitung\n",
        "\n",
        "\n",
        "1.   Fallstudien-Daten in Google-Drive laden\n",
        "2.   Google-Drive mit Colab-Notebook verbinden\n",
        "3.   Daten mit `pandas` laden\n",
        "\n"
      ],
      "metadata": {
        "id": "muy4OW--8Dp5"
      }
    },
    {
      "cell_type": "code",
      "source": [
        "from google.colab import drive\n",
        "drive.mount('/content/drive')"
      ],
      "metadata": {
        "id": "DkkKC0dg82Cc",
        "colab": {
          "base_uri": "https://localhost:8080/"
        },
        "outputId": "cc236b6e-a0a5-47d8-9c22-a8ab0951c231"
      },
      "execution_count": 1,
      "outputs": [
        {
          "output_type": "stream",
          "name": "stdout",
          "text": [
            "Mounted at /content/drive\n"
          ]
        }
      ]
    },
    {
      "cell_type": "code",
      "source": [
        "# Ordner finden\n",
        "! ls drive/MyDrive/Industrielles_Management/Daten/Fallstudie"
      ],
      "metadata": {
        "id": "7MzXHG4B86Qx",
        "colab": {
          "base_uri": "https://localhost:8080/"
        },
        "outputId": "14ffc19c-54c4-457c-bc35-50747e824786"
      },
      "execution_count": 2,
      "outputs": [
        {
          "output_type": "stream",
          "name": "stdout",
          "text": [
            "Nachfrage.csv  Standorte.csv\n"
          ]
        }
      ]
    },
    {
      "cell_type": "code",
      "source": [
        "# Pfad zurückgeben\n",
        "! cd drive/MyDrive/Industrielles_Management/Daten/Fallstudie && pwd"
      ],
      "metadata": {
        "id": "kkXWmM2i-OB3",
        "colab": {
          "base_uri": "https://localhost:8080/"
        },
        "outputId": "63f1de82-5428-4f16-bc37-e8358f1cd1d8"
      },
      "execution_count": 3,
      "outputs": [
        {
          "output_type": "stream",
          "name": "stdout",
          "text": [
            "/content/drive/MyDrive/Industrielles_Management/Daten/Fallstudie\n"
          ]
        }
      ]
    },
    {
      "cell_type": "code",
      "source": [
        "# Daten laden\n",
        "import pandas as pd"
      ],
      "metadata": {
        "id": "2-oi6YL28FEt"
      },
      "execution_count": 4,
      "outputs": []
    },
    {
      "cell_type": "code",
      "source": [
        "path = \"/content/drive/MyDrive/Industrielles_Management/Daten/Fallstudie\""
      ],
      "metadata": {
        "id": "m_knWvLgTtYP"
      },
      "execution_count": 5,
      "outputs": []
    },
    {
      "cell_type": "code",
      "source": [
        "# Nachfragedaten lesen & speichern\n",
        "nachfrage_df = pd.read_csv(f\"{path}/Nachfrage.csv\", sep=\";\")"
      ],
      "metadata": {
        "id": "uF0YYNBI8ILm"
      },
      "execution_count": 6,
      "outputs": []
    },
    {
      "cell_type": "code",
      "source": [
        "# Nachfragedaten ausgeben\n",
        "nachfrage_df"
      ],
      "metadata": {
        "id": "EkihB5ZxIavj",
        "colab": {
          "base_uri": "https://localhost:8080/",
          "height": 452
        },
        "outputId": "2105eadb-de4d-495b-e6ef-e1850f4515f3"
      },
      "execution_count": 7,
      "outputs": [
        {
          "output_type": "execute_result",
          "data": {
            "text/plain": [
              "    Unnamed: 0   0   1   2   3   4   5   6   7   8   9  10  11  12\n",
              "0            0   7  91  34  77  33  47  43  51  81  28  88  74  81\n",
              "1            1  73  82  76  51  80  42  83  19  37  37  85  18  67\n",
              "2            2  85  57  67  14   1  92  41  32  16  83  65  39  18\n",
              "3            3  42  87  23  56  15  99  60  85  90  68   9  63  88\n",
              "4            4  23  93  36  65  96  31   8  54  27  74  59  70  36\n",
              "5            5   2  71  34  38  62  45  86  95  93  12  83  59  17\n",
              "6            6  31  41  54   1  97  73   5  73  44  93  94   2  56\n",
              "7            7  61  44  86   1  69  65  32  95  61  39   7  61  31\n",
              "8            8  59  49   1  70  86  26  62  40  96  82   3  20  83\n",
              "9            9  10  38  37  77  16  94  34  67  96  64  32  30  63\n",
              "10          10  56  35  21  89  28  60  90  21  65  25  68  73  43\n",
              "11          11  35  91   9  32  25  86  41  41  52   4  28  65  24\n",
              "12          12  13  10  17  42  61  37  52  66  10  13  15  72  83"
            ],
            "text/html": [
              "\n",
              "  <div id=\"df-eb0c3209-3840-4175-ad58-3acfb7120517\">\n",
              "    <div class=\"colab-df-container\">\n",
              "      <div>\n",
              "<style scoped>\n",
              "    .dataframe tbody tr th:only-of-type {\n",
              "        vertical-align: middle;\n",
              "    }\n",
              "\n",
              "    .dataframe tbody tr th {\n",
              "        vertical-align: top;\n",
              "    }\n",
              "\n",
              "    .dataframe thead th {\n",
              "        text-align: right;\n",
              "    }\n",
              "</style>\n",
              "<table border=\"1\" class=\"dataframe\">\n",
              "  <thead>\n",
              "    <tr style=\"text-align: right;\">\n",
              "      <th></th>\n",
              "      <th>Unnamed: 0</th>\n",
              "      <th>0</th>\n",
              "      <th>1</th>\n",
              "      <th>2</th>\n",
              "      <th>3</th>\n",
              "      <th>4</th>\n",
              "      <th>5</th>\n",
              "      <th>6</th>\n",
              "      <th>7</th>\n",
              "      <th>8</th>\n",
              "      <th>9</th>\n",
              "      <th>10</th>\n",
              "      <th>11</th>\n",
              "      <th>12</th>\n",
              "    </tr>\n",
              "  </thead>\n",
              "  <tbody>\n",
              "    <tr>\n",
              "      <th>0</th>\n",
              "      <td>0</td>\n",
              "      <td>7</td>\n",
              "      <td>91</td>\n",
              "      <td>34</td>\n",
              "      <td>77</td>\n",
              "      <td>33</td>\n",
              "      <td>47</td>\n",
              "      <td>43</td>\n",
              "      <td>51</td>\n",
              "      <td>81</td>\n",
              "      <td>28</td>\n",
              "      <td>88</td>\n",
              "      <td>74</td>\n",
              "      <td>81</td>\n",
              "    </tr>\n",
              "    <tr>\n",
              "      <th>1</th>\n",
              "      <td>1</td>\n",
              "      <td>73</td>\n",
              "      <td>82</td>\n",
              "      <td>76</td>\n",
              "      <td>51</td>\n",
              "      <td>80</td>\n",
              "      <td>42</td>\n",
              "      <td>83</td>\n",
              "      <td>19</td>\n",
              "      <td>37</td>\n",
              "      <td>37</td>\n",
              "      <td>85</td>\n",
              "      <td>18</td>\n",
              "      <td>67</td>\n",
              "    </tr>\n",
              "    <tr>\n",
              "      <th>2</th>\n",
              "      <td>2</td>\n",
              "      <td>85</td>\n",
              "      <td>57</td>\n",
              "      <td>67</td>\n",
              "      <td>14</td>\n",
              "      <td>1</td>\n",
              "      <td>92</td>\n",
              "      <td>41</td>\n",
              "      <td>32</td>\n",
              "      <td>16</td>\n",
              "      <td>83</td>\n",
              "      <td>65</td>\n",
              "      <td>39</td>\n",
              "      <td>18</td>\n",
              "    </tr>\n",
              "    <tr>\n",
              "      <th>3</th>\n",
              "      <td>3</td>\n",
              "      <td>42</td>\n",
              "      <td>87</td>\n",
              "      <td>23</td>\n",
              "      <td>56</td>\n",
              "      <td>15</td>\n",
              "      <td>99</td>\n",
              "      <td>60</td>\n",
              "      <td>85</td>\n",
              "      <td>90</td>\n",
              "      <td>68</td>\n",
              "      <td>9</td>\n",
              "      <td>63</td>\n",
              "      <td>88</td>\n",
              "    </tr>\n",
              "    <tr>\n",
              "      <th>4</th>\n",
              "      <td>4</td>\n",
              "      <td>23</td>\n",
              "      <td>93</td>\n",
              "      <td>36</td>\n",
              "      <td>65</td>\n",
              "      <td>96</td>\n",
              "      <td>31</td>\n",
              "      <td>8</td>\n",
              "      <td>54</td>\n",
              "      <td>27</td>\n",
              "      <td>74</td>\n",
              "      <td>59</td>\n",
              "      <td>70</td>\n",
              "      <td>36</td>\n",
              "    </tr>\n",
              "    <tr>\n",
              "      <th>5</th>\n",
              "      <td>5</td>\n",
              "      <td>2</td>\n",
              "      <td>71</td>\n",
              "      <td>34</td>\n",
              "      <td>38</td>\n",
              "      <td>62</td>\n",
              "      <td>45</td>\n",
              "      <td>86</td>\n",
              "      <td>95</td>\n",
              "      <td>93</td>\n",
              "      <td>12</td>\n",
              "      <td>83</td>\n",
              "      <td>59</td>\n",
              "      <td>17</td>\n",
              "    </tr>\n",
              "    <tr>\n",
              "      <th>6</th>\n",
              "      <td>6</td>\n",
              "      <td>31</td>\n",
              "      <td>41</td>\n",
              "      <td>54</td>\n",
              "      <td>1</td>\n",
              "      <td>97</td>\n",
              "      <td>73</td>\n",
              "      <td>5</td>\n",
              "      <td>73</td>\n",
              "      <td>44</td>\n",
              "      <td>93</td>\n",
              "      <td>94</td>\n",
              "      <td>2</td>\n",
              "      <td>56</td>\n",
              "    </tr>\n",
              "    <tr>\n",
              "      <th>7</th>\n",
              "      <td>7</td>\n",
              "      <td>61</td>\n",
              "      <td>44</td>\n",
              "      <td>86</td>\n",
              "      <td>1</td>\n",
              "      <td>69</td>\n",
              "      <td>65</td>\n",
              "      <td>32</td>\n",
              "      <td>95</td>\n",
              "      <td>61</td>\n",
              "      <td>39</td>\n",
              "      <td>7</td>\n",
              "      <td>61</td>\n",
              "      <td>31</td>\n",
              "    </tr>\n",
              "    <tr>\n",
              "      <th>8</th>\n",
              "      <td>8</td>\n",
              "      <td>59</td>\n",
              "      <td>49</td>\n",
              "      <td>1</td>\n",
              "      <td>70</td>\n",
              "      <td>86</td>\n",
              "      <td>26</td>\n",
              "      <td>62</td>\n",
              "      <td>40</td>\n",
              "      <td>96</td>\n",
              "      <td>82</td>\n",
              "      <td>3</td>\n",
              "      <td>20</td>\n",
              "      <td>83</td>\n",
              "    </tr>\n",
              "    <tr>\n",
              "      <th>9</th>\n",
              "      <td>9</td>\n",
              "      <td>10</td>\n",
              "      <td>38</td>\n",
              "      <td>37</td>\n",
              "      <td>77</td>\n",
              "      <td>16</td>\n",
              "      <td>94</td>\n",
              "      <td>34</td>\n",
              "      <td>67</td>\n",
              "      <td>96</td>\n",
              "      <td>64</td>\n",
              "      <td>32</td>\n",
              "      <td>30</td>\n",
              "      <td>63</td>\n",
              "    </tr>\n",
              "    <tr>\n",
              "      <th>10</th>\n",
              "      <td>10</td>\n",
              "      <td>56</td>\n",
              "      <td>35</td>\n",
              "      <td>21</td>\n",
              "      <td>89</td>\n",
              "      <td>28</td>\n",
              "      <td>60</td>\n",
              "      <td>90</td>\n",
              "      <td>21</td>\n",
              "      <td>65</td>\n",
              "      <td>25</td>\n",
              "      <td>68</td>\n",
              "      <td>73</td>\n",
              "      <td>43</td>\n",
              "    </tr>\n",
              "    <tr>\n",
              "      <th>11</th>\n",
              "      <td>11</td>\n",
              "      <td>35</td>\n",
              "      <td>91</td>\n",
              "      <td>9</td>\n",
              "      <td>32</td>\n",
              "      <td>25</td>\n",
              "      <td>86</td>\n",
              "      <td>41</td>\n",
              "      <td>41</td>\n",
              "      <td>52</td>\n",
              "      <td>4</td>\n",
              "      <td>28</td>\n",
              "      <td>65</td>\n",
              "      <td>24</td>\n",
              "    </tr>\n",
              "    <tr>\n",
              "      <th>12</th>\n",
              "      <td>12</td>\n",
              "      <td>13</td>\n",
              "      <td>10</td>\n",
              "      <td>17</td>\n",
              "      <td>42</td>\n",
              "      <td>61</td>\n",
              "      <td>37</td>\n",
              "      <td>52</td>\n",
              "      <td>66</td>\n",
              "      <td>10</td>\n",
              "      <td>13</td>\n",
              "      <td>15</td>\n",
              "      <td>72</td>\n",
              "      <td>83</td>\n",
              "    </tr>\n",
              "  </tbody>\n",
              "</table>\n",
              "</div>\n",
              "      <button class=\"colab-df-convert\" onclick=\"convertToInteractive('df-eb0c3209-3840-4175-ad58-3acfb7120517')\"\n",
              "              title=\"Convert this dataframe to an interactive table.\"\n",
              "              style=\"display:none;\">\n",
              "        \n",
              "  <svg xmlns=\"http://www.w3.org/2000/svg\" height=\"24px\"viewBox=\"0 0 24 24\"\n",
              "       width=\"24px\">\n",
              "    <path d=\"M0 0h24v24H0V0z\" fill=\"none\"/>\n",
              "    <path d=\"M18.56 5.44l.94 2.06.94-2.06 2.06-.94-2.06-.94-.94-2.06-.94 2.06-2.06.94zm-11 1L8.5 8.5l.94-2.06 2.06-.94-2.06-.94L8.5 2.5l-.94 2.06-2.06.94zm10 10l.94 2.06.94-2.06 2.06-.94-2.06-.94-.94-2.06-.94 2.06-2.06.94z\"/><path d=\"M17.41 7.96l-1.37-1.37c-.4-.4-.92-.59-1.43-.59-.52 0-1.04.2-1.43.59L10.3 9.45l-7.72 7.72c-.78.78-.78 2.05 0 2.83L4 21.41c.39.39.9.59 1.41.59.51 0 1.02-.2 1.41-.59l7.78-7.78 2.81-2.81c.8-.78.8-2.07 0-2.86zM5.41 20L4 18.59l7.72-7.72 1.47 1.35L5.41 20z\"/>\n",
              "  </svg>\n",
              "      </button>\n",
              "      \n",
              "  <style>\n",
              "    .colab-df-container {\n",
              "      display:flex;\n",
              "      flex-wrap:wrap;\n",
              "      gap: 12px;\n",
              "    }\n",
              "\n",
              "    .colab-df-convert {\n",
              "      background-color: #E8F0FE;\n",
              "      border: none;\n",
              "      border-radius: 50%;\n",
              "      cursor: pointer;\n",
              "      display: none;\n",
              "      fill: #1967D2;\n",
              "      height: 32px;\n",
              "      padding: 0 0 0 0;\n",
              "      width: 32px;\n",
              "    }\n",
              "\n",
              "    .colab-df-convert:hover {\n",
              "      background-color: #E2EBFA;\n",
              "      box-shadow: 0px 1px 2px rgba(60, 64, 67, 0.3), 0px 1px 3px 1px rgba(60, 64, 67, 0.15);\n",
              "      fill: #174EA6;\n",
              "    }\n",
              "\n",
              "    [theme=dark] .colab-df-convert {\n",
              "      background-color: #3B4455;\n",
              "      fill: #D2E3FC;\n",
              "    }\n",
              "\n",
              "    [theme=dark] .colab-df-convert:hover {\n",
              "      background-color: #434B5C;\n",
              "      box-shadow: 0px 1px 3px 1px rgba(0, 0, 0, 0.15);\n",
              "      filter: drop-shadow(0px 1px 2px rgba(0, 0, 0, 0.3));\n",
              "      fill: #FFFFFF;\n",
              "    }\n",
              "  </style>\n",
              "\n",
              "      <script>\n",
              "        const buttonEl =\n",
              "          document.querySelector('#df-eb0c3209-3840-4175-ad58-3acfb7120517 button.colab-df-convert');\n",
              "        buttonEl.style.display =\n",
              "          google.colab.kernel.accessAllowed ? 'block' : 'none';\n",
              "\n",
              "        async function convertToInteractive(key) {\n",
              "          const element = document.querySelector('#df-eb0c3209-3840-4175-ad58-3acfb7120517');\n",
              "          const dataTable =\n",
              "            await google.colab.kernel.invokeFunction('convertToInteractive',\n",
              "                                                     [key], {});\n",
              "          if (!dataTable) return;\n",
              "\n",
              "          const docLinkHtml = 'Like what you see? Visit the ' +\n",
              "            '<a target=\"_blank\" href=https://colab.research.google.com/notebooks/data_table.ipynb>data table notebook</a>'\n",
              "            + ' to learn more about interactive tables.';\n",
              "          element.innerHTML = '';\n",
              "          dataTable['output_type'] = 'display_data';\n",
              "          await google.colab.output.renderOutput(dataTable, element);\n",
              "          const docLink = document.createElement('div');\n",
              "          docLink.innerHTML = docLinkHtml;\n",
              "          element.appendChild(docLink);\n",
              "        }\n",
              "      </script>\n",
              "    </div>\n",
              "  </div>\n",
              "  "
            ]
          },
          "metadata": {},
          "execution_count": 7
        }
      ]
    },
    {
      "cell_type": "code",
      "source": [
        "\n",
        "# nachfrage is a dictionary of nachfrage_df. The first key are the values of column 1 (i coordinate) \n",
        "# the second key are the values of the columns (j coordinate)\n",
        "# skip the first column for the second key since it's not an j cooridnate\n",
        "\n",
        "nachfrage = {int(row[0]): {int(col): value for col, value in row.items() if col != 'Unnamed: 0'} for _, row in nachfrage_df.iterrows()}\n",
        "\n",
        "nachfrage = {int(row[0]): {int(col): value for col, value in row.items() if col != 'Unnamed: 0'} for _, row in nachfrage_df.iterrows()}\n",
        "\n",
        "# test if it worked\n",
        "\n",
        "# nachfrage i=0 & j=7\n",
        "print(nachfrage[0][7])\n",
        "\n",
        "#nachfrage i=10 & j=12\n",
        "print(nachfrage[10][12])\n",
        "\n",
        "print(nachfrage[12][12])\n"
      ],
      "metadata": {
        "colab": {
          "base_uri": "https://localhost:8080/"
        },
        "id": "QxjS-MJ4NiAY",
        "outputId": "87a5e4d8-d6aa-4d58-f449-8c90b09fa1e2"
      },
      "execution_count": 8,
      "outputs": [
        {
          "output_type": "stream",
          "name": "stdout",
          "text": [
            "51\n",
            "43\n",
            "83\n"
          ]
        }
      ]
    },
    {
      "cell_type": "code",
      "source": [
        "# Standortdaten lesen & speichern\n",
        "standorte = pd.read_csv(f\"{path}/Standorte.csv\", sep=\";\", decimal=\",\")"
      ],
      "metadata": {
        "id": "NTSilRdI-_B5"
      },
      "execution_count": 9,
      "outputs": []
    },
    {
      "cell_type": "code",
      "source": [
        "# Standortdaten ausgeben\n",
        "standorte"
      ],
      "metadata": {
        "id": "SOEzklioIbzb",
        "colab": {
          "base_uri": "https://localhost:8080/",
          "height": 359
        },
        "outputId": "04458dfb-b9e2-4bf6-c502-cbec10d36fe8"
      },
      "execution_count": 10,
      "outputs": [
        {
          "output_type": "execute_result",
          "data": {
            "text/plain": [
              "   Potenzielle_Standorte  i_Koordinate  j_Koordinate  Lagerumschlagleistung  \\\n",
              "0                      0             1             0                    500   \n",
              "1                      1             8            11                    600   \n",
              "2                      2            10             4                    500   \n",
              "3                      3            10            10                    750   \n",
              "4                      4            13             6                    725   \n",
              "5                      5             4             8                    750   \n",
              "6                      6            13             7                    455   \n",
              "7                      7             4             6                   3000   \n",
              "8                      8            12             6                   1400   \n",
              "9                      9             4             4                   2250   \n",
              "\n",
              "   Errichtungskosten  \n",
              "0             100000  \n",
              "1              90000  \n",
              "2              95000  \n",
              "3             101000  \n",
              "4              98500  \n",
              "5              97500  \n",
              "6             105000  \n",
              "7             225000  \n",
              "8             300000  \n",
              "9             200000  "
            ],
            "text/html": [
              "\n",
              "  <div id=\"df-123e996a-aef7-46f2-93a6-4204f7dd43f3\">\n",
              "    <div class=\"colab-df-container\">\n",
              "      <div>\n",
              "<style scoped>\n",
              "    .dataframe tbody tr th:only-of-type {\n",
              "        vertical-align: middle;\n",
              "    }\n",
              "\n",
              "    .dataframe tbody tr th {\n",
              "        vertical-align: top;\n",
              "    }\n",
              "\n",
              "    .dataframe thead th {\n",
              "        text-align: right;\n",
              "    }\n",
              "</style>\n",
              "<table border=\"1\" class=\"dataframe\">\n",
              "  <thead>\n",
              "    <tr style=\"text-align: right;\">\n",
              "      <th></th>\n",
              "      <th>Potenzielle_Standorte</th>\n",
              "      <th>i_Koordinate</th>\n",
              "      <th>j_Koordinate</th>\n",
              "      <th>Lagerumschlagleistung</th>\n",
              "      <th>Errichtungskosten</th>\n",
              "    </tr>\n",
              "  </thead>\n",
              "  <tbody>\n",
              "    <tr>\n",
              "      <th>0</th>\n",
              "      <td>0</td>\n",
              "      <td>1</td>\n",
              "      <td>0</td>\n",
              "      <td>500</td>\n",
              "      <td>100000</td>\n",
              "    </tr>\n",
              "    <tr>\n",
              "      <th>1</th>\n",
              "      <td>1</td>\n",
              "      <td>8</td>\n",
              "      <td>11</td>\n",
              "      <td>600</td>\n",
              "      <td>90000</td>\n",
              "    </tr>\n",
              "    <tr>\n",
              "      <th>2</th>\n",
              "      <td>2</td>\n",
              "      <td>10</td>\n",
              "      <td>4</td>\n",
              "      <td>500</td>\n",
              "      <td>95000</td>\n",
              "    </tr>\n",
              "    <tr>\n",
              "      <th>3</th>\n",
              "      <td>3</td>\n",
              "      <td>10</td>\n",
              "      <td>10</td>\n",
              "      <td>750</td>\n",
              "      <td>101000</td>\n",
              "    </tr>\n",
              "    <tr>\n",
              "      <th>4</th>\n",
              "      <td>4</td>\n",
              "      <td>13</td>\n",
              "      <td>6</td>\n",
              "      <td>725</td>\n",
              "      <td>98500</td>\n",
              "    </tr>\n",
              "    <tr>\n",
              "      <th>5</th>\n",
              "      <td>5</td>\n",
              "      <td>4</td>\n",
              "      <td>8</td>\n",
              "      <td>750</td>\n",
              "      <td>97500</td>\n",
              "    </tr>\n",
              "    <tr>\n",
              "      <th>6</th>\n",
              "      <td>6</td>\n",
              "      <td>13</td>\n",
              "      <td>7</td>\n",
              "      <td>455</td>\n",
              "      <td>105000</td>\n",
              "    </tr>\n",
              "    <tr>\n",
              "      <th>7</th>\n",
              "      <td>7</td>\n",
              "      <td>4</td>\n",
              "      <td>6</td>\n",
              "      <td>3000</td>\n",
              "      <td>225000</td>\n",
              "    </tr>\n",
              "    <tr>\n",
              "      <th>8</th>\n",
              "      <td>8</td>\n",
              "      <td>12</td>\n",
              "      <td>6</td>\n",
              "      <td>1400</td>\n",
              "      <td>300000</td>\n",
              "    </tr>\n",
              "    <tr>\n",
              "      <th>9</th>\n",
              "      <td>9</td>\n",
              "      <td>4</td>\n",
              "      <td>4</td>\n",
              "      <td>2250</td>\n",
              "      <td>200000</td>\n",
              "    </tr>\n",
              "  </tbody>\n",
              "</table>\n",
              "</div>\n",
              "      <button class=\"colab-df-convert\" onclick=\"convertToInteractive('df-123e996a-aef7-46f2-93a6-4204f7dd43f3')\"\n",
              "              title=\"Convert this dataframe to an interactive table.\"\n",
              "              style=\"display:none;\">\n",
              "        \n",
              "  <svg xmlns=\"http://www.w3.org/2000/svg\" height=\"24px\"viewBox=\"0 0 24 24\"\n",
              "       width=\"24px\">\n",
              "    <path d=\"M0 0h24v24H0V0z\" fill=\"none\"/>\n",
              "    <path d=\"M18.56 5.44l.94 2.06.94-2.06 2.06-.94-2.06-.94-.94-2.06-.94 2.06-2.06.94zm-11 1L8.5 8.5l.94-2.06 2.06-.94-2.06-.94L8.5 2.5l-.94 2.06-2.06.94zm10 10l.94 2.06.94-2.06 2.06-.94-2.06-.94-.94-2.06-.94 2.06-2.06.94z\"/><path d=\"M17.41 7.96l-1.37-1.37c-.4-.4-.92-.59-1.43-.59-.52 0-1.04.2-1.43.59L10.3 9.45l-7.72 7.72c-.78.78-.78 2.05 0 2.83L4 21.41c.39.39.9.59 1.41.59.51 0 1.02-.2 1.41-.59l7.78-7.78 2.81-2.81c.8-.78.8-2.07 0-2.86zM5.41 20L4 18.59l7.72-7.72 1.47 1.35L5.41 20z\"/>\n",
              "  </svg>\n",
              "      </button>\n",
              "      \n",
              "  <style>\n",
              "    .colab-df-container {\n",
              "      display:flex;\n",
              "      flex-wrap:wrap;\n",
              "      gap: 12px;\n",
              "    }\n",
              "\n",
              "    .colab-df-convert {\n",
              "      background-color: #E8F0FE;\n",
              "      border: none;\n",
              "      border-radius: 50%;\n",
              "      cursor: pointer;\n",
              "      display: none;\n",
              "      fill: #1967D2;\n",
              "      height: 32px;\n",
              "      padding: 0 0 0 0;\n",
              "      width: 32px;\n",
              "    }\n",
              "\n",
              "    .colab-df-convert:hover {\n",
              "      background-color: #E2EBFA;\n",
              "      box-shadow: 0px 1px 2px rgba(60, 64, 67, 0.3), 0px 1px 3px 1px rgba(60, 64, 67, 0.15);\n",
              "      fill: #174EA6;\n",
              "    }\n",
              "\n",
              "    [theme=dark] .colab-df-convert {\n",
              "      background-color: #3B4455;\n",
              "      fill: #D2E3FC;\n",
              "    }\n",
              "\n",
              "    [theme=dark] .colab-df-convert:hover {\n",
              "      background-color: #434B5C;\n",
              "      box-shadow: 0px 1px 3px 1px rgba(0, 0, 0, 0.15);\n",
              "      filter: drop-shadow(0px 1px 2px rgba(0, 0, 0, 0.3));\n",
              "      fill: #FFFFFF;\n",
              "    }\n",
              "  </style>\n",
              "\n",
              "      <script>\n",
              "        const buttonEl =\n",
              "          document.querySelector('#df-123e996a-aef7-46f2-93a6-4204f7dd43f3 button.colab-df-convert');\n",
              "        buttonEl.style.display =\n",
              "          google.colab.kernel.accessAllowed ? 'block' : 'none';\n",
              "\n",
              "        async function convertToInteractive(key) {\n",
              "          const element = document.querySelector('#df-123e996a-aef7-46f2-93a6-4204f7dd43f3');\n",
              "          const dataTable =\n",
              "            await google.colab.kernel.invokeFunction('convertToInteractive',\n",
              "                                                     [key], {});\n",
              "          if (!dataTable) return;\n",
              "\n",
              "          const docLinkHtml = 'Like what you see? Visit the ' +\n",
              "            '<a target=\"_blank\" href=https://colab.research.google.com/notebooks/data_table.ipynb>data table notebook</a>'\n",
              "            + ' to learn more about interactive tables.';\n",
              "          element.innerHTML = '';\n",
              "          dataTable['output_type'] = 'display_data';\n",
              "          await google.colab.output.renderOutput(dataTable, element);\n",
              "          const docLink = document.createElement('div');\n",
              "          docLink.innerHTML = docLinkHtml;\n",
              "          element.appendChild(docLink);\n",
              "        }\n",
              "      </script>\n",
              "    </div>\n",
              "  </div>\n",
              "  "
            ]
          },
          "metadata": {},
          "execution_count": 10
        }
      ]
    },
    {
      "cell_type": "markdown",
      "metadata": {
        "id": "798a67ee"
      },
      "source": [
        "## Indexmengen"
      ]
    },
    {
      "cell_type": "code",
      "source": [
        "# Standorte\n",
        "S = standorte[\"Potenzielle_Standorte\"].unique().tolist() # Menge der Standorte\n"
      ],
      "metadata": {
        "id": "ep4tx586Ze_f"
      },
      "execution_count": 11,
      "outputs": []
    },
    {
      "cell_type": "code",
      "source": [
        "# Ausgabe Standorte\n",
        "S"
      ],
      "metadata": {
        "colab": {
          "base_uri": "https://localhost:8080/"
        },
        "id": "pDxFDY0PElOz",
        "outputId": "bd8fd73a-0bc9-4320-b0f8-d675c062d616"
      },
      "execution_count": 12,
      "outputs": [
        {
          "output_type": "execute_result",
          "data": {
            "text/plain": [
              "[0, 1, 2, 3, 4, 5, 6, 7, 8, 9]"
            ]
          },
          "metadata": {},
          "execution_count": 12
        }
      ]
    },
    {
      "cell_type": "code",
      "source": [
        "# I Kooritnaten\n",
        "I = [key for key, value in nachfrage.items()]\n",
        "\n",
        "print('I-Koordinaten: ' + str(I))"
      ],
      "metadata": {
        "id": "IxhGizoPNrPB",
        "colab": {
          "base_uri": "https://localhost:8080/"
        },
        "outputId": "84f0c7e8-1626-48f4-ff5a-46de8a0073b9"
      },
      "execution_count": 13,
      "outputs": [
        {
          "output_type": "stream",
          "name": "stdout",
          "text": [
            "I-Koordinaten: [0, 1, 2, 3, 4, 5, 6, 7, 8, 9, 10, 11, 12]\n"
          ]
        }
      ]
    },
    {
      "cell_type": "code",
      "source": [
        "# J Koordinaten\n",
        "J = [list(value.keys()) for value in nachfrage.values()][0]\n",
        "\n",
        "print('J-Koordinaten: ' + str(J))\n"
      ],
      "metadata": {
        "colab": {
          "base_uri": "https://localhost:8080/"
        },
        "id": "O-IqlIEgkS49",
        "outputId": "d479665b-7c91-4404-fd4c-e13b9c85b40d"
      },
      "execution_count": 14,
      "outputs": [
        {
          "output_type": "stream",
          "name": "stdout",
          "text": [
            "J-Koordinaten: [0, 1, 2, 3, 4, 5, 6, 7, 8, 9, 10, 11, 12]\n"
          ]
        }
      ]
    },
    {
      "cell_type": "markdown",
      "metadata": {
        "id": "b99b4ca0"
      },
      "source": [
        "## Parameter"
      ]
    },
    {
      "cell_type": "code",
      "source": [
        "# Standortkoordinaten\n",
        "\n",
        "# I-Koordinate von Standort S\n",
        "ki = standorte.set_index([\"Potenzielle_Standorte\"]).to_dict(\"dict\")[\"i_Koordinate\"]\n",
        "\n",
        "# J-Koordinate von Standort S\n",
        "kj = standorte.set_index([\"Potenzielle_Standorte\"]).to_dict(\"dict\")[\"j_Koordinate\"]\n",
        "\n",
        "# check\n",
        "print(ki)\n",
        "\n",
        "print(kj)"
      ],
      "metadata": {
        "id": "LnaXtWEACWoU",
        "colab": {
          "base_uri": "https://localhost:8080/"
        },
        "outputId": "4451b03f-2cd4-466f-b6f4-e7a0ed58fbdf"
      },
      "execution_count": 15,
      "outputs": [
        {
          "output_type": "stream",
          "name": "stdout",
          "text": [
            "{0: 1, 1: 8, 2: 10, 3: 10, 4: 13, 5: 4, 6: 13, 7: 4, 8: 12, 9: 4}\n",
            "{0: 0, 1: 11, 2: 4, 3: 10, 4: 6, 5: 8, 6: 7, 7: 6, 8: 6, 9: 4}\n"
          ]
        }
      ]
    },
    {
      "cell_type": "code",
      "source": [
        "# Umschlagsleistung\n",
        "u = standorte.set_index([\"Potenzielle_Standorte\"]).to_dict(\"dict\")[\"Lagerumschlagleistung\"]\n",
        "#check\n",
        "u\n"
      ],
      "metadata": {
        "id": "-k__H4DlP84P",
        "colab": {
          "base_uri": "https://localhost:8080/"
        },
        "outputId": "2c8a0c8a-8e27-428c-d965-142be0d81527"
      },
      "execution_count": 16,
      "outputs": [
        {
          "output_type": "execute_result",
          "data": {
            "text/plain": [
              "{0: 500,\n",
              " 1: 600,\n",
              " 2: 500,\n",
              " 3: 750,\n",
              " 4: 725,\n",
              " 5: 750,\n",
              " 6: 455,\n",
              " 7: 3000,\n",
              " 8: 1400,\n",
              " 9: 2250}"
            ]
          },
          "metadata": {},
          "execution_count": 16
        }
      ]
    },
    {
      "cell_type": "code",
      "source": [
        "# Errichtungskosten\n",
        "c = standorte.set_index([\"Potenzielle_Standorte\"]).to_dict(\"dict\")[\"Errichtungskosten\"]\n",
        "#check\n",
        "c"
      ],
      "metadata": {
        "colab": {
          "base_uri": "https://localhost:8080/"
        },
        "id": "Wqn1TBOqx2y1",
        "outputId": "f56ac561-a85e-43e1-ac74-caefc22c7459"
      },
      "execution_count": 17,
      "outputs": [
        {
          "output_type": "execute_result",
          "data": {
            "text/plain": [
              "{0: 100000,\n",
              " 1: 90000,\n",
              " 2: 95000,\n",
              " 3: 101000,\n",
              " 4: 98500,\n",
              " 5: 97500,\n",
              " 6: 105000,\n",
              " 7: 225000,\n",
              " 8: 300000,\n",
              " 9: 200000}"
            ]
          },
          "metadata": {},
          "execution_count": 17
        }
      ]
    },
    {
      "cell_type": "code",
      "source": [
        "# Nachfrage\n",
        "n = nachfrage\n",
        "#check\n",
        "n[0][0]"
      ],
      "metadata": {
        "id": "QvTVt7VaD1fC",
        "colab": {
          "base_uri": "https://localhost:8080/"
        },
        "outputId": "a9e41901-84f5-408a-9aa7-636d581f10d0"
      },
      "execution_count": 18,
      "outputs": [
        {
          "output_type": "execute_result",
          "data": {
            "text/plain": [
              "7"
            ]
          },
          "metadata": {},
          "execution_count": 18
        }
      ]
    },
    {
      "cell_type": "markdown",
      "source": [
        "## Solver"
      ],
      "metadata": {
        "id": "kTBThlJdauwD"
      }
    },
    {
      "cell_type": "code",
      "source": [
        "# Notwendigen Programminstallationen\n",
        "# pip als Paketmanager\n",
        "!pip install -U -q pip\n",
        "!pip install -q ortools\n",
        "# Laden des Programms\n",
        "from ortools.linear_solver import pywraplp"
      ],
      "metadata": {
        "colab": {
          "base_uri": "https://localhost:8080/"
        },
        "id": "MFqMkwE1a0Fk",
        "outputId": "e72f3a9e-8511-4711-e848-8c6555fcc93c"
      },
      "execution_count": 19,
      "outputs": [
        {
          "output_type": "stream",
          "name": "stdout",
          "text": [
            "\u001b[2K     \u001b[90m━━━━━━━━━━━━━━━━━━━━━━━━━━━━━━━━━━━━━━━━\u001b[0m \u001b[32m2.1/2.1 MB\u001b[0m \u001b[31m25.7 MB/s\u001b[0m eta \u001b[36m0:00:00\u001b[0m\n",
            "\u001b[2K     \u001b[90m━━━━━━━━━━━━━━━━━━━━━━━━━━━━━━━━━━━━━━━━\u001b[0m \u001b[32m16.3/16.3 MB\u001b[0m \u001b[31m68.5 MB/s\u001b[0m eta \u001b[36m0:00:00\u001b[0m\n",
            "\u001b[2K     \u001b[90m━━━━━━━━━━━━━━━━━━━━━━━━━━━━━━━━━━━━━━\u001b[0m \u001b[32m409.8/409.8 kB\u001b[0m \u001b[31m24.8 MB/s\u001b[0m eta \u001b[36m0:00:00\u001b[0m\n",
            "\u001b[?25h\u001b[31mERROR: pip's dependency resolver does not currently take into account all the packages that are installed. This behaviour is the source of the following dependency conflicts.\n",
            "tensorflow 2.9.2 requires protobuf<3.20,>=3.9.2, but you have protobuf 4.21.12 which is incompatible.\n",
            "tensorflow-metadata 1.12.0 requires protobuf<4,>=3.13, but you have protobuf 4.21.12 which is incompatible.\n",
            "tensorboard 2.9.1 requires protobuf<3.20,>=3.9.2, but you have protobuf 4.21.12 which is incompatible.\u001b[0m\u001b[31m\n",
            "\u001b[0m\u001b[33mWARNING: Running pip as the 'root' user can result in broken permissions and conflicting behaviour with the system package manager. It is recommended to use a virtual environment instead: https://pip.pypa.io/warnings/venv\u001b[0m\u001b[33m\n",
            "\u001b[0m"
          ]
        }
      ]
    },
    {
      "cell_type": "code",
      "source": [
        "# Solver mit SCIP als Backend.\n",
        "# SCIP implementiert Simplex, Branch-and-Bound, etc\n",
        "solver = pywraplp.Solver.CreateSolver('SCIP')\n",
        "# Erstelle einen Solver\n",
        "#solver = pywraplp.Solver('solver_fallstudie', pywraplp.Solver.GLPK_MIXED_INTEGER_PROGRAMMING)\n"
      ],
      "metadata": {
        "id": "vCOeFts2a5Wc"
      },
      "execution_count": 20,
      "outputs": []
    },
    {
      "cell_type": "markdown",
      "metadata": {
        "id": "d1f9cf18"
      },
      "source": [
        "## Entscheidungsvariablen"
      ]
    },
    {
      "cell_type": "code",
      "source": [
        "# Entscheidung über Versorgung von Quandrand ij\n",
        "\n",
        "Q={}\n",
        "for i in I:\n",
        "  for j in J:\n",
        "        Q[i,j] = solver.BoolVar(f\"{i},{j}\")\n",
        "\n",
        "#check\n",
        "Q[1,0]\n"
      ],
      "metadata": {
        "id": "iikHZiRE8481",
        "colab": {
          "base_uri": "https://localhost:8080/"
        },
        "outputId": "89a899f1-e7f6-4940-8ede-08224e220f18"
      },
      "execution_count": 21,
      "outputs": [
        {
          "output_type": "execute_result",
          "data": {
            "text/plain": [
              "1,0"
            ]
          },
          "metadata": {},
          "execution_count": 21
        }
      ]
    },
    {
      "cell_type": "code",
      "source": [
        "# Binäre Versorgungsvariable\n",
        "V={}\n",
        "for s in S: \n",
        "  for i in I:\n",
        "    for j in J:\n",
        "        V[s,i,j] = solver.BoolVar(f\"{s},{i},{j}\")\n",
        "\n",
        "#check\n",
        "V[1,3,7]"
      ],
      "metadata": {
        "colab": {
          "base_uri": "https://localhost:8080/"
        },
        "id": "nxCunJ1Tv47J",
        "outputId": "8184df0d-c2c8-4ae4-d917-51a8e9bda0eb"
      },
      "execution_count": 22,
      "outputs": [
        {
          "output_type": "execute_result",
          "data": {
            "text/plain": [
              "1,3,7"
            ]
          },
          "metadata": {},
          "execution_count": 22
        }
      ]
    },
    {
      "cell_type": "code",
      "source": [
        "# Binäre Standortausbauvariable\n",
        "Y={}\n",
        "for s in S:\n",
        "  Y[s] = solver.BoolVar(f\"{s}\")\n",
        "\n",
        "\n",
        "#check\n",
        "Y[1]"
      ],
      "metadata": {
        "colab": {
          "base_uri": "https://localhost:8080/"
        },
        "id": "6IkKpEdN1FrJ",
        "outputId": "cc2bc647-73f9-43d6-b103-6f1e494d8cf4"
      },
      "execution_count": 23,
      "outputs": [
        {
          "output_type": "execute_result",
          "data": {
            "text/plain": [
              "1"
            ]
          },
          "metadata": {},
          "execution_count": 23
        }
      ]
    },
    {
      "cell_type": "code",
      "source": [
        "# Nachfrageabdeckung \n",
        "\n",
        "#Obergrenze unendlich (float)\n",
        "infinity = solver.infinity()\n",
        "\n",
        "NA={}\n",
        "for s in S:\n",
        "  for i in I:\n",
        "      for j in J:\n",
        "        NA[s,i,j] = solver.IntVar(0, infinity, f\"{s},{i},{j}\")\n"
      ],
      "metadata": {
        "id": "CLLPTrOd4btN"
      },
      "execution_count": 24,
      "outputs": []
    },
    {
      "cell_type": "code",
      "source": [
        "print('Anzahl Entscheidungsvariablen =', solver.NumVariables())"
      ],
      "metadata": {
        "id": "hN6GY-5YBA9Y",
        "colab": {
          "base_uri": "https://localhost:8080/"
        },
        "outputId": "9ec3fc4a-58d5-4534-dab0-bc1ba8a74d61"
      },
      "execution_count": 25,
      "outputs": [
        {
          "output_type": "stream",
          "name": "stdout",
          "text": [
            "Anzahl Entscheidungsvariablen = 3559\n"
          ]
        }
      ]
    },
    {
      "cell_type": "markdown",
      "metadata": {
        "id": "c9eede10"
      },
      "source": [
        "## Zielfunktion"
      ]
    },
    {
      "cell_type": "markdown",
      "source": [
        "### Neue Zielfunktion\n",
        "\n",
        "Maximiere Nachfrageabdeckung erweiterung:\n",
        "\n",
        "Max $NA = \\sum_{s,i,j} (NA_{s,i,j})$  \n"
      ],
      "metadata": {
        "id": "Wyzj6VKG2Btf"
      }
    },
    {
      "cell_type": "code",
      "source": [
        "solver.Maximize(sum(NA[s,i,j] for s in S for i in I for j in J))"
      ],
      "metadata": {
        "id": "uGdGI2sr2Dyh"
      },
      "execution_count": 26,
      "outputs": []
    },
    {
      "cell_type": "markdown",
      "metadata": {
        "id": "a8534816"
      },
      "source": [
        "## Nebenbedingungen"
      ]
    },
    {
      "cell_type": "markdown",
      "source": [
        "**(1) Budget einhalten**\n",
        "\n",
        "$\\sum_{s} (c_s*Y_s) \\le 1.000.000 $\n",
        "\n",
        "Summe über: \n",
        "\n",
        "Kosten  für Ausbau * Entscheidung Ausbau <= Budget"
      ],
      "metadata": {
        "id": "0408vUQT7v3r"
      }
    },
    {
      "cell_type": "code",
      "source": [
        "\n",
        "solver.Add(sum(c[s]*Y[s] for s in S)<= 1000000)\n",
        " "
      ],
      "metadata": {
        "id": "0q4H4wEGh3zw",
        "colab": {
          "base_uri": "https://localhost:8080/"
        },
        "outputId": "815cd6e0-a938-4da4-f3b3-e2dbfab5b6c8"
      },
      "execution_count": 27,
      "outputs": [
        {
          "output_type": "execute_result",
          "data": {
            "text/plain": [
              "<ortools.linear_solver.pywraplp.Constraint; proxy of <Swig Object of type 'operations_research::MPConstraint *' at 0x7f2b9f74e0f0> >"
            ]
          },
          "metadata": {},
          "execution_count": 27
        }
      ]
    },
    {
      "cell_type": "markdown",
      "source": [
        "**(2) Lieferzeit einhalten**\n",
        "\n",
        "$(|ki_s - i| + |kj_s - j|)* v_{s,i,j} \\le 5 $\n",
        "\n",
        "$∀ s,i,j$\n",
        "\n",
        "\n",
        "Prüfe für jedes $s, i , j$:\n",
        "\n",
        "Entfernung  <= 5, wenn $ij$ von $s$ beliefert wird"
      ],
      "metadata": {
        "id": "fuLDgmy67v3s"
      }
    },
    {
      "cell_type": "code",
      "source": [
        "for s in S:\n",
        " for i in I:\n",
        "    for j in J:\n",
        "      solver.Add(((abs(ki[s]-i) +abs(kj[s]- j))*V[s,i,j])<=5)\n"
      ],
      "metadata": {
        "id": "Fjwkcnd484bd"
      },
      "execution_count": 28,
      "outputs": []
    },
    {
      "cell_type": "markdown",
      "source": [
        "**(3) Höchstens Doppelbedienung der Quandranden**\n",
        "\n",
        "$\\sum_s V_{s,i,j} \\le 2$\n",
        "\n",
        "$∀ i, j$\n",
        "\n",
        "Prüfe für alle Koordinaten, ob Belieferung kleiner gleich 1."
      ],
      "metadata": {
        "id": "Fv9tpzwZ7v3s"
      }
    },
    {
      "cell_type": "code",
      "source": [
        "for i in I:\n",
        "  for j in J:\n",
        "    solver.Add(sum(V[s,i,j] for s in S)<=2)"
      ],
      "metadata": {
        "id": "zPGlBe1UCEsj"
      },
      "execution_count": 29,
      "outputs": []
    },
    {
      "cell_type": "markdown",
      "source": [
        "**(4) Kapazitäten einhalten**\n",
        "\n",
        "$\\sum_{i,j} (NA_{s,i,j}) \\le u_s *Y_s $\n",
        "\n",
        "$∀ s$\n",
        "\n",
        "Prüfe für jeden Standort:\n",
        "\n",
        "Summe Versorgung (ja/nein) * Nachfrage  ist kleiner (gleich) als Umschlagsleistung. "
      ],
      "metadata": {
        "id": "BjAQOOOU7v3s"
      }
    },
    {
      "cell_type": "code",
      "source": [
        "for s in S:\n",
        "  solver.Add(sum(NA[s,i,j] for i in I for j in J)<= (u[s]* Y[s]))\n",
        "\n"
      ],
      "metadata": {
        "id": "mRoL1ZRDHIee"
      },
      "execution_count": 30,
      "outputs": []
    },
    {
      "cell_type": "markdown",
      "source": [
        "**(5) Nachfragebedienung**\n",
        "\n",
        "$\\sum_s NA_{s,i,j} = n_{i,j} *Q_{i,j}$ \n",
        "\n",
        "$∀ i,j$\n",
        "\n",
        "Summe aus der Nachfrageabdeckung aller Standorte für jede i und j ergibt die Nachfrge in i j, wenn der Quadrant bedient wird"
      ],
      "metadata": {
        "id": "uGf01aZl6G-V"
      }
    },
    {
      "cell_type": "code",
      "source": [
        "for i in I:\n",
        "  for j in J:\n",
        "    solver.Add(sum(NA[s,i,j] for s in S) == (n[i][j]*Q[i,j]))"
      ],
      "metadata": {
        "id": "hmpsA5JY6FcS"
      },
      "execution_count": 31,
      "outputs": []
    },
    {
      "cell_type": "markdown",
      "source": [
        "**(6) Nachfrageabdeckung nur über 0 wenn Versorgungsvariable 1**\n",
        "\n",
        "$NA_{s,i,j} <= n_{i,j} * V_{s,i,j}$ \n",
        "\n",
        "$∀ s,i,j$\n",
        "\n"
      ],
      "metadata": {
        "id": "ekjjTpbpdlCl"
      }
    },
    {
      "cell_type": "code",
      "source": [
        "for s in S:\n",
        "  for i in I:\n",
        "    for j in J:\n",
        "      solver.Add(NA[s,i,j] <= (n[i][j]* V[s,i,j]))"
      ],
      "metadata": {
        "id": "Txj8tajQd_jX"
      },
      "execution_count": 32,
      "outputs": []
    },
    {
      "cell_type": "markdown",
      "source": [
        "**(7) Nachfrageabdeckung von Standort kleiner gleich Quadantversorgung**\n",
        "\n",
        "$Y_{s,i,j} <= Q_{i,j} $ \n",
        "\n",
        "$∀ s,i,j$\n",
        "\n"
      ],
      "metadata": {
        "id": "EbSV083lk13x"
      }
    },
    {
      "cell_type": "code",
      "source": [
        "for s in S:\n",
        "  for i in I:\n",
        "    for j in J:\n",
        "      solver.Add(V[s,i,j] <= Q[i,j])"
      ],
      "metadata": {
        "id": "tkGwTfeEk7fM"
      },
      "execution_count": 33,
      "outputs": []
    },
    {
      "cell_type": "code",
      "source": [
        "print(\"Anzahl an Nebenbedingungen: \", solver.NumConstraints())"
      ],
      "metadata": {
        "id": "MJ2gLJ6FYM3k",
        "colab": {
          "base_uri": "https://localhost:8080/"
        },
        "outputId": "6c1264a8-aacc-4e5d-df78-d08cdf2199ef"
      },
      "execution_count": 34,
      "outputs": [
        {
          "output_type": "stream",
          "name": "stdout",
          "text": [
            "Anzahl an Nebenbedingungen:  5419\n"
          ]
        }
      ]
    },
    {
      "cell_type": "markdown",
      "source": [],
      "metadata": {
        "id": "n7PAlf5fYMF-"
      }
    },
    {
      "cell_type": "markdown",
      "metadata": {
        "id": "9a459618"
      },
      "source": [
        "## Berechnung Lösung"
      ]
    },
    {
      "cell_type": "code",
      "execution_count": 35,
      "metadata": {
        "id": "b9005832",
        "colab": {
          "base_uri": "https://localhost:8080/"
        },
        "outputId": "e0e4c2a8-d75b-4ae6-88dc-6f9c8db63ae0"
      },
      "outputs": [
        {
          "output_type": "stream",
          "name": "stdout",
          "text": [
            "LÖSUNG:\n",
            "Zielfunktionswert (Gesamte Nachfrageabdeckung) = 7481.999999999999\n"
          ]
        }
      ],
      "source": [
        "status = solver.Solve()\n",
        "\n",
        "if status == pywraplp.Solver.OPTIMAL:\n",
        "  print('LÖSUNG:')\n",
        "  print('Zielfunktionswert (Gesamte Nachfrageabdeckung) =', solver.Objective().Value())\n",
        "else:\n",
        "  print('Problem hat keine Lösung')"
      ]
    },
    {
      "cell_type": "markdown",
      "source": [
        "### Standortausbau"
      ],
      "metadata": {
        "id": "cY8cfmS-xXEo"
      }
    },
    {
      "cell_type": "code",
      "source": [
        "# Gebe die Gesamtkosten für den Ausbau an\n",
        "\n",
        "cost= 0\n",
        "for s in S:\n",
        "  if(Y[s].solution_value()==1):\n",
        "    print(\"Wir bauen den Standort \" + str(s) + \" aus.\")\n",
        "    cost += c[s]\n",
        "\n",
        "print(\"\")\n",
        "print(\"Die Gesamtkosten für den Ausbau betragen \" + str(cost) + \" €\")\n",
        "  "
      ],
      "metadata": {
        "id": "UWi5aCokxZjU",
        "colab": {
          "base_uri": "https://localhost:8080/"
        },
        "outputId": "4e0eaf0a-3f25-41be-f63d-be857658b523"
      },
      "execution_count": 36,
      "outputs": [
        {
          "output_type": "stream",
          "name": "stdout",
          "text": [
            "Wir bauen den Standort 1 aus.\n",
            "Wir bauen den Standort 2 aus.\n",
            "Wir bauen den Standort 3 aus.\n",
            "Wir bauen den Standort 4 aus.\n",
            "Wir bauen den Standort 5 aus.\n",
            "Wir bauen den Standort 7 aus.\n",
            "Wir bauen den Standort 9 aus.\n",
            "\n",
            "Die Gesamtkosten für den Ausbau betragen 907000 €\n"
          ]
        }
      ]
    },
    {
      "cell_type": "markdown",
      "source": [
        "### Belieferungsplan"
      ],
      "metadata": {
        "id": "7m4SxLdXMQKy"
      }
    },
    {
      "cell_type": "code",
      "source": [
        "na= 0\n",
        "\n",
        "for s in S:\n",
        "  if( Y[s].solution_value()==1):\n",
        "    print(\"\")\n",
        "    print(\"\")\n",
        "    print(\"Belieferung durch Standort \" + str(s) +\":\")\n",
        "    print(\"\")\n",
        "    na_s = 0\n",
        "    for i in I:\n",
        "      for j in J:\n",
        "        if(V[s,i,j].solution_value()==1):\n",
        "          abstand= (abs(ki[s]-i) +abs(kj[s]- j))\n",
        "          if(NA[s,i,j].solution_value()>0):\n",
        "            print(\"Quadrand: \" +str(i) + \"/\" +str(j) + \" Abstand: \" + str(abstand) + \" NA in Prozent: \" + str(round((NA[s,i,j].solution_value()*100)/n[i][j],2)) + \"% \" + \"NA absolut: \" +  str(NA[s,i,j].solution_value()))\n",
        "            na_s += NA[s,i,j].solution_value()\n",
        "    print(\"\")\n",
        "    print(\"Kapazität im Standort: \" + str(u[s]))\n",
        "    print(\"Nachfrageabdeckung durch Standort: \" + str(na_s))\n",
        "    na += na_s\n",
        "\n",
        "print(\"\")\n",
        "print(\"Nachfrageabdeckung insgesamt: \" +str(na))\n",
        "\n",
        "          "
      ],
      "metadata": {
        "id": "kOz0JMLEMPYC",
        "colab": {
          "base_uri": "https://localhost:8080/"
        },
        "outputId": "f7facc12-640b-4d61-c531-e059675c0528"
      },
      "execution_count": 37,
      "outputs": [
        {
          "output_type": "stream",
          "name": "stdout",
          "text": [
            "\n",
            "\n",
            "Belieferung durch Standort 1:\n",
            "\n",
            "Quadrand: 3/11 Abstand: 5 NA in Prozent: 100.0% NA absolut: 63.0\n",
            "Quadrand: 4/12 Abstand: 5 NA in Prozent: 100.0% NA absolut: 36.0\n",
            "Quadrand: 5/11 Abstand: 3 NA in Prozent: 1.69% NA absolut: 1.0\n",
            "Quadrand: 6/12 Abstand: 3 NA in Prozent: 100.0% NA absolut: 56.0\n",
            "Quadrand: 7/12 Abstand: 2 NA in Prozent: 100.0% NA absolut: 31.0\n",
            "Quadrand: 8/8 Abstand: 3 NA in Prozent: 100.0% NA absolut: 96.0\n",
            "Quadrand: 9/7 Abstand: 5 NA in Prozent: 100.0% NA absolut: 67.0\n",
            "Quadrand: 9/8 Abstand: 4 NA in Prozent: 28.12% NA absolut: 27.0\n",
            "Quadrand: 9/10 Abstand: 2 NA in Prozent: 100.0% NA absolut: 32.0\n",
            "Quadrand: 10/11 Abstand: 2 NA in Prozent: 100.0% NA absolut: 73.0\n",
            "Quadrand: 10/12 Abstand: 3 NA in Prozent: 18.6% NA absolut: 8.0\n",
            "Quadrand: 11/10 Abstand: 4 NA in Prozent: 100.0% NA absolut: 28.0\n",
            "Quadrand: 12/12 Abstand: 5 NA in Prozent: 98.8% NA absolut: 82.0\n",
            "\n",
            "Kapazität im Standort: 600\n",
            "Nachfrageabdeckung durch Standort: 600.0\n",
            "\n",
            "\n",
            "Belieferung durch Standort 2:\n",
            "\n",
            "Quadrand: 8/1 Abstand: 5 NA in Prozent: 100.0% NA absolut: 49.0\n",
            "Quadrand: 9/0 Abstand: 5 NA in Prozent: 100.0% NA absolut: 10.0\n",
            "Quadrand: 9/1 Abstand: 4 NA in Prozent: 100.0% NA absolut: 38.0\n",
            "Quadrand: 9/2 Abstand: 3 NA in Prozent: 100.0% NA absolut: 37.0\n",
            "Quadrand: 9/3 Abstand: 2 NA in Prozent: 100.0% NA absolut: 77.0\n",
            "Quadrand: 10/0 Abstand: 4 NA in Prozent: 100.0% NA absolut: 56.0\n",
            "Quadrand: 10/1 Abstand: 3 NA in Prozent: 100.0% NA absolut: 35.0\n",
            "Quadrand: 10/2 Abstand: 2 NA in Prozent: 100.0% NA absolut: 21.0\n",
            "Quadrand: 10/3 Abstand: 1 NA in Prozent: 100.0% NA absolut: 89.0\n",
            "Quadrand: 10/8 Abstand: 4 NA in Prozent: 13.85% NA absolut: 9.0\n",
            "Quadrand: 10/9 Abstand: 5 NA in Prozent: 100.0% NA absolut: 25.0\n",
            "Quadrand: 11/0 Abstand: 5 NA in Prozent: 100.0% NA absolut: 35.0\n",
            "Quadrand: 11/2 Abstand: 3 NA in Prozent: 100.0% NA absolut: 9.0\n",
            "Quadrand: 12/1 Abstand: 5 NA in Prozent: 100.0% NA absolut: 10.0\n",
            "\n",
            "Kapazität im Standort: 500\n",
            "Nachfrageabdeckung durch Standort: 500.0\n",
            "\n",
            "\n",
            "Belieferung durch Standort 3:\n",
            "\n",
            "Quadrand: 7/9 Abstand: 4 NA in Prozent: 100.0% NA absolut: 39.0\n",
            "Quadrand: 7/11 Abstand: 4 NA in Prozent: 100.0% NA absolut: 61.0\n",
            "Quadrand: 8/11 Abstand: 3 NA in Prozent: 100.0% NA absolut: 20.0\n",
            "Quadrand: 8/12 Abstand: 4 NA in Prozent: 100.0% NA absolut: 83.0\n",
            "Quadrand: 9/9 Abstand: 2 NA in Prozent: 100.0% NA absolut: 64.0\n",
            "Quadrand: 9/11 Abstand: 2 NA in Prozent: 100.0% NA absolut: 30.0\n",
            "Quadrand: 9/12 Abstand: 3 NA in Prozent: 100.0% NA absolut: 63.0\n",
            "Quadrand: 10/6 Abstand: 4 NA in Prozent: 75.56% NA absolut: 68.0\n",
            "Quadrand: 10/7 Abstand: 3 NA in Prozent: 57.14% NA absolut: 12.0\n",
            "Quadrand: 10/10 Abstand: 0 NA in Prozent: 100.0% NA absolut: 68.0\n",
            "Quadrand: 10/12 Abstand: 2 NA in Prozent: 81.4% NA absolut: 35.0\n",
            "Quadrand: 11/6 Abstand: 5 NA in Prozent: 100.0% NA absolut: 41.0\n",
            "Quadrand: 11/9 Abstand: 2 NA in Prozent: 100.0% NA absolut: 4.0\n",
            "Quadrand: 11/11 Abstand: 2 NA in Prozent: 100.0% NA absolut: 65.0\n",
            "Quadrand: 11/12 Abstand: 3 NA in Prozent: 100.0% NA absolut: 24.0\n",
            "Quadrand: 12/11 Abstand: 3 NA in Prozent: 100.0% NA absolut: 72.0\n",
            "Quadrand: 12/12 Abstand: 4 NA in Prozent: 1.2% NA absolut: 1.0\n",
            "\n",
            "Kapazität im Standort: 750\n",
            "Nachfrageabdeckung durch Standort: 750.0\n",
            "\n",
            "\n",
            "Belieferung durch Standort 4:\n",
            "\n",
            "Quadrand: 9/5 Abstand: 5 NA in Prozent: 100.0% NA absolut: 94.0\n",
            "Quadrand: 10/4 Abstand: 5 NA in Prozent: 100.0% NA absolut: 28.0\n",
            "Quadrand: 10/5 Abstand: 4 NA in Prozent: 100.0% NA absolut: 60.0\n",
            "Quadrand: 10/6 Abstand: 3 NA in Prozent: 24.44% NA absolut: 22.0\n",
            "Quadrand: 10/7 Abstand: 4 NA in Prozent: 42.86% NA absolut: 9.0\n",
            "Quadrand: 10/8 Abstand: 5 NA in Prozent: 86.15% NA absolut: 56.0\n",
            "Quadrand: 11/3 Abstand: 5 NA in Prozent: 100.0% NA absolut: 32.0\n",
            "Quadrand: 11/4 Abstand: 4 NA in Prozent: 100.0% NA absolut: 25.0\n",
            "Quadrand: 11/5 Abstand: 3 NA in Prozent: 100.0% NA absolut: 86.0\n",
            "Quadrand: 12/2 Abstand: 5 NA in Prozent: 100.0% NA absolut: 17.0\n",
            "Quadrand: 12/3 Abstand: 4 NA in Prozent: 100.0% NA absolut: 42.0\n",
            "Quadrand: 12/4 Abstand: 3 NA in Prozent: 100.0% NA absolut: 61.0\n",
            "Quadrand: 12/5 Abstand: 2 NA in Prozent: 100.0% NA absolut: 37.0\n",
            "Quadrand: 12/6 Abstand: 1 NA in Prozent: 100.0% NA absolut: 52.0\n",
            "Quadrand: 12/7 Abstand: 2 NA in Prozent: 100.0% NA absolut: 66.0\n",
            "Quadrand: 12/8 Abstand: 3 NA in Prozent: 100.0% NA absolut: 10.0\n",
            "Quadrand: 12/9 Abstand: 4 NA in Prozent: 100.0% NA absolut: 13.0\n",
            "Quadrand: 12/10 Abstand: 5 NA in Prozent: 100.0% NA absolut: 15.0\n",
            "\n",
            "Kapazität im Standort: 725\n",
            "Nachfrageabdeckung durch Standort: 725.0\n",
            "\n",
            "\n",
            "Belieferung durch Standort 5:\n",
            "\n",
            "Quadrand: 0/8 Abstand: 4 NA in Prozent: 100.0% NA absolut: 81.0\n",
            "Quadrand: 0/9 Abstand: 5 NA in Prozent: 100.0% NA absolut: 28.0\n",
            "Quadrand: 1/9 Abstand: 4 NA in Prozent: 100.0% NA absolut: 37.0\n",
            "Quadrand: 1/10 Abstand: 5 NA in Prozent: 100.0% NA absolut: 85.0\n",
            "Quadrand: 2/10 Abstand: 4 NA in Prozent: 100.0% NA absolut: 65.0\n",
            "Quadrand: 2/11 Abstand: 5 NA in Prozent: 100.0% NA absolut: 39.0\n",
            "Quadrand: 3/12 Abstand: 5 NA in Prozent: 100.0% NA absolut: 88.0\n",
            "Quadrand: 5/11 Abstand: 4 NA in Prozent: 98.31% NA absolut: 58.0\n",
            "Quadrand: 5/12 Abstand: 5 NA in Prozent: 100.0% NA absolut: 17.0\n",
            "Quadrand: 6/10 Abstand: 4 NA in Prozent: 100.0% NA absolut: 94.0\n",
            "Quadrand: 7/10 Abstand: 5 NA in Prozent: 100.0% NA absolut: 7.0\n",
            "Quadrand: 8/9 Abstand: 5 NA in Prozent: 100.0% NA absolut: 82.0\n",
            "Quadrand: 9/8 Abstand: 5 NA in Prozent: 71.88% NA absolut: 69.0\n",
            "\n",
            "Kapazität im Standort: 750\n",
            "Nachfrageabdeckung durch Standort: 750.0\n",
            "\n",
            "\n",
            "Belieferung durch Standort 7:\n",
            "\n",
            "Quadrand: 0/5 Abstand: 5 NA in Prozent: 100.0% NA absolut: 47.0\n",
            "Quadrand: 0/6 Abstand: 4 NA in Prozent: 100.0% NA absolut: 43.0\n",
            "Quadrand: 0/7 Abstand: 5 NA in Prozent: 100.0% NA absolut: 51.0\n",
            "Quadrand: 1/4 Abstand: 5 NA in Prozent: 100.0% NA absolut: 80.0\n",
            "Quadrand: 1/5 Abstand: 4 NA in Prozent: 100.0% NA absolut: 42.0\n",
            "Quadrand: 1/6 Abstand: 3 NA in Prozent: 100.0% NA absolut: 83.0\n",
            "Quadrand: 1/7 Abstand: 4 NA in Prozent: 100.0% NA absolut: 19.0\n",
            "Quadrand: 1/8 Abstand: 5 NA in Prozent: 100.0% NA absolut: 37.0\n",
            "Quadrand: 2/3 Abstand: 5 NA in Prozent: 100.0% NA absolut: 14.0\n",
            "Quadrand: 2/4 Abstand: 4 NA in Prozent: 100.0% NA absolut: 1.0\n",
            "Quadrand: 2/5 Abstand: 3 NA in Prozent: 100.0% NA absolut: 92.0\n",
            "Quadrand: 2/6 Abstand: 2 NA in Prozent: 100.0% NA absolut: 41.0\n",
            "Quadrand: 2/7 Abstand: 3 NA in Prozent: 100.0% NA absolut: 32.0\n",
            "Quadrand: 2/8 Abstand: 4 NA in Prozent: 100.0% NA absolut: 16.0\n",
            "Quadrand: 2/9 Abstand: 5 NA in Prozent: 100.0% NA absolut: 83.0\n",
            "Quadrand: 3/3 Abstand: 4 NA in Prozent: 100.0% NA absolut: 56.0\n",
            "Quadrand: 3/4 Abstand: 3 NA in Prozent: 100.0% NA absolut: 15.0\n",
            "Quadrand: 3/5 Abstand: 2 NA in Prozent: 100.0% NA absolut: 99.0\n",
            "Quadrand: 3/6 Abstand: 1 NA in Prozent: 100.0% NA absolut: 60.0\n",
            "Quadrand: 3/7 Abstand: 2 NA in Prozent: 100.0% NA absolut: 85.0\n",
            "Quadrand: 3/8 Abstand: 3 NA in Prozent: 100.0% NA absolut: 90.0\n",
            "Quadrand: 3/9 Abstand: 4 NA in Prozent: 100.0% NA absolut: 68.0\n",
            "Quadrand: 3/10 Abstand: 5 NA in Prozent: 100.0% NA absolut: 9.0\n",
            "Quadrand: 4/1 Abstand: 5 NA in Prozent: 100.0% NA absolut: 93.0\n",
            "Quadrand: 4/3 Abstand: 3 NA in Prozent: 100.0% NA absolut: 65.0\n",
            "Quadrand: 4/4 Abstand: 2 NA in Prozent: 100.0% NA absolut: 96.0\n",
            "Quadrand: 4/5 Abstand: 1 NA in Prozent: 100.0% NA absolut: 31.0\n",
            "Quadrand: 4/6 Abstand: 0 NA in Prozent: 100.0% NA absolut: 8.0\n",
            "Quadrand: 4/8 Abstand: 2 NA in Prozent: 100.0% NA absolut: 27.0\n",
            "Quadrand: 4/9 Abstand: 3 NA in Prozent: 100.0% NA absolut: 74.0\n",
            "Quadrand: 4/10 Abstand: 4 NA in Prozent: 100.0% NA absolut: 59.0\n",
            "Quadrand: 4/11 Abstand: 5 NA in Prozent: 100.0% NA absolut: 70.0\n",
            "Quadrand: 5/2 Abstand: 5 NA in Prozent: 100.0% NA absolut: 34.0\n",
            "Quadrand: 5/4 Abstand: 3 NA in Prozent: 98.39% NA absolut: 61.0\n",
            "Quadrand: 5/5 Abstand: 2 NA in Prozent: 100.0% NA absolut: 45.0\n",
            "Quadrand: 5/6 Abstand: 1 NA in Prozent: 100.0% NA absolut: 86.0\n",
            "Quadrand: 5/7 Abstand: 2 NA in Prozent: 100.0% NA absolut: 95.0\n",
            "Quadrand: 5/8 Abstand: 3 NA in Prozent: 100.0% NA absolut: 93.0\n",
            "Quadrand: 5/9 Abstand: 4 NA in Prozent: 100.0% NA absolut: 12.0\n",
            "Quadrand: 5/10 Abstand: 5 NA in Prozent: 100.0% NA absolut: 83.0\n",
            "Quadrand: 6/3 Abstand: 5 NA in Prozent: 100.0% NA absolut: 1.0\n",
            "Quadrand: 6/4 Abstand: 4 NA in Prozent: 100.0% NA absolut: 97.0\n",
            "Quadrand: 6/5 Abstand: 3 NA in Prozent: 100.0% NA absolut: 73.0\n",
            "Quadrand: 6/6 Abstand: 2 NA in Prozent: 100.0% NA absolut: 5.0\n",
            "Quadrand: 6/7 Abstand: 3 NA in Prozent: 100.0% NA absolut: 73.0\n",
            "Quadrand: 6/8 Abstand: 4 NA in Prozent: 100.0% NA absolut: 44.0\n",
            "Quadrand: 6/9 Abstand: 5 NA in Prozent: 100.0% NA absolut: 93.0\n",
            "Quadrand: 7/4 Abstand: 5 NA in Prozent: 100.0% NA absolut: 69.0\n",
            "Quadrand: 7/6 Abstand: 3 NA in Prozent: 100.0% NA absolut: 32.0\n",
            "Quadrand: 7/7 Abstand: 4 NA in Prozent: 100.0% NA absolut: 95.0\n",
            "Quadrand: 7/8 Abstand: 5 NA in Prozent: 100.0% NA absolut: 61.0\n",
            "Quadrand: 8/5 Abstand: 5 NA in Prozent: 100.0% NA absolut: 26.0\n",
            "Quadrand: 8/6 Abstand: 4 NA in Prozent: 100.0% NA absolut: 62.0\n",
            "Quadrand: 8/7 Abstand: 5 NA in Prozent: 100.0% NA absolut: 40.0\n",
            "Quadrand: 9/6 Abstand: 5 NA in Prozent: 100.0% NA absolut: 34.0\n",
            "\n",
            "Kapazität im Standort: 3000\n",
            "Nachfrageabdeckung durch Standort: 3000.0\n",
            "\n",
            "\n",
            "Belieferung durch Standort 9:\n",
            "\n",
            "Quadrand: 0/3 Abstand: 5 NA in Prozent: 100.0% NA absolut: 77.0\n",
            "Quadrand: 0/4 Abstand: 4 NA in Prozent: 100.0% NA absolut: 33.0\n",
            "Quadrand: 1/2 Abstand: 5 NA in Prozent: 100.0% NA absolut: 76.0\n",
            "Quadrand: 1/3 Abstand: 4 NA in Prozent: 100.0% NA absolut: 51.0\n",
            "Quadrand: 2/1 Abstand: 5 NA in Prozent: 100.0% NA absolut: 57.0\n",
            "Quadrand: 2/2 Abstand: 4 NA in Prozent: 100.0% NA absolut: 67.0\n",
            "Quadrand: 3/0 Abstand: 5 NA in Prozent: 100.0% NA absolut: 42.0\n",
            "Quadrand: 3/1 Abstand: 4 NA in Prozent: 100.0% NA absolut: 87.0\n",
            "Quadrand: 3/2 Abstand: 3 NA in Prozent: 100.0% NA absolut: 23.0\n",
            "Quadrand: 4/0 Abstand: 4 NA in Prozent: 100.0% NA absolut: 23.0\n",
            "Quadrand: 4/2 Abstand: 2 NA in Prozent: 100.0% NA absolut: 36.0\n",
            "Quadrand: 4/7 Abstand: 3 NA in Prozent: 100.0% NA absolut: 54.0\n",
            "Quadrand: 5/0 Abstand: 5 NA in Prozent: 100.0% NA absolut: 2.0\n",
            "Quadrand: 5/1 Abstand: 4 NA in Prozent: 100.0% NA absolut: 71.0\n",
            "Quadrand: 5/3 Abstand: 2 NA in Prozent: 100.0% NA absolut: 38.0\n",
            "Quadrand: 5/4 Abstand: 1 NA in Prozent: 1.61% NA absolut: 1.0\n",
            "Quadrand: 6/1 Abstand: 5 NA in Prozent: 100.0% NA absolut: 41.0\n",
            "Quadrand: 6/2 Abstand: 4 NA in Prozent: 100.0% NA absolut: 54.0\n",
            "Quadrand: 7/2 Abstand: 5 NA in Prozent: 100.0% NA absolut: 86.0\n",
            "Quadrand: 7/3 Abstand: 4 NA in Prozent: 100.0% NA absolut: 1.0\n",
            "Quadrand: 7/5 Abstand: 4 NA in Prozent: 100.0% NA absolut: 65.0\n",
            "Quadrand: 8/3 Abstand: 5 NA in Prozent: 100.0% NA absolut: 70.0\n",
            "Quadrand: 8/4 Abstand: 4 NA in Prozent: 100.0% NA absolut: 86.0\n",
            "Quadrand: 9/4 Abstand: 5 NA in Prozent: 100.0% NA absolut: 16.0\n",
            "\n",
            "Kapazität im Standort: 2250\n",
            "Nachfrageabdeckung durch Standort: 1157.0\n",
            "\n",
            "Nachfrageabdeckung insgesamt: 7482.0\n"
          ]
        }
      ]
    },
    {
      "cell_type": "markdown",
      "source": [
        "### Nachfrageabdeckung je Quadrand"
      ],
      "metadata": {
        "id": "MY31cw54O9Ds"
      }
    },
    {
      "cell_type": "code",
      "source": [
        "# Wenn Quadrant versorgt wird, gebe aus, wie viel Prozent der Nachfrage im Quadrant bedient wird\n",
        "\n",
        "for i in I:\n",
        "  for j in J:\n",
        "    if(Q[i,j].solution_value()==1):\n",
        "      print(\"Wir versorgen den Quadranten \"+ str(i) + \"/\" + str(j)+ \" zu \" + str((sum(NA[s,i,j].solution_value()for s in S)*100)/n[i][j]) +\"%\" )"
      ],
      "metadata": {
        "id": "q4l8FDjXPASp",
        "colab": {
          "base_uri": "https://localhost:8080/"
        },
        "outputId": "59738f86-e62f-495e-f4b3-1bd54b2cbe7a"
      },
      "execution_count": 38,
      "outputs": [
        {
          "output_type": "stream",
          "name": "stdout",
          "text": [
            "Wir versorgen den Quadranten 0/3 zu 100.0%\n",
            "Wir versorgen den Quadranten 0/4 zu 100.0%\n",
            "Wir versorgen den Quadranten 0/5 zu 100.0%\n",
            "Wir versorgen den Quadranten 0/6 zu 100.0%\n",
            "Wir versorgen den Quadranten 0/7 zu 100.0%\n",
            "Wir versorgen den Quadranten 0/8 zu 100.0%\n",
            "Wir versorgen den Quadranten 0/9 zu 100.0%\n",
            "Wir versorgen den Quadranten 1/2 zu 100.0%\n",
            "Wir versorgen den Quadranten 1/3 zu 100.0%\n",
            "Wir versorgen den Quadranten 1/4 zu 100.0%\n",
            "Wir versorgen den Quadranten 1/5 zu 100.0%\n",
            "Wir versorgen den Quadranten 1/6 zu 100.0%\n",
            "Wir versorgen den Quadranten 1/7 zu 100.0%\n",
            "Wir versorgen den Quadranten 1/8 zu 100.0%\n",
            "Wir versorgen den Quadranten 1/9 zu 100.0%\n",
            "Wir versorgen den Quadranten 1/10 zu 100.0%\n",
            "Wir versorgen den Quadranten 2/1 zu 100.0%\n",
            "Wir versorgen den Quadranten 2/2 zu 100.0%\n",
            "Wir versorgen den Quadranten 2/3 zu 100.0%\n",
            "Wir versorgen den Quadranten 2/4 zu 100.0%\n",
            "Wir versorgen den Quadranten 2/5 zu 100.0%\n",
            "Wir versorgen den Quadranten 2/6 zu 100.0%\n",
            "Wir versorgen den Quadranten 2/7 zu 100.0%\n",
            "Wir versorgen den Quadranten 2/8 zu 100.0%\n",
            "Wir versorgen den Quadranten 2/9 zu 100.0%\n",
            "Wir versorgen den Quadranten 2/10 zu 100.0%\n",
            "Wir versorgen den Quadranten 2/11 zu 100.0%\n",
            "Wir versorgen den Quadranten 3/0 zu 100.0%\n",
            "Wir versorgen den Quadranten 3/1 zu 100.0%\n",
            "Wir versorgen den Quadranten 3/2 zu 100.0%\n",
            "Wir versorgen den Quadranten 3/3 zu 100.0%\n",
            "Wir versorgen den Quadranten 3/4 zu 100.0%\n",
            "Wir versorgen den Quadranten 3/5 zu 100.0%\n",
            "Wir versorgen den Quadranten 3/6 zu 100.0%\n",
            "Wir versorgen den Quadranten 3/7 zu 100.0%\n",
            "Wir versorgen den Quadranten 3/8 zu 100.0%\n",
            "Wir versorgen den Quadranten 3/9 zu 100.0%\n",
            "Wir versorgen den Quadranten 3/10 zu 100.0%\n",
            "Wir versorgen den Quadranten 3/11 zu 100.0%\n",
            "Wir versorgen den Quadranten 3/12 zu 100.0%\n",
            "Wir versorgen den Quadranten 4/0 zu 100.0%\n",
            "Wir versorgen den Quadranten 4/1 zu 100.0%\n",
            "Wir versorgen den Quadranten 4/2 zu 100.0%\n",
            "Wir versorgen den Quadranten 4/3 zu 100.0%\n",
            "Wir versorgen den Quadranten 4/4 zu 100.0%\n",
            "Wir versorgen den Quadranten 4/5 zu 100.0%\n",
            "Wir versorgen den Quadranten 4/6 zu 100.0%\n",
            "Wir versorgen den Quadranten 4/7 zu 100.0%\n",
            "Wir versorgen den Quadranten 4/8 zu 100.0%\n",
            "Wir versorgen den Quadranten 4/9 zu 100.0%\n",
            "Wir versorgen den Quadranten 4/10 zu 100.0%\n",
            "Wir versorgen den Quadranten 4/11 zu 100.0%\n",
            "Wir versorgen den Quadranten 4/12 zu 100.0%\n",
            "Wir versorgen den Quadranten 5/0 zu 100.0%\n",
            "Wir versorgen den Quadranten 5/1 zu 100.0%\n",
            "Wir versorgen den Quadranten 5/2 zu 100.0%\n",
            "Wir versorgen den Quadranten 5/3 zu 100.0%\n",
            "Wir versorgen den Quadranten 5/4 zu 100.0%\n",
            "Wir versorgen den Quadranten 5/5 zu 100.0%\n",
            "Wir versorgen den Quadranten 5/6 zu 100.0%\n",
            "Wir versorgen den Quadranten 5/7 zu 100.0%\n",
            "Wir versorgen den Quadranten 5/8 zu 100.0%\n",
            "Wir versorgen den Quadranten 5/9 zu 100.0%\n",
            "Wir versorgen den Quadranten 5/10 zu 100.0%\n",
            "Wir versorgen den Quadranten 5/11 zu 100.0%\n",
            "Wir versorgen den Quadranten 5/12 zu 100.0%\n",
            "Wir versorgen den Quadranten 6/1 zu 100.0%\n",
            "Wir versorgen den Quadranten 6/2 zu 100.0%\n",
            "Wir versorgen den Quadranten 6/3 zu 100.0%\n",
            "Wir versorgen den Quadranten 6/4 zu 100.0%\n",
            "Wir versorgen den Quadranten 6/5 zu 100.0%\n",
            "Wir versorgen den Quadranten 6/6 zu 100.0%\n",
            "Wir versorgen den Quadranten 6/7 zu 100.0%\n",
            "Wir versorgen den Quadranten 6/8 zu 100.0%\n",
            "Wir versorgen den Quadranten 6/9 zu 100.0%\n",
            "Wir versorgen den Quadranten 6/10 zu 100.0%\n",
            "Wir versorgen den Quadranten 6/12 zu 100.0%\n",
            "Wir versorgen den Quadranten 7/2 zu 100.0%\n",
            "Wir versorgen den Quadranten 7/3 zu 100.0%\n",
            "Wir versorgen den Quadranten 7/4 zu 100.0%\n",
            "Wir versorgen den Quadranten 7/5 zu 100.0%\n",
            "Wir versorgen den Quadranten 7/6 zu 100.0%\n",
            "Wir versorgen den Quadranten 7/7 zu 100.0%\n",
            "Wir versorgen den Quadranten 7/8 zu 100.0%\n",
            "Wir versorgen den Quadranten 7/9 zu 100.0%\n",
            "Wir versorgen den Quadranten 7/10 zu 100.0%\n",
            "Wir versorgen den Quadranten 7/11 zu 100.0%\n",
            "Wir versorgen den Quadranten 7/12 zu 100.0%\n",
            "Wir versorgen den Quadranten 8/1 zu 100.0%\n",
            "Wir versorgen den Quadranten 8/3 zu 100.0%\n",
            "Wir versorgen den Quadranten 8/4 zu 100.0%\n",
            "Wir versorgen den Quadranten 8/5 zu 100.0%\n",
            "Wir versorgen den Quadranten 8/6 zu 100.0%\n",
            "Wir versorgen den Quadranten 8/7 zu 100.0%\n",
            "Wir versorgen den Quadranten 8/8 zu 100.0%\n",
            "Wir versorgen den Quadranten 8/9 zu 100.0%\n",
            "Wir versorgen den Quadranten 8/11 zu 100.0%\n",
            "Wir versorgen den Quadranten 8/12 zu 100.0%\n",
            "Wir versorgen den Quadranten 9/0 zu 100.0%\n",
            "Wir versorgen den Quadranten 9/1 zu 100.0%\n",
            "Wir versorgen den Quadranten 9/2 zu 100.0%\n",
            "Wir versorgen den Quadranten 9/3 zu 100.0%\n",
            "Wir versorgen den Quadranten 9/4 zu 100.0%\n",
            "Wir versorgen den Quadranten 9/5 zu 100.0%\n",
            "Wir versorgen den Quadranten 9/6 zu 100.0%\n",
            "Wir versorgen den Quadranten 9/7 zu 100.0%\n",
            "Wir versorgen den Quadranten 9/8 zu 100.0%\n",
            "Wir versorgen den Quadranten 9/9 zu 100.0%\n",
            "Wir versorgen den Quadranten 9/10 zu 100.0%\n",
            "Wir versorgen den Quadranten 9/11 zu 100.0%\n",
            "Wir versorgen den Quadranten 9/12 zu 100.0%\n",
            "Wir versorgen den Quadranten 10/0 zu 100.0%\n",
            "Wir versorgen den Quadranten 10/1 zu 100.0%\n",
            "Wir versorgen den Quadranten 10/2 zu 100.0%\n",
            "Wir versorgen den Quadranten 10/3 zu 100.0%\n",
            "Wir versorgen den Quadranten 10/4 zu 100.0%\n",
            "Wir versorgen den Quadranten 10/5 zu 100.0%\n",
            "Wir versorgen den Quadranten 10/6 zu 100.0%\n",
            "Wir versorgen den Quadranten 10/7 zu 100.0%\n",
            "Wir versorgen den Quadranten 10/8 zu 100.0%\n",
            "Wir versorgen den Quadranten 10/9 zu 100.0%\n",
            "Wir versorgen den Quadranten 10/10 zu 100.0%\n",
            "Wir versorgen den Quadranten 10/11 zu 100.0%\n",
            "Wir versorgen den Quadranten 10/12 zu 100.0%\n",
            "Wir versorgen den Quadranten 11/0 zu 100.0%\n",
            "Wir versorgen den Quadranten 11/2 zu 100.0%\n",
            "Wir versorgen den Quadranten 11/3 zu 100.0%\n",
            "Wir versorgen den Quadranten 11/4 zu 100.0%\n",
            "Wir versorgen den Quadranten 11/5 zu 100.0%\n",
            "Wir versorgen den Quadranten 11/6 zu 100.0%\n",
            "Wir versorgen den Quadranten 11/9 zu 100.0%\n",
            "Wir versorgen den Quadranten 11/10 zu 100.0%\n",
            "Wir versorgen den Quadranten 11/11 zu 100.0%\n",
            "Wir versorgen den Quadranten 11/12 zu 100.0%\n",
            "Wir versorgen den Quadranten 12/1 zu 100.0%\n",
            "Wir versorgen den Quadranten 12/2 zu 100.0%\n",
            "Wir versorgen den Quadranten 12/3 zu 100.0%\n",
            "Wir versorgen den Quadranten 12/4 zu 100.0%\n",
            "Wir versorgen den Quadranten 12/5 zu 100.0%\n",
            "Wir versorgen den Quadranten 12/6 zu 100.0%\n",
            "Wir versorgen den Quadranten 12/7 zu 100.0%\n",
            "Wir versorgen den Quadranten 12/8 zu 100.0%\n",
            "Wir versorgen den Quadranten 12/9 zu 100.0%\n",
            "Wir versorgen den Quadranten 12/10 zu 100.0%\n",
            "Wir versorgen den Quadranten 12/11 zu 100.0%\n",
            "Wir versorgen den Quadranten 12/12 zu 100.0%\n"
          ]
        }
      ]
    },
    {
      "cell_type": "markdown",
      "source": [
        "### Standortauslastung"
      ],
      "metadata": {
        "id": "uxUWCw7LYgdp"
      }
    },
    {
      "cell_type": "code",
      "source": [
        "for s in S:\n",
        "  na_s= 0\n",
        "  kap = 0\n",
        "  if(Y[s].solution_value()==1):\n",
        "    na_s += sum(NA[s,i,j].solution_value() for i in I for j in J)\n",
        "    kap= round((na_s*100)/u[s],0)\n",
        "    print(\"Der Standort \"+str(s) + \" ist zu \" + str(kap) + \"% ausgelastet\")\n"
      ],
      "metadata": {
        "id": "cv6I1qN5YkQD",
        "colab": {
          "base_uri": "https://localhost:8080/"
        },
        "outputId": "a6be12ae-2d0a-40ae-f65a-4b67a2772732"
      },
      "execution_count": 39,
      "outputs": [
        {
          "output_type": "stream",
          "name": "stdout",
          "text": [
            "Der Standort 1 ist zu 100.0% ausgelastet\n",
            "Der Standort 2 ist zu 100.0% ausgelastet\n",
            "Der Standort 3 ist zu 100.0% ausgelastet\n",
            "Der Standort 4 ist zu 100.0% ausgelastet\n",
            "Der Standort 5 ist zu 100.0% ausgelastet\n",
            "Der Standort 7 ist zu 100.0% ausgelastet\n",
            "Der Standort 9 ist zu 51.0% ausgelastet\n"
          ]
        }
      ]
    },
    {
      "cell_type": "code",
      "source": [
        "for s in S:\n",
        "  for i in I:\n",
        "    for j in J:\n",
        "      if(NA[s,i,j].solution_value() != n[i][j] and NA[s,i,j].solution_value() != 0 ):\n",
        "        print(\"Wir beliefern doppelt: \" + str(i) + str(j))\n",
        "   "
      ],
      "metadata": {
        "id": "C8Zaxo9gXusX",
        "colab": {
          "base_uri": "https://localhost:8080/"
        },
        "outputId": "47bda0c4-1f9b-430e-9612-96b67ecfbb15"
      },
      "execution_count": 40,
      "outputs": [
        {
          "output_type": "stream",
          "name": "stdout",
          "text": [
            "Wir beliefern doppelt: 511\n",
            "Wir beliefern doppelt: 98\n",
            "Wir beliefern doppelt: 1012\n",
            "Wir beliefern doppelt: 1212\n",
            "Wir beliefern doppelt: 108\n",
            "Wir beliefern doppelt: 106\n",
            "Wir beliefern doppelt: 107\n",
            "Wir beliefern doppelt: 1012\n",
            "Wir beliefern doppelt: 1212\n",
            "Wir beliefern doppelt: 106\n",
            "Wir beliefern doppelt: 107\n",
            "Wir beliefern doppelt: 108\n",
            "Wir beliefern doppelt: 511\n",
            "Wir beliefern doppelt: 98\n",
            "Wir beliefern doppelt: 54\n",
            "Wir beliefern doppelt: 54\n"
          ]
        }
      ]
    },
    {
      "cell_type": "code",
      "source": [
        "for s in S:\n",
        "  for i in I:\n",
        "    for j in J:\n",
        "      if(NA[s,i,j].solution_value()!=0):\n",
        "        print(NA[s,i,j].solution_value())"
      ],
      "metadata": {
        "id": "ANkIU1GEZHcK",
        "colab": {
          "base_uri": "https://localhost:8080/"
        },
        "outputId": "4c37f0a3-0f6f-4f43-9567-8b4243ae49c1"
      },
      "execution_count": 41,
      "outputs": [
        {
          "output_type": "stream",
          "name": "stdout",
          "text": [
            "63.0\n",
            "36.0\n",
            "1.0\n",
            "56.0\n",
            "31.0\n",
            "96.0\n",
            "67.0\n",
            "27.0\n",
            "32.0\n",
            "73.0\n",
            "8.0\n",
            "28.0\n",
            "82.0\n",
            "49.0\n",
            "10.0\n",
            "38.0\n",
            "37.0\n",
            "77.0\n",
            "56.0\n",
            "35.0\n",
            "21.0\n",
            "89.0\n",
            "9.0\n",
            "25.0\n",
            "35.0\n",
            "9.0\n",
            "10.0\n",
            "39.0\n",
            "61.0\n",
            "20.0\n",
            "83.0\n",
            "64.0\n",
            "30.0\n",
            "63.0\n",
            "68.0\n",
            "12.0\n",
            "68.0\n",
            "35.0\n",
            "41.0\n",
            "4.0\n",
            "65.0\n",
            "24.0\n",
            "72.0\n",
            "1.0\n",
            "94.0\n",
            "28.0\n",
            "60.0\n",
            "22.0\n",
            "9.0\n",
            "56.0\n",
            "32.0\n",
            "25.0\n",
            "86.0\n",
            "17.0\n",
            "42.0\n",
            "61.0\n",
            "37.0\n",
            "52.0\n",
            "66.0\n",
            "10.0\n",
            "13.0\n",
            "15.0\n",
            "81.0\n",
            "28.0\n",
            "37.0\n",
            "85.0\n",
            "65.0\n",
            "39.0\n",
            "88.0\n",
            "58.0\n",
            "17.0\n",
            "94.0\n",
            "7.0\n",
            "82.0\n",
            "69.0\n",
            "47.0\n",
            "43.0\n",
            "51.0\n",
            "80.0\n",
            "42.0\n",
            "83.0\n",
            "19.0\n",
            "37.0\n",
            "14.0\n",
            "1.0\n",
            "92.0\n",
            "41.0\n",
            "32.0\n",
            "16.0\n",
            "83.0\n",
            "56.0\n",
            "15.0\n",
            "99.0\n",
            "60.0\n",
            "85.0\n",
            "90.0\n",
            "68.0\n",
            "9.0\n",
            "93.0\n",
            "65.0\n",
            "96.0\n",
            "31.0\n",
            "8.0\n",
            "27.0\n",
            "74.0\n",
            "59.0\n",
            "70.0\n",
            "34.0\n",
            "61.0\n",
            "45.0\n",
            "86.0\n",
            "95.0\n",
            "93.0\n",
            "12.0\n",
            "83.0\n",
            "1.0\n",
            "97.0\n",
            "73.0\n",
            "5.0\n",
            "73.0\n",
            "44.0\n",
            "93.0\n",
            "69.0\n",
            "32.0\n",
            "95.0\n",
            "61.0\n",
            "26.0\n",
            "62.0\n",
            "40.0\n",
            "34.0\n",
            "77.0\n",
            "33.0\n",
            "76.0\n",
            "51.0\n",
            "57.0\n",
            "67.0\n",
            "42.0\n",
            "87.0\n",
            "23.0\n",
            "23.0\n",
            "36.0\n",
            "54.0\n",
            "2.0\n",
            "71.0\n",
            "38.0\n",
            "1.0\n",
            "41.0\n",
            "54.0\n",
            "86.0\n",
            "1.0\n",
            "65.0\n",
            "70.0\n",
            "86.0\n",
            "16.0\n"
          ]
        }
      ]
    }
  ]
}