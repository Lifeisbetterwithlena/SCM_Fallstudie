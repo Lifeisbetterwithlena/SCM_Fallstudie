{
  "nbformat": 4,
  "nbformat_minor": 0,
  "metadata": {
    "colab": {
      "provenance": [],
      "collapsed_sections": [
        "FznCQVc5-wbh",
        "D87-db6w-wKF",
        "ZriT_5GT_wQL"
      ],
      "include_colab_link": true
    },
    "kernelspec": {
      "name": "python3",
      "display_name": "Python 3"
    },
    "language_info": {
      "name": "python"
    }
  },
  "cells": [
    {
      "cell_type": "markdown",
      "metadata": {
        "id": "view-in-github",
        "colab_type": "text"
      },
      "source": [
        "<a href=\"https://colab.research.google.com/github/Lifeisbetterwithlena/SCM_Fallstudie/blob/main/1_4_Fallstudie.ipynb\" target=\"_parent\"><img src=\"https://colab.research.google.com/assets/colab-badge.svg\" alt=\"Open In Colab\"/></a>"
      ]
    },
    {
      "cell_type": "markdown",
      "metadata": {
        "id": "b2fc884d"
      },
      "source": [
        "# Fallstudie Flink\n",
        "## Standortentscheidung"
      ]
    },
    {
      "cell_type": "markdown",
      "source": [
        "## Modell"
      ],
      "metadata": {
        "id": "eV_cjbhd-c2I"
      }
    },
    {
      "cell_type": "markdown",
      "source": [
        "### Indexmengen\n",
        "$s \\in S$ : Menge der potenziellen DarkStores (Standorte)\n",
        "\n",
        "$i \\in I$ : Menge der (Nachfrage) i-Koordinaten \n",
        "\n",
        "$j \\in J$ : Menge der (Nachfrage) j-Koordinaten  \n",
        "\n"
      ],
      "metadata": {
        "id": "FznCQVc5-wbh"
      }
    },
    {
      "cell_type": "markdown",
      "source": [
        "### Parameter\n",
        "$n_{ij}$ : Nachfrage an $i$$j$\n",
        "\n",
        "$u_{s}$ : Lagerumschlagsleistung an Standort $s$\n",
        "\n",
        "$c_{s}$ : Errichtungskosten für Standort $s$\n",
        "\n",
        "$ki_{s}$ : $i$-Kooridnate von Standort $s$ \n",
        "\n",
        "$kj_{s}$ : $j$-Kooridnate von Standort $s$ "
      ],
      "metadata": {
        "id": "D87-db6w-wKF"
      }
    },
    {
      "cell_type": "markdown",
      "source": [
        "### Entscheidungsvariablen\n",
        "\n",
        "$V_{sij} \\in \\{0,1\\}$ : Binäre Versorgungsvariable\n",
        "\n",
        "$Y_{s} \\in \\{0,1\\}$ : Binäre Standortausbauvariable"
      ],
      "metadata": {
        "id": "ZriT_5GT_wQL"
      }
    },
    {
      "cell_type": "markdown",
      "source": [
        "### Zielfunktion\n",
        "Max $NA =   \\sum_{s,i,j} (V_{s,i,j} * n_{i,j})$   "
      ],
      "metadata": {
        "id": "lUZoqj8e-wBa"
      }
    },
    {
      "cell_type": "markdown",
      "source": [
        "### Nebenbedingungen"
      ],
      "metadata": {
        "id": "2x-xiFCP-v0l"
      }
    },
    {
      "cell_type": "markdown",
      "source": [
        "**(1) Budget einhalten**\n",
        "\n",
        "$\\sum_{s} (c_s*Y_s) \\le 1.000.000 $\n",
        "\n",
        "\n",
        "Kosten  für Ausbau * Entscheidung Ausbau (1/0) darf nicht über 1 mio. liegen"
      ],
      "metadata": {
        "id": "6u_OSabxCAyB"
      }
    },
    {
      "cell_type": "markdown",
      "source": [
        "**(2) Lieferzeit einhalten Erweiterung**\n",
        "\n",
        "$ Lieferzeit = (|ki_s - i| + |kj_s - j|)* V_{s,i,j} $\n",
        "\n",
        "$∀ s,i,j$\n",
        "\n",
        "#### Lieferzeit 10 min (3 min einfache Fahrtzeit) entspricht 5 Quadranten\n",
        "$Lieferzeit\\le 5 $\n",
        "#### Lieferzeit 20 min (8 min einfache Fahrtzeit) entspricht 13.33 Quadranten\n",
        "$Lieferzeit\\le 13 $\n",
        "\n",
        "#### Lieferzeit 30 (13 min einfache Fahrtzeit) min entspricht 21.66 Quadranten\n",
        "$Lieferzeit\\le 21 $\n",
        "\n",
        "\n",
        "\n"
      ],
      "metadata": {
        "id": "hK_iqilARrsU"
      }
    },
    {
      "cell_type": "markdown",
      "source": [
        "**(3) Keine Doppelbedienung der Quandranden**\n",
        "\n",
        "$\\sum_s V_{s,i,j} \\le 1$\n",
        "\n",
        "$∀ i, j$\n",
        "\n",
        "Prüfe für alle Koordinaten, ob Summe der Standort-Versorgungsvariable kleiner gleich 1 ist"
      ],
      "metadata": {
        "id": "fUhgNqZVSLHd"
      }
    },
    {
      "cell_type": "markdown",
      "source": [
        "**(4) Kapazitäten einhalten**\n",
        "\n",
        "$\\sum (V_{s,i,j}* n_{i,j}) \\le u_s *Y_s $ \n",
        "\n",
        "$∀ s$\n",
        "\n",
        "Prüfe für jeden Standort:\n",
        "\n",
        "Summe Standort-Versorgungsvariable (1/0) * Nachfrage ist kleiner gleich Umschlagsleistung im jeweiligen Standort"
      ],
      "metadata": {
        "id": "o0sdZl-54q-J"
      }
    },
    {
      "cell_type": "markdown",
      "source": [
        "## Implementierung"
      ],
      "metadata": {
        "id": "8T1IHcjpUBoZ"
      }
    },
    {
      "cell_type": "code",
      "execution_count": 1,
      "metadata": {
        "id": "cdb29647",
        "colab": {
          "base_uri": "https://localhost:8080/"
        },
        "outputId": "a5e44ce4-5d52-4424-91b5-921c42346ae5"
      },
      "outputs": [
        {
          "output_type": "stream",
          "name": "stdout",
          "text": [
            "\u001b[2K     \u001b[90m━━━━━━━━━━━━━━━━━━━━━━━━━━━━━━━━━━━━━━━━\u001b[0m \u001b[32m2.1/2.1 MB\u001b[0m \u001b[31m19.2 MB/s\u001b[0m eta \u001b[36m0:00:00\u001b[0m\n",
            "\u001b[2K     \u001b[90m━━━━━━━━━━━━━━━━━━━━━━━━━━━━━━━━━━━━━━━━\u001b[0m \u001b[32m16.3/16.3 MB\u001b[0m \u001b[31m28.7 MB/s\u001b[0m eta \u001b[36m0:00:00\u001b[0m\n",
            "\u001b[2K     \u001b[90m━━━━━━━━━━━━━━━━━━━━━━━━━━━━━━━━━━━━━━━\u001b[0m \u001b[32m409.8/409.8 kB\u001b[0m \u001b[31m4.5 MB/s\u001b[0m eta \u001b[36m0:00:00\u001b[0m\n",
            "\u001b[?25h\u001b[31mERROR: pip's dependency resolver does not currently take into account all the packages that are installed. This behaviour is the source of the following dependency conflicts.\n",
            "tensorflow 2.9.2 requires protobuf<3.20,>=3.9.2, but you have protobuf 4.21.12 which is incompatible.\n",
            "tensorflow-metadata 1.12.0 requires protobuf<4,>=3.13, but you have protobuf 4.21.12 which is incompatible.\n",
            "tensorboard 2.9.1 requires protobuf<3.20,>=3.9.2, but you have protobuf 4.21.12 which is incompatible.\u001b[0m\u001b[31m\n",
            "\u001b[0m\u001b[33mWARNING: Running pip as the 'root' user can result in broken permissions and conflicting behaviour with the system package manager. It is recommended to use a virtual environment instead: https://pip.pypa.io/warnings/venv\u001b[0m\u001b[33m\n",
            "\u001b[0m"
          ]
        }
      ],
      "source": [
        "# Notwendigen Programminstallationen\n",
        "# pip als Paketmanager\n",
        "!pip install -U -q pip\n",
        "!pip install -q ortools\n",
        "# Laden des Programms\n",
        "from ortools.linear_solver import pywraplp"
      ]
    },
    {
      "cell_type": "code",
      "execution_count": 2,
      "metadata": {
        "id": "d8c0c7cc"
      },
      "outputs": [],
      "source": [
        "# Solver mit SCIP als Backend.\n",
        "# SCIP implementiert Simplex, Branch-and-Bound, etc\n",
        "solver = pywraplp.Solver.CreateSolver('SCIP')"
      ]
    },
    {
      "cell_type": "markdown",
      "source": [
        "## Datenaufbereitung\n",
        "\n",
        "\n",
        "1.   Fallstudien-Daten in Google-Drive laden\n",
        "2.   Google-Drive mit Colab-Notebook verbinden\n",
        "3.   Daten mit `pandas` laden\n",
        "\n"
      ],
      "metadata": {
        "id": "muy4OW--8Dp5"
      }
    },
    {
      "cell_type": "code",
      "source": [
        "from google.colab import drive\n",
        "drive.mount('/content/drive')"
      ],
      "metadata": {
        "id": "DkkKC0dg82Cc",
        "colab": {
          "base_uri": "https://localhost:8080/"
        },
        "outputId": "3503ca95-c25d-4314-dbdb-198d0530c23d"
      },
      "execution_count": 3,
      "outputs": [
        {
          "output_type": "stream",
          "name": "stdout",
          "text": [
            "Mounted at /content/drive\n"
          ]
        }
      ]
    },
    {
      "cell_type": "code",
      "source": [
        "# Ordner finden\n",
        "! ls drive/MyDrive/Industrielles_Management/Daten/Fallstudie"
      ],
      "metadata": {
        "id": "7MzXHG4B86Qx",
        "colab": {
          "base_uri": "https://localhost:8080/"
        },
        "outputId": "59dfe487-0b17-4af1-b0d3-af37be5aa704"
      },
      "execution_count": 4,
      "outputs": [
        {
          "output_type": "stream",
          "name": "stdout",
          "text": [
            "Nachfrage.csv  Standorte.csv\n"
          ]
        }
      ]
    },
    {
      "cell_type": "code",
      "source": [
        "# Pfad zurückgeben\n",
        "! cd drive/MyDrive/Industrielles_Management/Daten/Fallstudie && pwd"
      ],
      "metadata": {
        "id": "kkXWmM2i-OB3",
        "colab": {
          "base_uri": "https://localhost:8080/"
        },
        "outputId": "03ea2262-f3cd-45b6-c2a7-12e3e86448d4"
      },
      "execution_count": 5,
      "outputs": [
        {
          "output_type": "stream",
          "name": "stdout",
          "text": [
            "/content/drive/MyDrive/Industrielles_Management/Daten/Fallstudie\n"
          ]
        }
      ]
    },
    {
      "cell_type": "code",
      "source": [
        "# Daten laden\n",
        "import pandas as pd"
      ],
      "metadata": {
        "id": "2-oi6YL28FEt"
      },
      "execution_count": 6,
      "outputs": []
    },
    {
      "cell_type": "code",
      "source": [
        "path = \"/content/drive/MyDrive/Industrielles_Management/Daten/Fallstudie\""
      ],
      "metadata": {
        "id": "m_knWvLgTtYP"
      },
      "execution_count": 7,
      "outputs": []
    },
    {
      "cell_type": "code",
      "source": [
        "# Nachfragedaten lesen & speichern\n",
        "nachfrage_df = pd.read_csv(f\"{path}/Nachfrage.csv\", sep=\";\")"
      ],
      "metadata": {
        "id": "uF0YYNBI8ILm"
      },
      "execution_count": 8,
      "outputs": []
    },
    {
      "cell_type": "code",
      "source": [
        "# Nachfragedaten ausgeben\n",
        "nachfrage_df"
      ],
      "metadata": {
        "id": "EkihB5ZxIavj",
        "colab": {
          "base_uri": "https://localhost:8080/",
          "height": 452
        },
        "outputId": "d75ba50d-4d30-48bd-af48-3efb93750d22"
      },
      "execution_count": 9,
      "outputs": [
        {
          "output_type": "execute_result",
          "data": {
            "text/plain": [
              "    Unnamed: 0   0   1   2   3   4   5   6   7   8   9  10  11  12\n",
              "0            0   7  91  34  77  33  47  43  51  81  28  88  74  81\n",
              "1            1  73  82  76  51  80  42  83  19  37  37  85  18  67\n",
              "2            2  85  57  67  14   1  92  41  32  16  83  65  39  18\n",
              "3            3  42  87  23  56  15  99  60  85  90  68   9  63  88\n",
              "4            4  23  93  36  65  96  31   8  54  27  74  59  70  36\n",
              "5            5   2  71  34  38  62  45  86  95  93  12  83  59  17\n",
              "6            6  31  41  54   1  97  73   5  73  44  93  94   2  56\n",
              "7            7  61  44  86   1  69  65  32  95  61  39   7  61  31\n",
              "8            8  59  49   1  70  86  26  62  40  96  82   3  20  83\n",
              "9            9  10  38  37  77  16  94  34  67  96  64  32  30  63\n",
              "10          10  56  35  21  89  28  60  90  21  65  25  68  73  43\n",
              "11          11  35  91   9  32  25  86  41  41  52   4  28  65  24\n",
              "12          12  13  10  17  42  61  37  52  66  10  13  15  72  83"
            ],
            "text/html": [
              "\n",
              "  <div id=\"df-142fff51-61c0-429c-97b9-52bedbbf659f\">\n",
              "    <div class=\"colab-df-container\">\n",
              "      <div>\n",
              "<style scoped>\n",
              "    .dataframe tbody tr th:only-of-type {\n",
              "        vertical-align: middle;\n",
              "    }\n",
              "\n",
              "    .dataframe tbody tr th {\n",
              "        vertical-align: top;\n",
              "    }\n",
              "\n",
              "    .dataframe thead th {\n",
              "        text-align: right;\n",
              "    }\n",
              "</style>\n",
              "<table border=\"1\" class=\"dataframe\">\n",
              "  <thead>\n",
              "    <tr style=\"text-align: right;\">\n",
              "      <th></th>\n",
              "      <th>Unnamed: 0</th>\n",
              "      <th>0</th>\n",
              "      <th>1</th>\n",
              "      <th>2</th>\n",
              "      <th>3</th>\n",
              "      <th>4</th>\n",
              "      <th>5</th>\n",
              "      <th>6</th>\n",
              "      <th>7</th>\n",
              "      <th>8</th>\n",
              "      <th>9</th>\n",
              "      <th>10</th>\n",
              "      <th>11</th>\n",
              "      <th>12</th>\n",
              "    </tr>\n",
              "  </thead>\n",
              "  <tbody>\n",
              "    <tr>\n",
              "      <th>0</th>\n",
              "      <td>0</td>\n",
              "      <td>7</td>\n",
              "      <td>91</td>\n",
              "      <td>34</td>\n",
              "      <td>77</td>\n",
              "      <td>33</td>\n",
              "      <td>47</td>\n",
              "      <td>43</td>\n",
              "      <td>51</td>\n",
              "      <td>81</td>\n",
              "      <td>28</td>\n",
              "      <td>88</td>\n",
              "      <td>74</td>\n",
              "      <td>81</td>\n",
              "    </tr>\n",
              "    <tr>\n",
              "      <th>1</th>\n",
              "      <td>1</td>\n",
              "      <td>73</td>\n",
              "      <td>82</td>\n",
              "      <td>76</td>\n",
              "      <td>51</td>\n",
              "      <td>80</td>\n",
              "      <td>42</td>\n",
              "      <td>83</td>\n",
              "      <td>19</td>\n",
              "      <td>37</td>\n",
              "      <td>37</td>\n",
              "      <td>85</td>\n",
              "      <td>18</td>\n",
              "      <td>67</td>\n",
              "    </tr>\n",
              "    <tr>\n",
              "      <th>2</th>\n",
              "      <td>2</td>\n",
              "      <td>85</td>\n",
              "      <td>57</td>\n",
              "      <td>67</td>\n",
              "      <td>14</td>\n",
              "      <td>1</td>\n",
              "      <td>92</td>\n",
              "      <td>41</td>\n",
              "      <td>32</td>\n",
              "      <td>16</td>\n",
              "      <td>83</td>\n",
              "      <td>65</td>\n",
              "      <td>39</td>\n",
              "      <td>18</td>\n",
              "    </tr>\n",
              "    <tr>\n",
              "      <th>3</th>\n",
              "      <td>3</td>\n",
              "      <td>42</td>\n",
              "      <td>87</td>\n",
              "      <td>23</td>\n",
              "      <td>56</td>\n",
              "      <td>15</td>\n",
              "      <td>99</td>\n",
              "      <td>60</td>\n",
              "      <td>85</td>\n",
              "      <td>90</td>\n",
              "      <td>68</td>\n",
              "      <td>9</td>\n",
              "      <td>63</td>\n",
              "      <td>88</td>\n",
              "    </tr>\n",
              "    <tr>\n",
              "      <th>4</th>\n",
              "      <td>4</td>\n",
              "      <td>23</td>\n",
              "      <td>93</td>\n",
              "      <td>36</td>\n",
              "      <td>65</td>\n",
              "      <td>96</td>\n",
              "      <td>31</td>\n",
              "      <td>8</td>\n",
              "      <td>54</td>\n",
              "      <td>27</td>\n",
              "      <td>74</td>\n",
              "      <td>59</td>\n",
              "      <td>70</td>\n",
              "      <td>36</td>\n",
              "    </tr>\n",
              "    <tr>\n",
              "      <th>5</th>\n",
              "      <td>5</td>\n",
              "      <td>2</td>\n",
              "      <td>71</td>\n",
              "      <td>34</td>\n",
              "      <td>38</td>\n",
              "      <td>62</td>\n",
              "      <td>45</td>\n",
              "      <td>86</td>\n",
              "      <td>95</td>\n",
              "      <td>93</td>\n",
              "      <td>12</td>\n",
              "      <td>83</td>\n",
              "      <td>59</td>\n",
              "      <td>17</td>\n",
              "    </tr>\n",
              "    <tr>\n",
              "      <th>6</th>\n",
              "      <td>6</td>\n",
              "      <td>31</td>\n",
              "      <td>41</td>\n",
              "      <td>54</td>\n",
              "      <td>1</td>\n",
              "      <td>97</td>\n",
              "      <td>73</td>\n",
              "      <td>5</td>\n",
              "      <td>73</td>\n",
              "      <td>44</td>\n",
              "      <td>93</td>\n",
              "      <td>94</td>\n",
              "      <td>2</td>\n",
              "      <td>56</td>\n",
              "    </tr>\n",
              "    <tr>\n",
              "      <th>7</th>\n",
              "      <td>7</td>\n",
              "      <td>61</td>\n",
              "      <td>44</td>\n",
              "      <td>86</td>\n",
              "      <td>1</td>\n",
              "      <td>69</td>\n",
              "      <td>65</td>\n",
              "      <td>32</td>\n",
              "      <td>95</td>\n",
              "      <td>61</td>\n",
              "      <td>39</td>\n",
              "      <td>7</td>\n",
              "      <td>61</td>\n",
              "      <td>31</td>\n",
              "    </tr>\n",
              "    <tr>\n",
              "      <th>8</th>\n",
              "      <td>8</td>\n",
              "      <td>59</td>\n",
              "      <td>49</td>\n",
              "      <td>1</td>\n",
              "      <td>70</td>\n",
              "      <td>86</td>\n",
              "      <td>26</td>\n",
              "      <td>62</td>\n",
              "      <td>40</td>\n",
              "      <td>96</td>\n",
              "      <td>82</td>\n",
              "      <td>3</td>\n",
              "      <td>20</td>\n",
              "      <td>83</td>\n",
              "    </tr>\n",
              "    <tr>\n",
              "      <th>9</th>\n",
              "      <td>9</td>\n",
              "      <td>10</td>\n",
              "      <td>38</td>\n",
              "      <td>37</td>\n",
              "      <td>77</td>\n",
              "      <td>16</td>\n",
              "      <td>94</td>\n",
              "      <td>34</td>\n",
              "      <td>67</td>\n",
              "      <td>96</td>\n",
              "      <td>64</td>\n",
              "      <td>32</td>\n",
              "      <td>30</td>\n",
              "      <td>63</td>\n",
              "    </tr>\n",
              "    <tr>\n",
              "      <th>10</th>\n",
              "      <td>10</td>\n",
              "      <td>56</td>\n",
              "      <td>35</td>\n",
              "      <td>21</td>\n",
              "      <td>89</td>\n",
              "      <td>28</td>\n",
              "      <td>60</td>\n",
              "      <td>90</td>\n",
              "      <td>21</td>\n",
              "      <td>65</td>\n",
              "      <td>25</td>\n",
              "      <td>68</td>\n",
              "      <td>73</td>\n",
              "      <td>43</td>\n",
              "    </tr>\n",
              "    <tr>\n",
              "      <th>11</th>\n",
              "      <td>11</td>\n",
              "      <td>35</td>\n",
              "      <td>91</td>\n",
              "      <td>9</td>\n",
              "      <td>32</td>\n",
              "      <td>25</td>\n",
              "      <td>86</td>\n",
              "      <td>41</td>\n",
              "      <td>41</td>\n",
              "      <td>52</td>\n",
              "      <td>4</td>\n",
              "      <td>28</td>\n",
              "      <td>65</td>\n",
              "      <td>24</td>\n",
              "    </tr>\n",
              "    <tr>\n",
              "      <th>12</th>\n",
              "      <td>12</td>\n",
              "      <td>13</td>\n",
              "      <td>10</td>\n",
              "      <td>17</td>\n",
              "      <td>42</td>\n",
              "      <td>61</td>\n",
              "      <td>37</td>\n",
              "      <td>52</td>\n",
              "      <td>66</td>\n",
              "      <td>10</td>\n",
              "      <td>13</td>\n",
              "      <td>15</td>\n",
              "      <td>72</td>\n",
              "      <td>83</td>\n",
              "    </tr>\n",
              "  </tbody>\n",
              "</table>\n",
              "</div>\n",
              "      <button class=\"colab-df-convert\" onclick=\"convertToInteractive('df-142fff51-61c0-429c-97b9-52bedbbf659f')\"\n",
              "              title=\"Convert this dataframe to an interactive table.\"\n",
              "              style=\"display:none;\">\n",
              "        \n",
              "  <svg xmlns=\"http://www.w3.org/2000/svg\" height=\"24px\"viewBox=\"0 0 24 24\"\n",
              "       width=\"24px\">\n",
              "    <path d=\"M0 0h24v24H0V0z\" fill=\"none\"/>\n",
              "    <path d=\"M18.56 5.44l.94 2.06.94-2.06 2.06-.94-2.06-.94-.94-2.06-.94 2.06-2.06.94zm-11 1L8.5 8.5l.94-2.06 2.06-.94-2.06-.94L8.5 2.5l-.94 2.06-2.06.94zm10 10l.94 2.06.94-2.06 2.06-.94-2.06-.94-.94-2.06-.94 2.06-2.06.94z\"/><path d=\"M17.41 7.96l-1.37-1.37c-.4-.4-.92-.59-1.43-.59-.52 0-1.04.2-1.43.59L10.3 9.45l-7.72 7.72c-.78.78-.78 2.05 0 2.83L4 21.41c.39.39.9.59 1.41.59.51 0 1.02-.2 1.41-.59l7.78-7.78 2.81-2.81c.8-.78.8-2.07 0-2.86zM5.41 20L4 18.59l7.72-7.72 1.47 1.35L5.41 20z\"/>\n",
              "  </svg>\n",
              "      </button>\n",
              "      \n",
              "  <style>\n",
              "    .colab-df-container {\n",
              "      display:flex;\n",
              "      flex-wrap:wrap;\n",
              "      gap: 12px;\n",
              "    }\n",
              "\n",
              "    .colab-df-convert {\n",
              "      background-color: #E8F0FE;\n",
              "      border: none;\n",
              "      border-radius: 50%;\n",
              "      cursor: pointer;\n",
              "      display: none;\n",
              "      fill: #1967D2;\n",
              "      height: 32px;\n",
              "      padding: 0 0 0 0;\n",
              "      width: 32px;\n",
              "    }\n",
              "\n",
              "    .colab-df-convert:hover {\n",
              "      background-color: #E2EBFA;\n",
              "      box-shadow: 0px 1px 2px rgba(60, 64, 67, 0.3), 0px 1px 3px 1px rgba(60, 64, 67, 0.15);\n",
              "      fill: #174EA6;\n",
              "    }\n",
              "\n",
              "    [theme=dark] .colab-df-convert {\n",
              "      background-color: #3B4455;\n",
              "      fill: #D2E3FC;\n",
              "    }\n",
              "\n",
              "    [theme=dark] .colab-df-convert:hover {\n",
              "      background-color: #434B5C;\n",
              "      box-shadow: 0px 1px 3px 1px rgba(0, 0, 0, 0.15);\n",
              "      filter: drop-shadow(0px 1px 2px rgba(0, 0, 0, 0.3));\n",
              "      fill: #FFFFFF;\n",
              "    }\n",
              "  </style>\n",
              "\n",
              "      <script>\n",
              "        const buttonEl =\n",
              "          document.querySelector('#df-142fff51-61c0-429c-97b9-52bedbbf659f button.colab-df-convert');\n",
              "        buttonEl.style.display =\n",
              "          google.colab.kernel.accessAllowed ? 'block' : 'none';\n",
              "\n",
              "        async function convertToInteractive(key) {\n",
              "          const element = document.querySelector('#df-142fff51-61c0-429c-97b9-52bedbbf659f');\n",
              "          const dataTable =\n",
              "            await google.colab.kernel.invokeFunction('convertToInteractive',\n",
              "                                                     [key], {});\n",
              "          if (!dataTable) return;\n",
              "\n",
              "          const docLinkHtml = 'Like what you see? Visit the ' +\n",
              "            '<a target=\"_blank\" href=https://colab.research.google.com/notebooks/data_table.ipynb>data table notebook</a>'\n",
              "            + ' to learn more about interactive tables.';\n",
              "          element.innerHTML = '';\n",
              "          dataTable['output_type'] = 'display_data';\n",
              "          await google.colab.output.renderOutput(dataTable, element);\n",
              "          const docLink = document.createElement('div');\n",
              "          docLink.innerHTML = docLinkHtml;\n",
              "          element.appendChild(docLink);\n",
              "        }\n",
              "      </script>\n",
              "    </div>\n",
              "  </div>\n",
              "  "
            ]
          },
          "metadata": {},
          "execution_count": 9
        }
      ]
    },
    {
      "cell_type": "code",
      "source": [
        "# Transformiere den nachfrage_df in ein Dictionary. Der erste Key sind die Werte von Spalte 1 (i-Koordinate), \n",
        "# der zweite Key sind die Werte der Spalten (j-Koordinate)\n",
        "# Überspringe den ersten Spaltennamen, da hier keine j-Kooridnate enthalten ist\n",
        "\n",
        "nachfrage = {int(row[0]): {int(col): value for col, value in row.items() if col != 'Unnamed: 0'} for _, row in nachfrage_df.iterrows()}\n",
        "\n",
        "# Test\n",
        "\n",
        "# nachfrage i=0 & j=7\n",
        "print(nachfrage[0][7])\n",
        "\n",
        "#nachfrage i=10 & j=12\n",
        "print(nachfrage[10][12])\n",
        "\n",
        "#nachfrage i=12 & j=12\n",
        "print(nachfrage[12][12])\n"
      ],
      "metadata": {
        "colab": {
          "base_uri": "https://localhost:8080/"
        },
        "id": "QxjS-MJ4NiAY",
        "outputId": "2de3a1c1-0437-427f-b419-ab8bdc248b94"
      },
      "execution_count": 10,
      "outputs": [
        {
          "output_type": "stream",
          "name": "stdout",
          "text": [
            "51\n",
            "43\n",
            "83\n"
          ]
        }
      ]
    },
    {
      "cell_type": "code",
      "source": [
        "# Standortdaten lesen & speichern\n",
        "standorte = pd.read_csv(f\"{path}/Standorte.csv\", sep=\";\", decimal=\",\")"
      ],
      "metadata": {
        "id": "NTSilRdI-_B5"
      },
      "execution_count": 11,
      "outputs": []
    },
    {
      "cell_type": "code",
      "source": [
        "# Standortdaten ausgeben\n",
        "standorte"
      ],
      "metadata": {
        "id": "SOEzklioIbzb",
        "colab": {
          "base_uri": "https://localhost:8080/",
          "height": 359
        },
        "outputId": "e0ba1021-b6b5-454f-dd72-996b877c9b5a"
      },
      "execution_count": 12,
      "outputs": [
        {
          "output_type": "execute_result",
          "data": {
            "text/plain": [
              "   Potenzielle_Standorte  i_Koordinate  j_Koordinate  Lagerumschlagleistung  \\\n",
              "0                      0             1             0                    500   \n",
              "1                      1             8            11                    600   \n",
              "2                      2            10             4                    500   \n",
              "3                      3            10            10                    750   \n",
              "4                      4            13             6                    725   \n",
              "5                      5             4             8                    750   \n",
              "6                      6            13             7                    455   \n",
              "7                      7             4             6                   3000   \n",
              "8                      8            12             6                   1400   \n",
              "9                      9             4             4                   2250   \n",
              "\n",
              "   Errichtungskosten  \n",
              "0             100000  \n",
              "1              90000  \n",
              "2              95000  \n",
              "3             101000  \n",
              "4              98500  \n",
              "5              97500  \n",
              "6             105000  \n",
              "7             225000  \n",
              "8             300000  \n",
              "9             200000  "
            ],
            "text/html": [
              "\n",
              "  <div id=\"df-83e0664d-d524-452c-8a3c-7e3ac99bbe0f\">\n",
              "    <div class=\"colab-df-container\">\n",
              "      <div>\n",
              "<style scoped>\n",
              "    .dataframe tbody tr th:only-of-type {\n",
              "        vertical-align: middle;\n",
              "    }\n",
              "\n",
              "    .dataframe tbody tr th {\n",
              "        vertical-align: top;\n",
              "    }\n",
              "\n",
              "    .dataframe thead th {\n",
              "        text-align: right;\n",
              "    }\n",
              "</style>\n",
              "<table border=\"1\" class=\"dataframe\">\n",
              "  <thead>\n",
              "    <tr style=\"text-align: right;\">\n",
              "      <th></th>\n",
              "      <th>Potenzielle_Standorte</th>\n",
              "      <th>i_Koordinate</th>\n",
              "      <th>j_Koordinate</th>\n",
              "      <th>Lagerumschlagleistung</th>\n",
              "      <th>Errichtungskosten</th>\n",
              "    </tr>\n",
              "  </thead>\n",
              "  <tbody>\n",
              "    <tr>\n",
              "      <th>0</th>\n",
              "      <td>0</td>\n",
              "      <td>1</td>\n",
              "      <td>0</td>\n",
              "      <td>500</td>\n",
              "      <td>100000</td>\n",
              "    </tr>\n",
              "    <tr>\n",
              "      <th>1</th>\n",
              "      <td>1</td>\n",
              "      <td>8</td>\n",
              "      <td>11</td>\n",
              "      <td>600</td>\n",
              "      <td>90000</td>\n",
              "    </tr>\n",
              "    <tr>\n",
              "      <th>2</th>\n",
              "      <td>2</td>\n",
              "      <td>10</td>\n",
              "      <td>4</td>\n",
              "      <td>500</td>\n",
              "      <td>95000</td>\n",
              "    </tr>\n",
              "    <tr>\n",
              "      <th>3</th>\n",
              "      <td>3</td>\n",
              "      <td>10</td>\n",
              "      <td>10</td>\n",
              "      <td>750</td>\n",
              "      <td>101000</td>\n",
              "    </tr>\n",
              "    <tr>\n",
              "      <th>4</th>\n",
              "      <td>4</td>\n",
              "      <td>13</td>\n",
              "      <td>6</td>\n",
              "      <td>725</td>\n",
              "      <td>98500</td>\n",
              "    </tr>\n",
              "    <tr>\n",
              "      <th>5</th>\n",
              "      <td>5</td>\n",
              "      <td>4</td>\n",
              "      <td>8</td>\n",
              "      <td>750</td>\n",
              "      <td>97500</td>\n",
              "    </tr>\n",
              "    <tr>\n",
              "      <th>6</th>\n",
              "      <td>6</td>\n",
              "      <td>13</td>\n",
              "      <td>7</td>\n",
              "      <td>455</td>\n",
              "      <td>105000</td>\n",
              "    </tr>\n",
              "    <tr>\n",
              "      <th>7</th>\n",
              "      <td>7</td>\n",
              "      <td>4</td>\n",
              "      <td>6</td>\n",
              "      <td>3000</td>\n",
              "      <td>225000</td>\n",
              "    </tr>\n",
              "    <tr>\n",
              "      <th>8</th>\n",
              "      <td>8</td>\n",
              "      <td>12</td>\n",
              "      <td>6</td>\n",
              "      <td>1400</td>\n",
              "      <td>300000</td>\n",
              "    </tr>\n",
              "    <tr>\n",
              "      <th>9</th>\n",
              "      <td>9</td>\n",
              "      <td>4</td>\n",
              "      <td>4</td>\n",
              "      <td>2250</td>\n",
              "      <td>200000</td>\n",
              "    </tr>\n",
              "  </tbody>\n",
              "</table>\n",
              "</div>\n",
              "      <button class=\"colab-df-convert\" onclick=\"convertToInteractive('df-83e0664d-d524-452c-8a3c-7e3ac99bbe0f')\"\n",
              "              title=\"Convert this dataframe to an interactive table.\"\n",
              "              style=\"display:none;\">\n",
              "        \n",
              "  <svg xmlns=\"http://www.w3.org/2000/svg\" height=\"24px\"viewBox=\"0 0 24 24\"\n",
              "       width=\"24px\">\n",
              "    <path d=\"M0 0h24v24H0V0z\" fill=\"none\"/>\n",
              "    <path d=\"M18.56 5.44l.94 2.06.94-2.06 2.06-.94-2.06-.94-.94-2.06-.94 2.06-2.06.94zm-11 1L8.5 8.5l.94-2.06 2.06-.94-2.06-.94L8.5 2.5l-.94 2.06-2.06.94zm10 10l.94 2.06.94-2.06 2.06-.94-2.06-.94-.94-2.06-.94 2.06-2.06.94z\"/><path d=\"M17.41 7.96l-1.37-1.37c-.4-.4-.92-.59-1.43-.59-.52 0-1.04.2-1.43.59L10.3 9.45l-7.72 7.72c-.78.78-.78 2.05 0 2.83L4 21.41c.39.39.9.59 1.41.59.51 0 1.02-.2 1.41-.59l7.78-7.78 2.81-2.81c.8-.78.8-2.07 0-2.86zM5.41 20L4 18.59l7.72-7.72 1.47 1.35L5.41 20z\"/>\n",
              "  </svg>\n",
              "      </button>\n",
              "      \n",
              "  <style>\n",
              "    .colab-df-container {\n",
              "      display:flex;\n",
              "      flex-wrap:wrap;\n",
              "      gap: 12px;\n",
              "    }\n",
              "\n",
              "    .colab-df-convert {\n",
              "      background-color: #E8F0FE;\n",
              "      border: none;\n",
              "      border-radius: 50%;\n",
              "      cursor: pointer;\n",
              "      display: none;\n",
              "      fill: #1967D2;\n",
              "      height: 32px;\n",
              "      padding: 0 0 0 0;\n",
              "      width: 32px;\n",
              "    }\n",
              "\n",
              "    .colab-df-convert:hover {\n",
              "      background-color: #E2EBFA;\n",
              "      box-shadow: 0px 1px 2px rgba(60, 64, 67, 0.3), 0px 1px 3px 1px rgba(60, 64, 67, 0.15);\n",
              "      fill: #174EA6;\n",
              "    }\n",
              "\n",
              "    [theme=dark] .colab-df-convert {\n",
              "      background-color: #3B4455;\n",
              "      fill: #D2E3FC;\n",
              "    }\n",
              "\n",
              "    [theme=dark] .colab-df-convert:hover {\n",
              "      background-color: #434B5C;\n",
              "      box-shadow: 0px 1px 3px 1px rgba(0, 0, 0, 0.15);\n",
              "      filter: drop-shadow(0px 1px 2px rgba(0, 0, 0, 0.3));\n",
              "      fill: #FFFFFF;\n",
              "    }\n",
              "  </style>\n",
              "\n",
              "      <script>\n",
              "        const buttonEl =\n",
              "          document.querySelector('#df-83e0664d-d524-452c-8a3c-7e3ac99bbe0f button.colab-df-convert');\n",
              "        buttonEl.style.display =\n",
              "          google.colab.kernel.accessAllowed ? 'block' : 'none';\n",
              "\n",
              "        async function convertToInteractive(key) {\n",
              "          const element = document.querySelector('#df-83e0664d-d524-452c-8a3c-7e3ac99bbe0f');\n",
              "          const dataTable =\n",
              "            await google.colab.kernel.invokeFunction('convertToInteractive',\n",
              "                                                     [key], {});\n",
              "          if (!dataTable) return;\n",
              "\n",
              "          const docLinkHtml = 'Like what you see? Visit the ' +\n",
              "            '<a target=\"_blank\" href=https://colab.research.google.com/notebooks/data_table.ipynb>data table notebook</a>'\n",
              "            + ' to learn more about interactive tables.';\n",
              "          element.innerHTML = '';\n",
              "          dataTable['output_type'] = 'display_data';\n",
              "          await google.colab.output.renderOutput(dataTable, element);\n",
              "          const docLink = document.createElement('div');\n",
              "          docLink.innerHTML = docLinkHtml;\n",
              "          element.appendChild(docLink);\n",
              "        }\n",
              "      </script>\n",
              "    </div>\n",
              "  </div>\n",
              "  "
            ]
          },
          "metadata": {},
          "execution_count": 12
        }
      ]
    },
    {
      "cell_type": "markdown",
      "metadata": {
        "id": "798a67ee"
      },
      "source": [
        "## Indexmengen"
      ]
    },
    {
      "cell_type": "code",
      "source": [
        "# S = Menge der Standorte\n",
        "S = standorte[\"Potenzielle_Standorte\"].unique().tolist() \n"
      ],
      "metadata": {
        "id": "ep4tx586Ze_f"
      },
      "execution_count": 13,
      "outputs": []
    },
    {
      "cell_type": "code",
      "source": [
        "# Ausgabe Standorte\n",
        "S"
      ],
      "metadata": {
        "colab": {
          "base_uri": "https://localhost:8080/"
        },
        "id": "pDxFDY0PElOz",
        "outputId": "57b436f7-95bd-4d6a-b443-0565cf93b898"
      },
      "execution_count": 14,
      "outputs": [
        {
          "output_type": "execute_result",
          "data": {
            "text/plain": [
              "[0, 1, 2, 3, 4, 5, 6, 7, 8, 9]"
            ]
          },
          "metadata": {},
          "execution_count": 14
        }
      ]
    },
    {
      "cell_type": "code",
      "source": [
        "# I-Kooritnaten\n",
        "I = [key for key, value in nachfrage.items()]\n",
        "\n",
        "# Ausgabe I-Koordinaten\n",
        "print('I-Koordinaten: ' + str(I))"
      ],
      "metadata": {
        "id": "IxhGizoPNrPB",
        "colab": {
          "base_uri": "https://localhost:8080/"
        },
        "outputId": "2e194d6a-89db-4684-a539-1d248d55d082"
      },
      "execution_count": 15,
      "outputs": [
        {
          "output_type": "stream",
          "name": "stdout",
          "text": [
            "I-Koordinaten: [0, 1, 2, 3, 4, 5, 6, 7, 8, 9, 10, 11, 12]\n"
          ]
        }
      ]
    },
    {
      "cell_type": "code",
      "source": [
        "# J-Koordinaten\n",
        "J = [list(value.keys()) for value in nachfrage.values()][0]\n",
        "\n",
        "# Ausgabe I-Kooridnaten\n",
        "print('J-Koordinaten: ' + str(J))\n"
      ],
      "metadata": {
        "colab": {
          "base_uri": "https://localhost:8080/"
        },
        "id": "O-IqlIEgkS49",
        "outputId": "26e29822-c28e-471d-d0a4-938707070de6"
      },
      "execution_count": 16,
      "outputs": [
        {
          "output_type": "stream",
          "name": "stdout",
          "text": [
            "J-Koordinaten: [0, 1, 2, 3, 4, 5, 6, 7, 8, 9, 10, 11, 12]\n"
          ]
        }
      ]
    },
    {
      "cell_type": "markdown",
      "metadata": {
        "id": "b99b4ca0"
      },
      "source": [
        "## Parameter"
      ]
    },
    {
      "cell_type": "code",
      "source": [
        "# Standortkoordinaten\n",
        "\n",
        "# I-Koordinate von Standort S\n",
        "ki = standorte.set_index([\"Potenzielle_Standorte\"]).to_dict(\"dict\")[\"i_Koordinate\"]\n",
        "\n",
        "# J-Koordinate von Standort S\n",
        "kj = standorte.set_index([\"Potenzielle_Standorte\"]).to_dict(\"dict\")[\"j_Koordinate\"]\n",
        "\n",
        "# check\n",
        "print(ki)\n",
        "\n",
        "print(kj)"
      ],
      "metadata": {
        "id": "LnaXtWEACWoU",
        "colab": {
          "base_uri": "https://localhost:8080/"
        },
        "outputId": "db2cf320-ba23-4a1d-819d-62a46441bb4f"
      },
      "execution_count": 17,
      "outputs": [
        {
          "output_type": "stream",
          "name": "stdout",
          "text": [
            "{0: 1, 1: 8, 2: 10, 3: 10, 4: 13, 5: 4, 6: 13, 7: 4, 8: 12, 9: 4}\n",
            "{0: 0, 1: 11, 2: 4, 3: 10, 4: 6, 5: 8, 6: 7, 7: 6, 8: 6, 9: 4}\n"
          ]
        }
      ]
    },
    {
      "cell_type": "code",
      "source": [
        "# Umschlagsleistung\n",
        "u = standorte.set_index([\"Potenzielle_Standorte\"]).to_dict(\"dict\")[\"Lagerumschlagleistung\"]\n",
        "\n",
        "#check\n",
        "u\n"
      ],
      "metadata": {
        "id": "-k__H4DlP84P",
        "colab": {
          "base_uri": "https://localhost:8080/"
        },
        "outputId": "079dc4ce-37ea-474d-ffc6-0437459a7ce8"
      },
      "execution_count": 18,
      "outputs": [
        {
          "output_type": "execute_result",
          "data": {
            "text/plain": [
              "{0: 500,\n",
              " 1: 600,\n",
              " 2: 500,\n",
              " 3: 750,\n",
              " 4: 725,\n",
              " 5: 750,\n",
              " 6: 455,\n",
              " 7: 3000,\n",
              " 8: 1400,\n",
              " 9: 2250}"
            ]
          },
          "metadata": {},
          "execution_count": 18
        }
      ]
    },
    {
      "cell_type": "code",
      "source": [
        "# Errichtungskosten\n",
        "c = standorte.set_index([\"Potenzielle_Standorte\"]).to_dict(\"dict\")[\"Errichtungskosten\"]\n",
        "\n",
        "#check\n",
        "c"
      ],
      "metadata": {
        "colab": {
          "base_uri": "https://localhost:8080/"
        },
        "id": "Wqn1TBOqx2y1",
        "outputId": "f0cbcec7-2b2c-4ce3-cd7d-913c7c138110"
      },
      "execution_count": 19,
      "outputs": [
        {
          "output_type": "execute_result",
          "data": {
            "text/plain": [
              "{0: 100000,\n",
              " 1: 90000,\n",
              " 2: 95000,\n",
              " 3: 101000,\n",
              " 4: 98500,\n",
              " 5: 97500,\n",
              " 6: 105000,\n",
              " 7: 225000,\n",
              " 8: 300000,\n",
              " 9: 200000}"
            ]
          },
          "metadata": {},
          "execution_count": 19
        }
      ]
    },
    {
      "cell_type": "code",
      "source": [
        "# Nachfrage\n",
        "n = nachfrage\n",
        "\n",
        "#check\n",
        "n[0][0]"
      ],
      "metadata": {
        "id": "QvTVt7VaD1fC",
        "colab": {
          "base_uri": "https://localhost:8080/"
        },
        "outputId": "fe831997-20f9-4234-b8bc-b8196dca7793"
      },
      "execution_count": 20,
      "outputs": [
        {
          "output_type": "execute_result",
          "data": {
            "text/plain": [
              "7"
            ]
          },
          "metadata": {},
          "execution_count": 20
        }
      ]
    },
    {
      "cell_type": "markdown",
      "metadata": {
        "id": "d1f9cf18"
      },
      "source": [
        "## Entscheidungsvariablen"
      ]
    },
    {
      "cell_type": "code",
      "source": [
        "# Binäre Versorgungsvariable\n",
        "V={}\n",
        "for s in S: \n",
        "  for i in I:\n",
        "    for j in J:\n",
        "        V[s,i,j] = solver.BoolVar(f\"{s},{i},{j}\")\n",
        "\n",
        "#check\n",
        "V[1,3,7]"
      ],
      "metadata": {
        "colab": {
          "base_uri": "https://localhost:8080/"
        },
        "id": "nxCunJ1Tv47J",
        "outputId": "ebdede2a-7462-4365-8c54-87b935bef1da"
      },
      "execution_count": 21,
      "outputs": [
        {
          "output_type": "execute_result",
          "data": {
            "text/plain": [
              "1,3,7"
            ]
          },
          "metadata": {},
          "execution_count": 21
        }
      ]
    },
    {
      "cell_type": "code",
      "source": [
        "# Binäre Standortausbauvariable\n",
        "Y={}\n",
        "for s in S:\n",
        "  Y[s] = solver.BoolVar(f\"{s}\")\n",
        "\n",
        "\n",
        "#check\n",
        "Y[1]"
      ],
      "metadata": {
        "colab": {
          "base_uri": "https://localhost:8080/"
        },
        "id": "6IkKpEdN1FrJ",
        "outputId": "e5a9b2a6-2e4a-469c-c6a0-e208b22c029e"
      },
      "execution_count": 22,
      "outputs": [
        {
          "output_type": "execute_result",
          "data": {
            "text/plain": [
              "1"
            ]
          },
          "metadata": {},
          "execution_count": 22
        }
      ]
    },
    {
      "cell_type": "code",
      "source": [
        "print('Anzahl Entscheidungsvariablen =', solver.NumVariables())"
      ],
      "metadata": {
        "id": "hN6GY-5YBA9Y",
        "colab": {
          "base_uri": "https://localhost:8080/"
        },
        "outputId": "49524ff6-3f00-4012-db1d-6377ef36fd32"
      },
      "execution_count": 23,
      "outputs": [
        {
          "output_type": "stream",
          "name": "stdout",
          "text": [
            "Anzahl Entscheidungsvariablen = 1700\n"
          ]
        }
      ]
    },
    {
      "cell_type": "markdown",
      "metadata": {
        "id": "c9eede10"
      },
      "source": [
        "## Zielfunktion"
      ]
    },
    {
      "cell_type": "markdown",
      "source": [
        "\n",
        "# neue Zielfunktion\n",
        "\n",
        "Maximiere Nachfrageabdeckung:\n",
        "\n",
        "Max $NA = \\sum_{s,i,j} (V_{s,i,j} * n_{i,j})$   \n",
        "\n"
      ],
      "metadata": {
        "id": "Wyzj6VKG2Btf"
      }
    },
    {
      "cell_type": "code",
      "source": [
        "\n",
        "solver.Maximize(\n",
        "      sum(V[s,i,j]* n[i][j] for s in S for i in I for j in J)     \n",
        "  )\n",
        "\n"
      ],
      "metadata": {
        "id": "uGdGI2sr2Dyh"
      },
      "execution_count": 24,
      "outputs": []
    },
    {
      "cell_type": "markdown",
      "metadata": {
        "id": "a8534816"
      },
      "source": [
        "## Nebenbedingungen"
      ]
    },
    {
      "cell_type": "markdown",
      "source": [
        "**(1) Budget einhalten**\n",
        "\n",
        "$\\sum_{s} (c_s*Y_s) \\le 1.000.000 $\n",
        "\n",
        "Summe über: \n",
        "\n",
        "Kosten  für Ausbau * Entscheidung Ausbau <= Budget"
      ],
      "metadata": {
        "id": "0408vUQT7v3r"
      }
    },
    {
      "cell_type": "code",
      "source": [
        "\n",
        "solver.Add(sum(c[s]*Y[s] for s in S)<= 1000000)\n",
        " "
      ],
      "metadata": {
        "id": "0q4H4wEGh3zw",
        "outputId": "0707afeb-0b46-44e6-b60d-9ab9801408f9",
        "colab": {
          "base_uri": "https://localhost:8080/"
        }
      },
      "execution_count": 25,
      "outputs": [
        {
          "output_type": "execute_result",
          "data": {
            "text/plain": [
              "<ortools.linear_solver.pywraplp.Constraint; proxy of <Swig Object of type 'operations_research::MPConstraint *' at 0x7f6e97addf90> >"
            ]
          },
          "metadata": {},
          "execution_count": 25
        }
      ]
    },
    {
      "cell_type": "markdown",
      "source": [
        "**(2) Lieferzeit einhalten Erweiterung**\n",
        "\n",
        "$ Lieferzeit = (|ki_s - i| + |kj_s - j|)* V_{s,i,j} $\n",
        "\n",
        "$∀ s,i,j$\n",
        "\n",
        "#### Lieferzeit 10 min (3 min einfache Fahrtzeit) entspricht 5 Quadranten\n",
        "$Lieferzeit\\le 5 $\n",
        "#### Lieferzeit 20 min (8 min einfache Fahrtzeit) entspricht 13.33 Quadranten\n",
        "$Lieferzeit\\le 13 $\n",
        "\n",
        "#### Lieferzeit 30 (13 min einfache Fahrtzeit) min entspricht 21.66 Quadranten\n",
        "$Lieferzeit\\le 21 $\n",
        "\n",
        "\n",
        "\n"
      ],
      "metadata": {
        "id": "fuLDgmy67v3s"
      }
    },
    {
      "cell_type": "code",
      "source": [
        "# 20 min Lieferzeit: max_entfernung = 13\n",
        "# 30 min Lieferzeit: max_entfernung = 21\n",
        "\n",
        "max_entfernung = 13"
      ],
      "metadata": {
        "id": "f_a8Il1Fy4Zz"
      },
      "execution_count": 26,
      "outputs": []
    },
    {
      "cell_type": "code",
      "source": [
        "for s in S:\n",
        " for i in I:\n",
        "    for j in J:\n",
        "      solver.Add((abs(ki[s]-i) +abs(kj[s]- j))*V[s,i,j]<=int(max_entfernung))\n"
      ],
      "metadata": {
        "id": "Fjwkcnd484bd"
      },
      "execution_count": 27,
      "outputs": []
    },
    {
      "cell_type": "markdown",
      "source": [
        "**(3) Keine Doppelbedienung der Quandranden**\n",
        "\n",
        "$\\sum_s V_{s,i,j} \\le 1$\n",
        "\n",
        "$∀ i, j$\n",
        "\n",
        "Prüfe für alle Koordinaten, ob Belieferung kleiner gleich 1."
      ],
      "metadata": {
        "id": "Fv9tpzwZ7v3s"
      }
    },
    {
      "cell_type": "code",
      "source": [
        "for i in I:\n",
        "  for j in J:\n",
        "    solver.Add(sum(V[s,i,j] for s in S)<=1)"
      ],
      "metadata": {
        "id": "zPGlBe1UCEsj"
      },
      "execution_count": 28,
      "outputs": []
    },
    {
      "cell_type": "markdown",
      "source": [
        "**(4) Kapazitäten einhalten**\n",
        "\n",
        "$\\sum (V_{s,i,j}* n_{i,j}) \\le u_s *Y_s $\n",
        "\n",
        "$∀ s$\n",
        "\n",
        "Prüfe für jeden Standort:\n",
        "\n",
        "Summe Versorgung (ja/nein) * Nachfrage  ist kleiner (gleich) als Umschlagsleistung. "
      ],
      "metadata": {
        "id": "BjAQOOOU7v3s"
      }
    },
    {
      "cell_type": "code",
      "source": [
        "for s in S:\n",
        "  solver.Add(sum(V[s,i,j]*n[i][j] for i in I for j in J)<= (u[s]* Y[s]))\n"
      ],
      "metadata": {
        "id": "mRoL1ZRDHIee"
      },
      "execution_count": 29,
      "outputs": []
    },
    {
      "cell_type": "markdown",
      "metadata": {
        "id": "9a459618"
      },
      "source": [
        "## Berechnung Lösung"
      ]
    },
    {
      "cell_type": "code",
      "execution_count": 30,
      "metadata": {
        "id": "b9005832",
        "colab": {
          "base_uri": "https://localhost:8080/"
        },
        "outputId": "64fbf98b-1eae-4931-cdc3-d1c92f74c494"
      },
      "outputs": [
        {
          "output_type": "stream",
          "name": "stdout",
          "text": [
            "LÖSUNG:\n",
            "Zielfunktionswert (Nachfrageabdeckung) = 8575.0\n"
          ]
        }
      ],
      "source": [
        "status = solver.Solve()\n",
        "\n",
        "if status == pywraplp.Solver.OPTIMAL:\n",
        "  print('LÖSUNG:')\n",
        "  print('Zielfunktionswert (Nachfrageabdeckung) =', solver.Objective().Value())\n",
        "else:\n",
        "  print('Problem hat keine Lösung')"
      ]
    },
    {
      "cell_type": "markdown",
      "source": [
        "### Ausgabe Standortausbau"
      ],
      "metadata": {
        "id": "rQYIf44XVs_I"
      }
    },
    {
      "cell_type": "code",
      "source": [
        "for s in S:\n",
        "  if(Y[s].solution_value()==1):\n",
        "    print(\"Wir bauen Standort \" + str(s) + \" aus.\")"
      ],
      "metadata": {
        "id": "lprHv6RvVv3I",
        "outputId": "d7b31324-2c9f-4b06-cf8d-5397a40082c9",
        "colab": {
          "base_uri": "https://localhost:8080/"
        }
      },
      "execution_count": 31,
      "outputs": [
        {
          "output_type": "stream",
          "name": "stdout",
          "text": [
            "Wir bauen Standort 0 aus.\n",
            "Wir bauen Standort 1 aus.\n",
            "Wir bauen Standort 3 aus.\n",
            "Wir bauen Standort 4 aus.\n",
            "Wir bauen Standort 5 aus.\n",
            "Wir bauen Standort 7 aus.\n",
            "Wir bauen Standort 9 aus.\n"
          ]
        }
      ]
    },
    {
      "cell_type": "markdown",
      "source": [
        "### Ausgabe Ausbaukosten"
      ],
      "metadata": {
        "id": "K30LSzAbWaOj"
      }
    },
    {
      "cell_type": "code",
      "source": [
        "cost = 0\n",
        "\n",
        "for s in S:\n",
        "  if(Y[s].solution_value()==1):\n",
        "    cost = c[s] + cost\n",
        "\n",
        "print(\"Unsere Ausbaukosten liegen insgesamt bei \" + str(cost) + \"€.\")"
      ],
      "metadata": {
        "id": "v2h9ynp5WcwA",
        "outputId": "5bb858ec-2d14-492e-91d8-d0183b40f010",
        "colab": {
          "base_uri": "https://localhost:8080/"
        }
      },
      "execution_count": 35,
      "outputs": [
        {
          "output_type": "stream",
          "name": "stdout",
          "text": [
            "Unsere Ausbaukosten liegen insgesamt bei 912000€.\n"
          ]
        }
      ]
    },
    {
      "cell_type": "markdown",
      "source": [
        "### Belieferungsplan "
      ],
      "metadata": {
        "id": "g8kpCfDaWp6J"
      }
    },
    {
      "cell_type": "code",
      "source": [
        "na= 0\n",
        "\n",
        "for s in S:\n",
        "  if( Y[s].solution_value()==1):\n",
        "    print(\"\")\n",
        "    print(\"\")\n",
        "    print(\"Belieferung durch Standort \" + str(s) +\":\")\n",
        "    print(\"\")\n",
        "    na_s = 0\n",
        "    for i in I:\n",
        "      for j in J:\n",
        "        if(V[s,i,j].solution_value()==1):\n",
        "          abstand= (abs(ki[s]-i) +abs(kj[s]- j))\n",
        "          print(\"Quadrand: \" +str(i) + \"/\" +str(j) + \" Abstand: \" + str(abstand) + \" Nachfrageabdeckung: \" + str(n[i][j]))\n",
        "          na_s += n[i][j]\n",
        "    print(\"\")\n",
        "    print(\"Kapazität am Standort: \" + str(u[s]))\n",
        "    print(\"Nachfrageabdeckung durch Standort: \" + str(na_s))\n",
        "    na += na_s\n",
        "\n",
        "print(\"\")\n",
        "print(\"Nachfrageabdeckung insgesamt: \" +str(na))\n",
        "\n",
        "          "
      ],
      "metadata": {
        "id": "glUmONH6WzbQ",
        "outputId": "e14902a4-7046-4d63-a220-d85fb6b6bf5b",
        "colab": {
          "base_uri": "https://localhost:8080/"
        }
      },
      "execution_count": 33,
      "outputs": [
        {
          "output_type": "stream",
          "name": "stdout",
          "text": [
            "\n",
            "\n",
            "Belieferung durch Standort 0:\n",
            "\n",
            "Quadrand: 1/2 Abstand: 2 Nachfrageabdeckung: 76\n",
            "Quadrand: 1/5 Abstand: 5 Nachfrageabdeckung: 42\n",
            "Quadrand: 1/12 Abstand: 12 Nachfrageabdeckung: 67\n",
            "Quadrand: 2/0 Abstand: 1 Nachfrageabdeckung: 85\n",
            "Quadrand: 3/9 Abstand: 11 Nachfrageabdeckung: 68\n",
            "Quadrand: 5/1 Abstand: 5 Nachfrageabdeckung: 71\n",
            "Quadrand: 5/6 Abstand: 10 Nachfrageabdeckung: 86\n",
            "Quadrand: 6/6 Abstand: 11 Nachfrageabdeckung: 5\n",
            "\n",
            "Nachfrageabdeckung durch Standort: 500\n",
            "\n",
            "\n",
            "Belieferung durch Standort 1:\n",
            "\n",
            "Quadrand: 0/7 Abstand: 12 Nachfrageabdeckung: 51\n",
            "Quadrand: 2/7 Abstand: 10 Nachfrageabdeckung: 32\n",
            "Quadrand: 4/5 Abstand: 10 Nachfrageabdeckung: 31\n",
            "Quadrand: 4/8 Abstand: 7 Nachfrageabdeckung: 27\n",
            "Quadrand: 5/12 Abstand: 4 Nachfrageabdeckung: 17\n",
            "Quadrand: 6/7 Abstand: 6 Nachfrageabdeckung: 73\n",
            "Quadrand: 6/11 Abstand: 2 Nachfrageabdeckung: 2\n",
            "Quadrand: 7/4 Abstand: 8 Nachfrageabdeckung: 69\n",
            "Quadrand: 7/6 Abstand: 6 Nachfrageabdeckung: 32\n",
            "Quadrand: 8/5 Abstand: 6 Nachfrageabdeckung: 26\n",
            "Quadrand: 9/10 Abstand: 2 Nachfrageabdeckung: 32\n",
            "Quadrand: 10/2 Abstand: 11 Nachfrageabdeckung: 21\n",
            "Quadrand: 10/9 Abstand: 4 Nachfrageabdeckung: 25\n",
            "Quadrand: 11/3 Abstand: 11 Nachfrageabdeckung: 32\n",
            "Quadrand: 11/4 Abstand: 10 Nachfrageabdeckung: 25\n",
            "Quadrand: 11/12 Abstand: 4 Nachfrageabdeckung: 24\n",
            "Quadrand: 12/7 Abstand: 8 Nachfrageabdeckung: 66\n",
            "Quadrand: 12/10 Abstand: 5 Nachfrageabdeckung: 15\n",
            "\n",
            "Nachfrageabdeckung durch Standort: 600\n",
            "\n",
            "\n",
            "Belieferung durch Standort 3:\n",
            "\n",
            "Quadrand: 3/7 Abstand: 10 Nachfrageabdeckung: 85\n",
            "Quadrand: 5/5 Abstand: 10 Nachfrageabdeckung: 45\n",
            "Quadrand: 5/7 Abstand: 8 Nachfrageabdeckung: 95\n",
            "Quadrand: 6/8 Abstand: 6 Nachfrageabdeckung: 44\n",
            "Quadrand: 7/3 Abstand: 10 Nachfrageabdeckung: 1\n",
            "Quadrand: 7/8 Abstand: 5 Nachfrageabdeckung: 61\n",
            "Quadrand: 8/1 Abstand: 11 Nachfrageabdeckung: 49\n",
            "Quadrand: 8/2 Abstand: 10 Nachfrageabdeckung: 1\n",
            "Quadrand: 8/6 Abstand: 6 Nachfrageabdeckung: 62\n",
            "Quadrand: 9/3 Abstand: 8 Nachfrageabdeckung: 77\n",
            "Quadrand: 10/0 Abstand: 10 Nachfrageabdeckung: 56\n",
            "Quadrand: 11/10 Abstand: 1 Nachfrageabdeckung: 28\n",
            "Quadrand: 12/0 Abstand: 12 Nachfrageabdeckung: 13\n",
            "Quadrand: 12/4 Abstand: 8 Nachfrageabdeckung: 61\n",
            "Quadrand: 12/11 Abstand: 3 Nachfrageabdeckung: 72\n",
            "\n",
            "Nachfrageabdeckung durch Standort: 750\n",
            "\n",
            "\n",
            "Belieferung durch Standort 4:\n",
            "\n",
            "Quadrand: 0/6 Abstand: 13 Nachfrageabdeckung: 43\n",
            "Quadrand: 1/6 Abstand: 12 Nachfrageabdeckung: 83\n",
            "Quadrand: 2/6 Abstand: 11 Nachfrageabdeckung: 41\n",
            "Quadrand: 3/3 Abstand: 13 Nachfrageabdeckung: 56\n",
            "Quadrand: 3/8 Abstand: 12 Nachfrageabdeckung: 90\n",
            "Quadrand: 4/7 Abstand: 10 Nachfrageabdeckung: 54\n",
            "Quadrand: 8/4 Abstand: 7 Nachfrageabdeckung: 86\n",
            "Quadrand: 8/11 Abstand: 10 Nachfrageabdeckung: 20\n",
            "Quadrand: 9/9 Abstand: 7 Nachfrageabdeckung: 64\n",
            "Quadrand: 9/12 Abstand: 10 Nachfrageabdeckung: 63\n",
            "Quadrand: 10/5 Abstand: 4 Nachfrageabdeckung: 60\n",
            "Quadrand: 11/11 Abstand: 7 Nachfrageabdeckung: 65\n",
            "\n",
            "Nachfrageabdeckung durch Standort: 725\n",
            "\n",
            "\n",
            "Belieferung durch Standort 5:\n",
            "\n",
            "Quadrand: 0/11 Abstand: 7 Nachfrageabdeckung: 74\n",
            "Quadrand: 2/1 Abstand: 9 Nachfrageabdeckung: 57\n",
            "Quadrand: 3/4 Abstand: 5 Nachfrageabdeckung: 15\n",
            "Quadrand: 5/4 Abstand: 5 Nachfrageabdeckung: 62\n",
            "Quadrand: 5/10 Abstand: 3 Nachfrageabdeckung: 83\n",
            "Quadrand: 6/10 Abstand: 4 Nachfrageabdeckung: 94\n",
            "Quadrand: 6/12 Abstand: 6 Nachfrageabdeckung: 56\n",
            "Quadrand: 7/0 Abstand: 11 Nachfrageabdeckung: 61\n",
            "Quadrand: 7/7 Abstand: 4 Nachfrageabdeckung: 95\n",
            "Quadrand: 8/3 Abstand: 9 Nachfrageabdeckung: 70\n",
            "Quadrand: 12/12 Abstand: 12 Nachfrageabdeckung: 83\n",
            "\n",
            "Nachfrageabdeckung durch Standort: 750\n",
            "\n",
            "\n",
            "Belieferung durch Standort 7:\n",
            "\n",
            "Quadrand: 0/3 Abstand: 7 Nachfrageabdeckung: 77\n",
            "Quadrand: 0/4 Abstand: 6 Nachfrageabdeckung: 33\n",
            "Quadrand: 1/0 Abstand: 9 Nachfrageabdeckung: 73\n",
            "Quadrand: 1/1 Abstand: 8 Nachfrageabdeckung: 82\n",
            "Quadrand: 1/3 Abstand: 6 Nachfrageabdeckung: 51\n",
            "Quadrand: 1/4 Abstand: 5 Nachfrageabdeckung: 80\n",
            "Quadrand: 1/9 Abstand: 6 Nachfrageabdeckung: 37\n",
            "Quadrand: 1/10 Abstand: 7 Nachfrageabdeckung: 85\n",
            "Quadrand: 2/5 Abstand: 3 Nachfrageabdeckung: 92\n",
            "Quadrand: 2/8 Abstand: 4 Nachfrageabdeckung: 16\n",
            "Quadrand: 2/10 Abstand: 6 Nachfrageabdeckung: 65\n",
            "Quadrand: 3/10 Abstand: 5 Nachfrageabdeckung: 9\n",
            "Quadrand: 3/12 Abstand: 7 Nachfrageabdeckung: 88\n",
            "Quadrand: 4/3 Abstand: 3 Nachfrageabdeckung: 65\n",
            "Quadrand: 4/4 Abstand: 2 Nachfrageabdeckung: 96\n",
            "Quadrand: 4/9 Abstand: 3 Nachfrageabdeckung: 74\n",
            "Quadrand: 4/11 Abstand: 5 Nachfrageabdeckung: 70\n",
            "Quadrand: 5/8 Abstand: 3 Nachfrageabdeckung: 93\n",
            "Quadrand: 5/11 Abstand: 6 Nachfrageabdeckung: 59\n",
            "Quadrand: 6/0 Abstand: 8 Nachfrageabdeckung: 31\n",
            "Quadrand: 6/2 Abstand: 6 Nachfrageabdeckung: 54\n",
            "Quadrand: 6/4 Abstand: 4 Nachfrageabdeckung: 97\n",
            "Quadrand: 6/5 Abstand: 3 Nachfrageabdeckung: 73\n",
            "Quadrand: 6/9 Abstand: 5 Nachfrageabdeckung: 93\n",
            "Quadrand: 7/1 Abstand: 8 Nachfrageabdeckung: 44\n",
            "Quadrand: 7/2 Abstand: 7 Nachfrageabdeckung: 86\n",
            "Quadrand: 7/5 Abstand: 4 Nachfrageabdeckung: 65\n",
            "Quadrand: 7/9 Abstand: 6 Nachfrageabdeckung: 39\n",
            "Quadrand: 7/11 Abstand: 8 Nachfrageabdeckung: 61\n",
            "Quadrand: 7/12 Abstand: 9 Nachfrageabdeckung: 31\n",
            "Quadrand: 8/0 Abstand: 10 Nachfrageabdeckung: 59\n",
            "Quadrand: 8/8 Abstand: 6 Nachfrageabdeckung: 96\n",
            "Quadrand: 8/12 Abstand: 10 Nachfrageabdeckung: 83\n",
            "Quadrand: 9/6 Abstand: 5 Nachfrageabdeckung: 34\n",
            "Quadrand: 9/8 Abstand: 7 Nachfrageabdeckung: 96\n",
            "Quadrand: 10/3 Abstand: 9 Nachfrageabdeckung: 89\n",
            "Quadrand: 10/7 Abstand: 7 Nachfrageabdeckung: 21\n",
            "Quadrand: 10/8 Abstand: 8 Nachfrageabdeckung: 65\n",
            "Quadrand: 10/10 Abstand: 10 Nachfrageabdeckung: 68\n",
            "Quadrand: 10/11 Abstand: 11 Nachfrageabdeckung: 73\n",
            "Quadrand: 10/12 Abstand: 12 Nachfrageabdeckung: 43\n",
            "Quadrand: 11/0 Abstand: 13 Nachfrageabdeckung: 35\n",
            "Quadrand: 11/1 Abstand: 12 Nachfrageabdeckung: 91\n",
            "Quadrand: 11/2 Abstand: 11 Nachfrageabdeckung: 9\n",
            "Quadrand: 11/5 Abstand: 8 Nachfrageabdeckung: 86\n",
            "Quadrand: 11/6 Abstand: 7 Nachfrageabdeckung: 41\n",
            "Quadrand: 11/7 Abstand: 8 Nachfrageabdeckung: 41\n",
            "Quadrand: 11/9 Abstand: 10 Nachfrageabdeckung: 4\n",
            "Quadrand: 12/5 Abstand: 9 Nachfrageabdeckung: 37\n",
            "Quadrand: 12/8 Abstand: 10 Nachfrageabdeckung: 10\n",
            "\n",
            "Nachfrageabdeckung durch Standort: 3000\n",
            "\n",
            "\n",
            "Belieferung durch Standort 9:\n",
            "\n",
            "Quadrand: 0/0 Abstand: 8 Nachfrageabdeckung: 7\n",
            "Quadrand: 0/1 Abstand: 7 Nachfrageabdeckung: 91\n",
            "Quadrand: 0/2 Abstand: 6 Nachfrageabdeckung: 34\n",
            "Quadrand: 0/5 Abstand: 5 Nachfrageabdeckung: 47\n",
            "Quadrand: 0/8 Abstand: 8 Nachfrageabdeckung: 81\n",
            "Quadrand: 0/9 Abstand: 9 Nachfrageabdeckung: 28\n",
            "Quadrand: 0/10 Abstand: 10 Nachfrageabdeckung: 88\n",
            "Quadrand: 0/12 Abstand: 12 Nachfrageabdeckung: 81\n",
            "Quadrand: 1/7 Abstand: 6 Nachfrageabdeckung: 19\n",
            "Quadrand: 1/8 Abstand: 7 Nachfrageabdeckung: 37\n",
            "Quadrand: 1/11 Abstand: 10 Nachfrageabdeckung: 18\n",
            "Quadrand: 2/2 Abstand: 4 Nachfrageabdeckung: 67\n",
            "Quadrand: 2/3 Abstand: 3 Nachfrageabdeckung: 14\n",
            "Quadrand: 2/4 Abstand: 2 Nachfrageabdeckung: 1\n",
            "Quadrand: 2/9 Abstand: 7 Nachfrageabdeckung: 83\n",
            "Quadrand: 2/11 Abstand: 9 Nachfrageabdeckung: 39\n",
            "Quadrand: 2/12 Abstand: 10 Nachfrageabdeckung: 18\n",
            "Quadrand: 3/0 Abstand: 5 Nachfrageabdeckung: 42\n",
            "Quadrand: 3/1 Abstand: 4 Nachfrageabdeckung: 87\n",
            "Quadrand: 3/2 Abstand: 3 Nachfrageabdeckung: 23\n",
            "Quadrand: 3/5 Abstand: 2 Nachfrageabdeckung: 99\n",
            "Quadrand: 3/6 Abstand: 3 Nachfrageabdeckung: 60\n",
            "Quadrand: 3/11 Abstand: 8 Nachfrageabdeckung: 63\n",
            "Quadrand: 4/1 Abstand: 3 Nachfrageabdeckung: 93\n",
            "Quadrand: 4/2 Abstand: 2 Nachfrageabdeckung: 36\n",
            "Quadrand: 4/6 Abstand: 2 Nachfrageabdeckung: 8\n",
            "Quadrand: 4/10 Abstand: 6 Nachfrageabdeckung: 59\n",
            "Quadrand: 4/12 Abstand: 8 Nachfrageabdeckung: 36\n",
            "Quadrand: 5/0 Abstand: 5 Nachfrageabdeckung: 2\n",
            "Quadrand: 5/2 Abstand: 3 Nachfrageabdeckung: 34\n",
            "Quadrand: 5/3 Abstand: 2 Nachfrageabdeckung: 38\n",
            "Quadrand: 5/9 Abstand: 6 Nachfrageabdeckung: 12\n",
            "Quadrand: 6/1 Abstand: 5 Nachfrageabdeckung: 41\n",
            "Quadrand: 6/3 Abstand: 3 Nachfrageabdeckung: 1\n",
            "Quadrand: 7/10 Abstand: 9 Nachfrageabdeckung: 7\n",
            "Quadrand: 8/7 Abstand: 7 Nachfrageabdeckung: 40\n",
            "Quadrand: 8/9 Abstand: 9 Nachfrageabdeckung: 82\n",
            "Quadrand: 8/10 Abstand: 10 Nachfrageabdeckung: 3\n",
            "Quadrand: 9/0 Abstand: 9 Nachfrageabdeckung: 10\n",
            "Quadrand: 9/1 Abstand: 8 Nachfrageabdeckung: 38\n",
            "Quadrand: 9/2 Abstand: 7 Nachfrageabdeckung: 37\n",
            "Quadrand: 9/4 Abstand: 5 Nachfrageabdeckung: 16\n",
            "Quadrand: 9/5 Abstand: 6 Nachfrageabdeckung: 94\n",
            "Quadrand: 9/7 Abstand: 8 Nachfrageabdeckung: 67\n",
            "Quadrand: 9/11 Abstand: 12 Nachfrageabdeckung: 30\n",
            "Quadrand: 10/1 Abstand: 9 Nachfrageabdeckung: 35\n",
            "Quadrand: 10/4 Abstand: 6 Nachfrageabdeckung: 28\n",
            "Quadrand: 10/6 Abstand: 8 Nachfrageabdeckung: 90\n",
            "Quadrand: 11/8 Abstand: 11 Nachfrageabdeckung: 52\n",
            "Quadrand: 12/1 Abstand: 11 Nachfrageabdeckung: 10\n",
            "Quadrand: 12/2 Abstand: 10 Nachfrageabdeckung: 17\n",
            "Quadrand: 12/3 Abstand: 9 Nachfrageabdeckung: 42\n",
            "Quadrand: 12/6 Abstand: 10 Nachfrageabdeckung: 52\n",
            "Quadrand: 12/9 Abstand: 13 Nachfrageabdeckung: 13\n",
            "\n",
            "Nachfrageabdeckung durch Standort: 2250\n",
            "\n",
            "Nachfrageabdeckung insgesamt: 8575\n"
          ]
        }
      ]
    }
  ]
}